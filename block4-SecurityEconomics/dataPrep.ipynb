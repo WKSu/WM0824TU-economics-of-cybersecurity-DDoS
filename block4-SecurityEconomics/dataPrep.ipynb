{
 "cells": [
  {
   "cell_type": "code",
   "execution_count": 1,
   "metadata": {},
   "outputs": [],
   "source": [
    "import pandas as pd\n",
    "import numpy as np\n",
    "import matplotlib.pyplot as plt\n",
    "import seaborn as sns"
   ]
  },
  {
   "cell_type": "code",
   "execution_count": 2,
   "metadata": {},
   "outputs": [
    {
     "name": "stderr",
     "output_type": "stream",
     "text": [
      "C:\\ProgramData\\Anaconda3\\lib\\site-packages\\IPython\\core\\interactiveshell.py:3057: DtypeWarning: Columns (15,17,19,27) have mixed types. Specify dtype option on import or set low_memory=False.\n",
      "  interactivity=interactivity, compiler=compiler, result=result)\n"
     ]
    }
   ],
   "source": [
    "# data source: https://surfdrive.surf.nl/files/index.php/s/CZWfWQp3VKGKa8m\n",
    "df = pd.read_csv('data_with_ports.csv.gz', sep='|', compression='gzip')"
   ]
  },
  {
   "cell_type": "markdown",
   "metadata": {},
   "source": [
    "### Metadata (Cheung, 2017)\n",
    "\n",
    "| Column | Description |\n",
    "| ------ | ----------- |\n",
    "| `target_ip` | The IP address that has been targeted by a DDoS attack |\n",
    "| `date` | The date of attack |\n",
    "| `sensor_id` | The name of the honeypot that monitored the attack traffic |\n",
    "| `service` | The protocol that was used to execute the attack |\n",
    "| `start_time` | The start time of the attack |\n",
    "| `stop_time` | The stop time of the attack |\n",
    "| `duration` | Attack duration |\n",
    "| `pyasn_as` | The autonomous system number identifying which AS is routing traffic for the attacked IP |\n",
    "| `pyasn_as_bpg_size` | The total number of IP addresses that the AS routes |\n",
    "| `cc` | Short form of the country where the IP address seems to reside |\n",
    "| `as_type` | The type of the Autonomous system (could be ISP, Hosting, EDU, etc.) |\n",
    "| `tg_op` | A string identifier to ASes that are known to be Broadband ISPs |\n",
    "| `caida_type` | A type identifier for ASes based on different source (CAIDA) |\n",
    "| `dc` | The number of second level domains that have been observed to map to the attacked IP addresses in DNS traffic |\n",
    "| `subs` | The number of subscribers for those ASes that are known to be Broadband ISPs |\n",
    "| `as_ipsize_seen` | The total number of IP addresses of the AS that have been observed to be routed to IPs of the AS in DNS traffic |\n",
    "| `as_domainsize_seen` | The total number of second level domains that have been observed to be routed to IPs of the AS in DNS traffic |\n",
    "| `year` | The year of the attack |\n",
    "| `udp_port_list` | The ports that attack packets have been sent to | "
   ]
  },
  {
   "cell_type": "code",
   "execution_count": 3,
   "metadata": {},
   "outputs": [],
   "source": [
    "# parse string to datetime format\n",
    "df['date'] = pd.to_datetime(df['date'], format='%Y-%m-%d')\n",
    "df['start_time'] = pd.to_datetime(df['start_time'], format='%Y-%m-%dT%H:%M:%S+09:00')\n",
    "df['stop_time'] = pd.to_datetime(df['stop_time'], format='%Y-%m-%dT%H:%M:%S+09:00')"
   ]
  },
  {
   "cell_type": "code",
   "execution_count": 4,
   "metadata": {},
   "outputs": [],
   "source": [
    "# remove reserved ips\n",
    "\n",
    "reserved_ips = [\n",
    "    \"0.\",       # software\n",
    "    \"10.\",      # private network\n",
    "    \"100.\",     # private network\n",
    "    \"169.254.\", # subnet\n",
    "    \"172.\",     # private network\n",
    "    \"192.\"      # private network\n",
    "]\n",
    "\n",
    "for ips in reserved_ips:\n",
    "    df = df[~(df.org.isna() & df.target_ip.str.startswith(ips))]"
   ]
  },
  {
   "cell_type": "code",
   "execution_count": 5,
   "metadata": {},
   "outputs": [],
   "source": [
    "def convert_cidr_to_ipstartswith( cidr ):\n",
    "    '''converts cidr to ipv4 addresses (only for n<24)'''\n",
    "    firstIP, n = cidr.split(\"/\")\n",
    "    firstIP = firstIP.rstrip(\".0\").rsplit(\".\", 1)\n",
    "    i1, i2 = firstIP[0], int(firstIP[1])\n",
    "    ip_startswith = [i1 + \".\" + str(i2+j) for j in range(24-int(n)+1)]\n",
    "    return ip_startswith"
   ]
  },
  {
   "cell_type": "code",
   "execution_count": 6,
   "metadata": {},
   "outputs": [],
   "source": [
    "# source: https://www.cloudflare.com/ips/\n",
    "netblock_cloudflare = [\n",
    "    \"173.245.48.0/20\",\n",
    "    \"103.21.244.0/22\",\n",
    "    \"103.22.200.0/22\",\n",
    "    \"103.31.4.0/22\",\n",
    "    \"141.101.64.0/18\",\n",
    "    \"108.162.192.0/18\",\n",
    "    \"190.93.240.0/20\",\n",
    "    \"188.114.96.0/20\",\n",
    "    \"197.234.240.0/22\",\n",
    "    \"198.41.128.0/17\",\n",
    "    \"162.158.0.0/15\",\n",
    "    \"104.16.0.0/12\",\n",
    "    \"172.64.0.0/13\",\n",
    "    \"131.0.72.0/22\"\n",
    "]\n",
    "\n",
    "from itertools import chain\n",
    "ipstartswith_cloudflare = list(chain(*list(map(convert_cidr_to_ipstartswith, netblock_cloudflare))))"
   ]
  },
  {
   "cell_type": "code",
   "execution_count": 9,
   "metadata": {},
   "outputs": [
    {
     "name": "stdout",
     "output_type": "stream",
     "text": [
      "<class 'pandas.core.frame.DataFrame'>\n",
      "Int64Index: 5719250 entries, 0 to 5721431\n",
      "Data columns (total 35 columns):\n",
      "target_ip                 object\n",
      "date                      datetime64[ns]\n",
      "sensor_id                 object\n",
      "service                   object\n",
      "start_time                datetime64[ns]\n",
      "stop_time                 datetime64[ns]\n",
      "duration                  float64\n",
      "packets                   int64\n",
      "raw_country               object\n",
      "raw_as                    object\n",
      "raw_hostname              object\n",
      "udp_port_list             object\n",
      "pyasn_as                  float64\n",
      "pyasn_as_bgp_size         float64\n",
      "cc                        object\n",
      "region                    object\n",
      "is_oecd                   float64\n",
      "as_type                   object\n",
      "as_type_confidence        float64\n",
      "tg_op                     object\n",
      "org                       object\n",
      "org_range                 object\n",
      "org_rangesize             float64\n",
      "org_ipsize_seen           float64\n",
      "org_domainsize_seen       float64\n",
      "org_ipsize_seen_shared    float64\n",
      "org_is_hosting            float64\n",
      "org_tag                   object\n",
      "caida_type                object\n",
      "dc                        int64\n",
      "subs                      float64\n",
      "as_ipsize_seen            float64\n",
      "as_domainsize_seen        float64\n",
      "pps                       float64\n",
      "year                      int64\n",
      "dtypes: datetime64[ns](3), float64(14), int64(3), object(15)\n",
      "memory usage: 1.5+ GB\n"
     ]
    }
   ],
   "source": [
    "df.info()"
   ]
  },
  {
   "cell_type": "code",
   "execution_count": 7,
   "metadata": {},
   "outputs": [
    {
     "data": {
      "text/plain": [
       "CloudFlare                                           24138\n",
       "Time Warner Cable                                     5489\n",
       "Choopa, LLC                                           3859\n",
       "Global Frag Networks                                  2806\n",
       "AT&T U-verse                                          2227\n",
       "VolumeDrive                                           1588\n",
       "Digital Ocean                                         1191\n",
       "Cnservers LLC                                          932\n",
       "Frontier Communications                                877\n",
       "Psychz Networks                                        787\n",
       "ClearDDoS Technologies                                 741\n",
       "Enzu                                                   694\n",
       "Versaweb, LLC                                          562\n",
       "Google Cloud                                           526\n",
       "Sharktech                                              501\n",
       "Microsoft Azure                                        473\n",
       "Secured Servers LLC                                    446\n",
       "Linode                                                 442\n",
       "London Trust Media                                     423\n",
       "Spartan Host                                           333\n",
       "Total Server Solutions L.L.C.                          296\n",
       "Namecheap                                              286\n",
       "DataWagon LLC                                          280\n",
       "Optimum Online                                         270\n",
       "CubedHost, LLC                                         261\n",
       "GorillaServers                                         256\n",
       "QuickPacket, LLC                                       225\n",
       "IT7 Networks                                           219\n",
       "Wave Broadband                                         208\n",
       "EBL Global Networks                                    188\n",
       "                                                     ...  \n",
       "FirstDigital Communications, LLC                         2\n",
       "Server Acceleration LLC                                  2\n",
       "Corporate Colocation                                     2\n",
       "F5 Networks                                              2\n",
       "Execulink Telecom                                        2\n",
       "The North Frontenac Telephone Corporation Limited        2\n",
       "Amarillo Wireless                                        2\n",
       "Server Network Technologies                              2\n",
       "Telentia Enterprise Customer                             2\n",
       "Fairpoint Communications                                 2\n",
       "Cinergy Metronet                                         1\n",
       "Hiawatha Broadband Communications                        1\n",
       "Junichi Oyama                                            1\n",
       "Server Central Network                                   1\n",
       "23Media GmbH                                             1\n",
       "Nexcess.net L.L.C.                                       1\n",
       "AcenTek                                                  1\n",
       "Astound Broadband LLC                                    1\n",
       "TelePacific Communications                               1\n",
       "Trans-Video                                              1\n",
       "Cloudddos Technology Co.,limited                         1\n",
       "CNS Internet                                             1\n",
       "MTS Allstream                                            1\n",
       "Consolidated Telcom                                      1\n",
       "Interserver                                              1\n",
       "Whdot LLC                                                1\n",
       "Host Virtual                                             1\n",
       "SpeedyNet                                                1\n",
       "ServerHub Big Data Virtualization                        1\n",
       "enginet                                                  1\n",
       "Name: org, Length: 209, dtype: int64"
      ]
     },
     "execution_count": 7,
     "metadata": {},
     "output_type": "execute_result"
    }
   ],
   "source": [
    "df[df.target_ip.str.startswith(tuple(ipstartswith_cloudflare))].org.value_counts()"
   ]
  },
  {
   "cell_type": "code",
   "execution_count": 18,
   "metadata": {},
   "outputs": [
    {
     "data": {
      "text/plain": [
       "cdn              24148\n",
       "isp-broadband     7945\n",
       "hosting           5162\n",
       "isp-other          428\n",
       "edu                 41\n",
       "isp-mobile          35\n",
       "other                7\n",
       "Name: org_tag, dtype: int64"
      ]
     },
     "execution_count": 18,
     "metadata": {},
     "output_type": "execute_result"
    }
   ],
   "source": [
    "df[df.target_ip.str.startswith(tuple(ipstartswith_cloudflare))].org_tag.value_counts()"
   ]
  },
  {
   "cell_type": "code",
   "execution_count": 10,
   "metadata": {},
   "outputs": [
    {
     "data": {
      "text/plain": [
       "Comcast Cable                                       254202\n",
       "Hangzhou Alibaba Advertising Co.,Ltd.               167254\n",
       "Time Warner Cable                                   158270\n",
       "Guangdong                                           149305\n",
       "OVH SAS                                             143735\n",
       "AT&T U-verse                                        116836\n",
       "Aliyun Computing Co., LTD                           100982\n",
       "China Telecom jiangsu province backbone              92592\n",
       "Hostspace Networks LLC                               87206\n",
       "OVH Hosting                                          85942\n",
       "Verizon FiOS                                         79356\n",
       "Charter Communications                               69577\n",
       "Cox Communications                                   67630\n",
       "Sharktech                                            65325\n",
       "Orange                                               55370\n",
       "Choopa, LLC                                          55041\n",
       "Virgin Media                                         54543\n",
       "NSS S.A.                                             52311\n",
       "Free SAS                                             49343\n",
       "CenturyLink                                          46711\n",
       "Telstra Internet                                     44960\n",
       "Staminus Communications                              41643\n",
       "China Telecom Shaoxing                               40551\n",
       "SFR                                                  40414\n",
       "China Unicom Shandong                                39320\n",
       "Sky Broadband                                        39196\n",
       "BT                                                   36796\n",
       "China Unicom Liaoning                                36748\n",
       "China Telecom Shanghai                               35905\n",
       "Deutsche Telekom AG                                  35291\n",
       "                                                     ...  \n",
       "Rockbridge Global Village                                1\n",
       "Global Virtual Opportunities                             1\n",
       "Operadora De Nuevos Sistemas De Comunicacion Slu         1\n",
       "Suvoz Global Services S.l.                               1\n",
       "Ball Memorial Hospital                                   1\n",
       "Iowa Valley Community College                            1\n",
       "Regional De Cooperativas De Servicios Publicos           1\n",
       "Tellcom ADSL Ist-Anadolu                                 1\n",
       "Chinese Culture University                               1\n",
       "US Embassy/Anglo-American School of Moscow               1\n",
       "Pombonet Telecomunicações e Informática                  1\n",
       "Blue Bridge Networks                                     1\n",
       "Mega Access GmbH                                         1\n",
       "SCT Schiele GmbH                                         1\n",
       "EDIS Infrastructure in the Netherlands                   1\n",
       "San Isidro PeÑas Blancas                                 1\n",
       "Southeast University                                     1\n",
       "Freeport McMoRan Copper & Gold                           1\n",
       "The Thacher School                                       1\n",
       "Brand Institute                                          1\n",
       "Riversid High School                                     1\n",
       "Connexeon                                                1\n",
       "Riverain Limited Partnership/                            1\n",
       "Star Ark International Pte Ltd                           1\n",
       "Deere & Company                                          1\n",
       "K-net Telekommunikation GmbH                             1\n",
       "sxyq-yangquan2-BAS                                       1\n",
       "Ultra Ltd.                                               1\n",
       "Slbh/setar Aruba                                         1\n",
       "CSC TK TOR                                               1\n",
       "Name: org, Length: 24131, dtype: int64"
      ]
     },
     "execution_count": 10,
     "metadata": {},
     "output_type": "execute_result"
    }
   ],
   "source": [
    "df.org.value_counts()"
   ]
  },
  {
   "cell_type": "code",
   "execution_count": 16,
   "metadata": {},
   "outputs": [
    {
     "data": {
      "text/plain": [
       "Amazon.com                                            26433\n",
       "AMAZON                                                 3612\n",
       "Amazon Technologies                                    1779\n",
       "Amazon.com Tech Telecom                                 939\n",
       "Amazon                                                  440\n",
       "Amazon Web Services, Elastic Compute Cloud, EC2, E      297\n",
       "Amazon Data Services Ireland Ltd                         61\n",
       "Amazon Web Services, Elastic Compute Cloud, EC2, J       16\n",
       "Amazon AWS Services - Cloudfront - LHR                   10\n",
       "Amazon AWS Services - Cloudfront - FRA                    7\n",
       "Amazon AWS Services - Cloudfront - DUB                    3\n",
       "Amazon Web Services, Elastic Compute Cloud, EC2, S        2\n",
       "Amazon AWS Services - Cloudfront - AMS                    2\n",
       "PRODAM Processamento de Dados Amazonas S.A                1\n",
       "Name: org, dtype: int64"
      ]
     },
     "execution_count": 16,
     "metadata": {},
     "output_type": "execute_result"
    }
   ],
   "source": [
    "df[df.org.str.contains(\"amazon\", case=False, na=False)].org.value_counts()"
   ]
  },
  {
   "cell_type": "code",
   "execution_count": null,
   "metadata": {},
   "outputs": [],
   "source": []
  }
 ],
 "metadata": {
  "kernelspec": {
   "display_name": "Python 3",
   "language": "python",
   "name": "python3"
  },
  "language_info": {
   "codemirror_mode": {
    "name": "ipython",
    "version": 3
   },
   "file_extension": ".py",
   "mimetype": "text/x-python",
   "name": "python",
   "nbconvert_exporter": "python",
   "pygments_lexer": "ipython3",
   "version": "3.7.3"
  }
 },
 "nbformat": 4,
 "nbformat_minor": 4
}
