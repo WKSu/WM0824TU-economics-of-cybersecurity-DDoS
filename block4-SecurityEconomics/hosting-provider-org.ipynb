{
 "cells": [
  {
   "cell_type": "code",
   "execution_count": 1,
   "metadata": {},
   "outputs": [],
   "source": [
    "import pandas as pd\n",
    "import numpy as np\n",
    "import matplotlib.pyplot as plt\n",
    "import seaborn as sns"
   ]
  },
  {
   "cell_type": "markdown",
   "metadata": {},
   "source": [
    "## Data preparation"
   ]
  },
  {
   "cell_type": "code",
   "execution_count": 2,
   "metadata": {},
   "outputs": [
    {
     "name": "stderr",
     "output_type": "stream",
     "text": [
      "C:\\Users\\Hsin\\.conda\\envs\\venvCyber\\lib\\site-packages\\IPython\\core\\interactiveshell.py:3058: DtypeWarning: Columns (15,17,19,27) have mixed types. Specify dtype option on import or set low_memory=False.\n",
      "  interactivity=interactivity, compiler=compiler, result=result)\n"
     ]
    }
   ],
   "source": [
    "# data source: https://surfdrive.surf.nl/files/index.php/s/CZWfWQp3VKGKa8m\n",
    "df = pd.read_csv('data_with_ports.csv.gz', sep='|', compression='gzip')"
   ]
  },
  {
   "cell_type": "code",
   "execution_count": 3,
   "metadata": {},
   "outputs": [],
   "source": [
    "# parse string to datetime format\n",
    "df['date'] = pd.to_datetime(df['date'], format='%Y-%m-%d')\n",
    "df['start_time'] = pd.to_datetime(df['start_time'], format='%Y-%m-%dT%H:%M:%S+09:00')\n",
    "df['stop_time'] = pd.to_datetime(df['stop_time'], format='%Y-%m-%dT%H:%M:%S+09:00')"
   ]
  },
  {
   "cell_type": "code",
   "execution_count": 4,
   "metadata": {},
   "outputs": [],
   "source": [
    "# remove reserved ips\n",
    "reserved_ips = [\n",
    "    \"0.\",       # software\n",
    "    \"10.\",      # private network\n",
    "    \"100.\",     # private network\n",
    "    \"169.254.\", # subnet\n",
    "    \"172.\",     # private network\n",
    "    \"192.\"      # private network\n",
    "]\n",
    "\n",
    "df = df[~(df.org.isna() & df.target_ip.str.startswith(tuple(reserved_ips)))]"
   ]
  },
  {
   "cell_type": "code",
   "execution_count": 5,
   "metadata": {},
   "outputs": [],
   "source": [
    "# subset victim data of hosting providers\n",
    "hp = df.loc[df.as_type == \"hosting\"]"
   ]
  },
  {
   "cell_type": "code",
   "execution_count": 6,
   "metadata": {},
   "outputs": [
    {
     "data": {
      "text/plain": [
       "target_ip                                                    159.100.177.47\n",
       "date                                                    2015-10-07 00:00:00\n",
       "sensor_id                                                         sensor003\n",
       "service                                                                 dns\n",
       "start_time                                              2015-10-07 13:33:06\n",
       "stop_time                                               2015-10-07 14:32:42\n",
       "duration                                                               3576\n",
       "packets                                                               15233\n",
       "raw_country                                                   United States\n",
       "raw_as                                  AS36351 SoftLayer Technologies Inc.\n",
       "raw_hostname                               r1-hongkong.webserversystems.com\n",
       "udp_port_list                                                      [140414]\n",
       "pyasn_as                                                              36351\n",
       "pyasn_as_bgp_size                                               1.66963e+06\n",
       "cc                                                                       US\n",
       "region                                                                  NaN\n",
       "is_oecd                                                                   1\n",
       "as_type                                                             hosting\n",
       "as_type_confidence                                                        2\n",
       "tg_op                                                                   NaN\n",
       "org                                                  SoftLayer Technologies\n",
       "org_range                 (2927345216, 2927347935)-(2001818464, 20018184...\n",
       "org_rangesize                                                   1.86998e+06\n",
       "org_ipsize_seen                                                      141879\n",
       "org_domainsize_seen                                                  541501\n",
       "org_ipsize_seen_shared                                                 4944\n",
       "org_is_hosting                                                            1\n",
       "org_tag                                                             hosting\n",
       "caida_type                                                          Content\n",
       "dc                                                                      144\n",
       "subs                                                                    NaN\n",
       "as_ipsize_seen                                                       542087\n",
       "as_domainsize_seen                                              3.38404e+06\n",
       "pps                                                                 4.25979\n",
       "year                                                                   2015\n",
       "Name: 2254548, dtype: object"
      ]
     },
     "execution_count": 6,
     "metadata": {},
     "output_type": "execute_result"
    }
   ],
   "source": [
    "from random import randint\n",
    "\n",
    "hp.iloc[randint(0, len(hp))]"
   ]
  },
  {
   "cell_type": "code",
   "execution_count": 7,
   "metadata": {},
   "outputs": [
    {
     "name": "stderr",
     "output_type": "stream",
     "text": [
      "C:\\Users\\Hsin\\.conda\\envs\\venvCyber\\lib\\site-packages\\pandas\\core\\indexing.py:494: SettingWithCopyWarning: \n",
      "A value is trying to be set on a copy of a slice from a DataFrame.\n",
      "Try using .loc[row_indexer,col_indexer] = value instead\n",
      "\n",
      "See the caveats in the documentation: http://pandas.pydata.org/pandas-docs/stable/user_guide/indexing.html#returning-a-view-versus-a-copy\n",
      "  self.obj[item] = s\n"
     ]
    }
   ],
   "source": [
    "# fix NaNs in `regions` data for victims that reside in United States and Canada\n",
    "hp.loc[hp.raw_country.str.contains(\"United States|Cananda\"), \"region\"] = \"NA\" # NA = North America"
   ]
  },
  {
   "cell_type": "code",
   "execution_count": 8,
   "metadata": {},
   "outputs": [],
   "source": [
    "# victim org         = org\n",
    "# size of victims    = org_ipsize_seen\n",
    "# type of victim     = org_tag\n",
    "# country victim     = raw_country\n",
    "# network hygiene    = count_attacks_2014\n",
    "# dependent variable = count_attacks\n",
    "\n",
    "orgs = (hp.groupby(by=[\"org\", \"org_ipsize_seen\", \"org_tag\", \"raw_country\", \"region\", \"year\"])\n",
    "          .size().unstack().add_prefix(\"count_attack_\")\n",
    "          .fillna(0))\n",
    "\n",
    "orgs.reset_index(inplace=True)\n",
    "orgs.columns = orgs.columns.tolist()\n",
    "\n",
    "orgs[\"count_attack\"] = orgs.filter(regex=\"^count_attack\").sum(axis=1)\n",
    "orgs[\"count_attack_norm\"] = orgs.count_attack / orgs.org_ipsize_seen\n",
    "\n",
    "orgs.raw_country = orgs.raw_country.apply(lambda s: s.replace(\"<comma>\", \",\"))\n",
    "\n",
    "# remove companies that received just 1 attack, as we assume the first attack was only a trial\n",
    "orgs = orgs[orgs.count_attack > 1]"
   ]
  },
  {
   "cell_type": "markdown",
   "metadata": {},
   "source": [
    "#### ITU ICT index"
   ]
  },
  {
   "cell_type": "code",
   "execution_count": 9,
   "metadata": {},
   "outputs": [],
   "source": [
    "# https://tcdata360.worldbank.org/indicators/h2e1ddd20\n",
    "itu_index = pd.read_csv(\"ITU-ICT-index.csv\")\n",
    "\n",
    "# fix naming mismatch for \"Slovakia\" and \"Korea, Republic of\"\n",
    "itu_index.loc[itu_index.Country.str.contains(\"Korea\"), \"Country\"] = \"Korea, Republic of\"\n",
    "itu_index.loc[itu_index.Country.str.contains(\"Slovak\"), \"Country\"] = \"Slovakia\"\n",
    "\n",
    "orgs = pd.merge(orgs, itu_index, how=\"left\", \n",
    "                left_on=\"raw_country\", right_on=\"Country\").drop(columns=[\"Country\"])"
   ]
  },
  {
   "cell_type": "markdown",
   "metadata": {},
   "source": [
    "#### Export data"
   ]
  },
  {
   "cell_type": "code",
   "execution_count": 10,
   "metadata": {},
   "outputs": [],
   "source": [
    "orgs.to_csv(\"orgs.csv\")"
   ]
  },
  {
   "cell_type": "code",
   "execution_count": 11,
   "metadata": {},
   "outputs": [
    {
     "data": {
      "text/html": [
       "<div>\n",
       "<style scoped>\n",
       "    .dataframe tbody tr th:only-of-type {\n",
       "        vertical-align: middle;\n",
       "    }\n",
       "\n",
       "    .dataframe tbody tr th {\n",
       "        vertical-align: top;\n",
       "    }\n",
       "\n",
       "    .dataframe thead th {\n",
       "        text-align: right;\n",
       "    }\n",
       "</style>\n",
       "<table border=\"1\" class=\"dataframe\">\n",
       "  <thead>\n",
       "    <tr style=\"text-align: right;\">\n",
       "      <th></th>\n",
       "      <th>org</th>\n",
       "      <th>org_ipsize_seen</th>\n",
       "      <th>org_tag</th>\n",
       "      <th>raw_country</th>\n",
       "      <th>region</th>\n",
       "      <th>count_attack_2014</th>\n",
       "      <th>count_attack_2015</th>\n",
       "      <th>count_attack</th>\n",
       "      <th>count_attack_norm</th>\n",
       "      <th>ITU-ICT</th>\n",
       "    </tr>\n",
       "  </thead>\n",
       "  <tbody>\n",
       "    <tr>\n",
       "      <td>0</td>\n",
       "      <td>1&amp;1 Internet</td>\n",
       "      <td>73813.0</td>\n",
       "      <td>hosting</td>\n",
       "      <td>Germany</td>\n",
       "      <td>WE</td>\n",
       "      <td>0.0</td>\n",
       "      <td>4.0</td>\n",
       "      <td>4.0</td>\n",
       "      <td>0.000054</td>\n",
       "      <td>8.1</td>\n",
       "    </tr>\n",
       "    <tr>\n",
       "      <td>1</td>\n",
       "      <td>1&amp;1 Internet</td>\n",
       "      <td>73813.0</td>\n",
       "      <td>hosting</td>\n",
       "      <td>United States</td>\n",
       "      <td>NA</td>\n",
       "      <td>189.0</td>\n",
       "      <td>634.0</td>\n",
       "      <td>823.0</td>\n",
       "      <td>0.011150</td>\n",
       "      <td>8.1</td>\n",
       "    </tr>\n",
       "    <tr>\n",
       "      <td>2</td>\n",
       "      <td>1&amp;1 Internet AG</td>\n",
       "      <td>181901.0</td>\n",
       "      <td>hosting</td>\n",
       "      <td>Germany</td>\n",
       "      <td>WE</td>\n",
       "      <td>539.0</td>\n",
       "      <td>2135.0</td>\n",
       "      <td>2674.0</td>\n",
       "      <td>0.014700</td>\n",
       "      <td>8.1</td>\n",
       "    </tr>\n",
       "    <tr>\n",
       "      <td>3</td>\n",
       "      <td>104319 Jays Webworks</td>\n",
       "      <td>5.0</td>\n",
       "      <td>hosting</td>\n",
       "      <td>United States</td>\n",
       "      <td>NA</td>\n",
       "      <td>2.0</td>\n",
       "      <td>0.0</td>\n",
       "      <td>2.0</td>\n",
       "      <td>0.400000</td>\n",
       "      <td>8.1</td>\n",
       "    </tr>\n",
       "    <tr>\n",
       "      <td>4</td>\n",
       "      <td>10Hosting</td>\n",
       "      <td>109.0</td>\n",
       "      <td>hosting</td>\n",
       "      <td>United States</td>\n",
       "      <td>NA</td>\n",
       "      <td>0.0</td>\n",
       "      <td>413.0</td>\n",
       "      <td>413.0</td>\n",
       "      <td>3.788991</td>\n",
       "      <td>8.1</td>\n",
       "    </tr>\n",
       "    <tr>\n",
       "      <td>...</td>\n",
       "      <td>...</td>\n",
       "      <td>...</td>\n",
       "      <td>...</td>\n",
       "      <td>...</td>\n",
       "      <td>...</td>\n",
       "      <td>...</td>\n",
       "      <td>...</td>\n",
       "      <td>...</td>\n",
       "      <td>...</td>\n",
       "      <td>...</td>\n",
       "    </tr>\n",
       "    <tr>\n",
       "      <td>856</td>\n",
       "      <td>webcode ltd</td>\n",
       "      <td>37.0</td>\n",
       "      <td>hosting</td>\n",
       "      <td>United States</td>\n",
       "      <td>NA</td>\n",
       "      <td>0.0</td>\n",
       "      <td>20.0</td>\n",
       "      <td>20.0</td>\n",
       "      <td>0.540541</td>\n",
       "      <td>8.1</td>\n",
       "    </tr>\n",
       "    <tr>\n",
       "      <td>857</td>\n",
       "      <td>webserver-a-rackshack.directi.com</td>\n",
       "      <td>45.0</td>\n",
       "      <td>hosting</td>\n",
       "      <td>United States</td>\n",
       "      <td>NA</td>\n",
       "      <td>1.0</td>\n",
       "      <td>118.0</td>\n",
       "      <td>119.0</td>\n",
       "      <td>2.644444</td>\n",
       "      <td>8.1</td>\n",
       "    </tr>\n",
       "    <tr>\n",
       "      <td>858</td>\n",
       "      <td>webserverwelcome.com</td>\n",
       "      <td>16.0</td>\n",
       "      <td>hosting</td>\n",
       "      <td>United States</td>\n",
       "      <td>NA</td>\n",
       "      <td>1.0</td>\n",
       "      <td>4.0</td>\n",
       "      <td>5.0</td>\n",
       "      <td>0.312500</td>\n",
       "      <td>8.1</td>\n",
       "    </tr>\n",
       "    <tr>\n",
       "      <td>859</td>\n",
       "      <td>xfreesoft</td>\n",
       "      <td>5.0</td>\n",
       "      <td>hosting</td>\n",
       "      <td>United States</td>\n",
       "      <td>NA</td>\n",
       "      <td>11.0</td>\n",
       "      <td>18.0</td>\n",
       "      <td>29.0</td>\n",
       "      <td>5.800000</td>\n",
       "      <td>8.1</td>\n",
       "    </tr>\n",
       "    <tr>\n",
       "      <td>860</td>\n",
       "      <td>xu zhang wei</td>\n",
       "      <td>6.0</td>\n",
       "      <td>hosting</td>\n",
       "      <td>United States</td>\n",
       "      <td>NA</td>\n",
       "      <td>0.0</td>\n",
       "      <td>20.0</td>\n",
       "      <td>20.0</td>\n",
       "      <td>3.333333</td>\n",
       "      <td>8.1</td>\n",
       "    </tr>\n",
       "  </tbody>\n",
       "</table>\n",
       "<p>861 rows × 10 columns</p>\n",
       "</div>"
      ],
      "text/plain": [
       "                                   org  org_ipsize_seen  org_tag  \\\n",
       "0                         1&1 Internet          73813.0  hosting   \n",
       "1                         1&1 Internet          73813.0  hosting   \n",
       "2                      1&1 Internet AG         181901.0  hosting   \n",
       "3                 104319 Jays Webworks              5.0  hosting   \n",
       "4                            10Hosting            109.0  hosting   \n",
       "..                                 ...              ...      ...   \n",
       "856                        webcode ltd             37.0  hosting   \n",
       "857  webserver-a-rackshack.directi.com             45.0  hosting   \n",
       "858               webserverwelcome.com             16.0  hosting   \n",
       "859                          xfreesoft              5.0  hosting   \n",
       "860                       xu zhang wei              6.0  hosting   \n",
       "\n",
       "       raw_country region  count_attack_2014  count_attack_2015  count_attack  \\\n",
       "0          Germany     WE                0.0                4.0           4.0   \n",
       "1    United States     NA              189.0              634.0         823.0   \n",
       "2          Germany     WE              539.0             2135.0        2674.0   \n",
       "3    United States     NA                2.0                0.0           2.0   \n",
       "4    United States     NA                0.0              413.0         413.0   \n",
       "..             ...    ...                ...                ...           ...   \n",
       "856  United States     NA                0.0               20.0          20.0   \n",
       "857  United States     NA                1.0              118.0         119.0   \n",
       "858  United States     NA                1.0                4.0           5.0   \n",
       "859  United States     NA               11.0               18.0          29.0   \n",
       "860  United States     NA                0.0               20.0          20.0   \n",
       "\n",
       "     count_attack_norm  ITU-ICT  \n",
       "0             0.000054      8.1  \n",
       "1             0.011150      8.1  \n",
       "2             0.014700      8.1  \n",
       "3             0.400000      8.1  \n",
       "4             3.788991      8.1  \n",
       "..                 ...      ...  \n",
       "856           0.540541      8.1  \n",
       "857           2.644444      8.1  \n",
       "858           0.312500      8.1  \n",
       "859           5.800000      8.1  \n",
       "860           3.333333      8.1  \n",
       "\n",
       "[861 rows x 10 columns]"
      ]
     },
     "execution_count": 11,
     "metadata": {},
     "output_type": "execute_result"
    }
   ],
   "source": [
    "orgs"
   ]
  },
  {
   "cell_type": "markdown",
   "metadata": {},
   "source": [
    "## Visualisation"
   ]
  },
  {
   "cell_type": "code",
   "execution_count": 12,
   "metadata": {},
   "outputs": [],
   "source": [
    "# color the boxplots per region\n",
    "regions = orgs.region.unique()\n",
    "raw_countries = orgs.sort_values(by=[\"region\", \"raw_country\"]).raw_country.unique()\n",
    "colors = {regions[i] : sns.color_palette(n_colors=len(regions))[i] for i in range(len(regions))}\n",
    "\n",
    "# repalce abbrs with fullname\n",
    "regions_f = [\"Western Europe\",   # WE\n",
    "             \"North America\",    # NA\n",
    "             \"Asian Pacific\",    # AP\n",
    "             \"Eastern Europe\",   # EE\n",
    "             \"Latin America\",    # LC\n",
    "             \"Middle East\",      # ME\n",
    "             \"Africa\" ]          # AF"
   ]
  },
  {
   "cell_type": "code",
   "execution_count": 13,
   "metadata": {},
   "outputs": [
    {
     "data": {
      "image/png": "[encoded data removed]",
      "text/plain": [
       "<Figure size 576x864 with 41 Axes>"
      ]
     },
     "metadata": {
      "needs_background": "light"
     },
     "output_type": "display_data"
    }
   ],
   "source": [
    "import matplotlib.patches as mpatches\n",
    "\n",
    "# plot per country\n",
    "fig, ax = plt.subplots(len(raw_countries), figsize=(8,12), sharex=True)\n",
    "\n",
    "for i in range(len(raw_countries)):\n",
    "    region = orgs.region[orgs.raw_country == raw_countries[i]].values[0]\n",
    "    sns.boxplot(x=\"count_attack\", y=\"raw_country\", orient=\"h\", color=colors[region],\n",
    "                data=orgs.sort_values(by=[\"region\", \"raw_country\"]).loc[orgs.raw_country == raw_countries[i]], ax=ax[i])  \n",
    "    \n",
    "    # formatting axis\n",
    "    ax[i].set_ylabel(\"\")\n",
    "    ax[i].set_xlabel(\"\")\n",
    "    ax[i].spines[\"top\"].set_visible(False)\n",
    "    ax[i].spines[\"bottom\"].set_visible(False)\n",
    "    ax[i].tick_params(axis='both', which='both', length=0)\n",
    "    \n",
    "ax[i].set(xscale=\"log\")\n",
    "ax[0].spines[\"top\"].set_visible(True)\n",
    "ax[i].spines[\"bottom\"].set_visible(True)\n",
    "ax[i].set_xlabel(\"Occurrence of attack against victims\")\n",
    "plt.legend(handles=[mpatches.Patch(color=colors[regions[i]], label=regions_f[i]) \n",
    "                    for i in range(len(regions))], bbox_to_anchor=(1., 1.2*len(raw_countries)),\n",
    "          title=\"Region\")\n",
    "\n",
    "fig.savefig(\"images/attack-by-country.png\")"
   ]
  },
  {
   "cell_type": "code",
   "execution_count": null,
   "metadata": {},
   "outputs": [],
   "source": []
  }
 ],
 "metadata": {
  "kernelspec": {
   "display_name": "Python 3",
   "language": "python",
   "name": "python3"
  },
  "language_info": {
   "codemirror_mode": {
    "name": "ipython",
    "version": 3
   },
   "file_extension": ".py",
   "mimetype": "text/x-python",
   "name": "python",
   "nbconvert_exporter": "python",
   "pygments_lexer": "ipython3",
   "version": "3.7.4"
  }
 },
 "nbformat": 4,
 "nbformat_minor": 4
}
