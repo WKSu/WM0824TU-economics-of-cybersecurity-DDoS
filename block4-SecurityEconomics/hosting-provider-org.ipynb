{
 "cells": [
  {
   "cell_type": "code",
   "execution_count": null,
   "metadata": {},
   "outputs": [],
   "source": [
    "import pandas as pd"
   ]
  },
  {
   "cell_type": "markdown",
   "metadata": {},
   "source": [
    "## Data preparation"
   ]
  },
  {
   "cell_type": "code",
   "execution_count": null,
   "metadata": {},
   "outputs": [],
   "source": [
    "# data source: https://surfdrive.surf.nl/files/index.php/s/CZWfWQp3VKGKa8m\n",
    "df = pd.read_csv('data_with_ports.csv.gz', sep='|', compression='gzip')"
   ]
  },
  {
   "cell_type": "code",
   "execution_count": null,
   "metadata": {},
   "outputs": [],
   "source": [
    "# parse string to datetime format\n",
    "df['date'] = pd.to_datetime(df['date'], format='%Y-%m-%d')\n",
    "df['start_time'] = pd.to_datetime(df['start_time'], format='%Y-%m-%dT%H:%M:%S+09:00')\n",
    "df['stop_time'] = pd.to_datetime(df['stop_time'], format='%Y-%m-%dT%H:%M:%S+09:00')"
   ]
  },
  {
   "cell_type": "code",
   "execution_count": null,
   "metadata": {},
   "outputs": [],
   "source": [
    "# remove reserved ips\n",
    "reserved_ips = [\n",
    "    \"0.\",       # software\n",
    "    \"10.\",      # private network\n",
    "    \"100.\",     # private network\n",
    "    \"169.254.\", # subnet\n",
    "    \"172.\",     # private network\n",
    "    \"192.\"      # private network\n",
    "]\n",
    "\n",
    "df = df[~(df.org.isna() & df.target_ip.str.startswith(tuple(reserved_ips)))]"
   ]
  },
  {
   "cell_type": "code",
   "execution_count": null,
   "metadata": {},
   "outputs": [],
   "source": [
    "# subset victim data of hosting providers\n",
    "hp = df.loc[df.as_type == \"hosting\"]"
   ]
  },
  {
   "cell_type": "code",
   "execution_count": null,
   "metadata": {},
   "outputs": [],
   "source": [
    "from random import randint\n",
    "\n",
    "hp.iloc[randint(0, len(hp))]"
   ]
  },
  {
   "cell_type": "code",
   "execution_count": null,
   "metadata": {},
   "outputs": [],
   "source": [
    "# fix NaNs in `regions` data for victims that reside in United States and Canada\n",
    "hp.loc[hp.raw_country.str.contains(\"United States|Cananda\"), \"region\"] = \"NA\" # NA = North America"
   ]
  },
  {
   "cell_type": "code",
   "execution_count": null,
   "metadata": {},
   "outputs": [],
   "source": [
    "# victim org         = org\n",
    "# size of victims    = org_ipsize_seen\n",
    "# type of victim     = org_tag\n",
    "# country victim     = raw_country\n",
    "# network hygiene    = count_attacks_2014\n",
    "# dependent variable = count_attacks\n",
    "\n",
    "orgs = (hp.groupby(by=[\"org\", \"org_ipsize_seen\", \"org_tag\", \"raw_country\", \"region\", \"year\"])\n",
    "          .size().unstack().add_prefix(\"count_attack_\")\n",
    "          .fillna(0))\n",
    "\n",
    "orgs.reset_index(inplace=True)\n",
    "orgs.columns = orgs.columns.tolist()\n",
    "\n",
    "orgs[\"count_attack\"] = orgs.filter(regex=\"^count_attack\").sum(axis=1)\n",
    "orgs[\"count_attack_norm\"] = orgs.count_attack / orgs.org_ipsize_seen\n",
    "\n",
    "orgs.raw_country = orgs.raw_country.apply(lambda s: s.replace(\"<comma>\", \",\"))\n",
    "\n",
    "# remove companies that received just 1 attack, as we assume the first attack was only a trial\n",
    "orgs = orgs[orgs.count_attack > 1]"
   ]
  },
  {
   "cell_type": "markdown",
   "metadata": {},
   "source": [
    "#### ITU ICT index"
   ]
  },
  {
   "cell_type": "code",
   "execution_count": null,
   "metadata": {},
   "outputs": [],
   "source": [
    "# https://tcdata360.worldbank.org/indicators/h2e1ddd20\n",
    "itu_index = pd.read_csv(\"ITU-ICT-index.csv\")\n",
    "\n",
    "# fix naming mismatch for \"Slovakia\" and \"Korea, Republic of\"\n",
    "itu_index.loc[itu_index.Country.str.contains(\"Korea\"), \"Country\"] = \"Korea, Republic of\"\n",
    "itu_index.loc[itu_index.Country.str.contains(\"Slovak\"), \"Country\"] = \"Slovakia\"\n",
    "\n",
    "orgs = pd.merge(orgs, itu_index, how=\"left\", \n",
    "                left_on=\"raw_country\", right_on=\"Country\").drop(columns=[\"Country\"])"
   ]
  },
  {
   "cell_type": "markdown",
   "metadata": {},
   "source": [
    "#### Export data"
   ]
  },
  {
   "cell_type": "code",
   "execution_count": null,
   "metadata": {},
   "outputs": [],
   "source": [
    "orgs.to_csv(\"orgs.csv\")"
   ]
  },
  {
   "cell_type": "code",
   "execution_count": null,
   "metadata": {},
   "outputs": [],
   "source": [
    "orgs"
   ]
  },
  {
   "cell_type": "markdown",
   "metadata": {},
   "source": [
    "## Visualisation"
   ]
  },
  {
   "cell_type": "code",
   "execution_count": 1,
   "metadata": {},
   "outputs": [],
   "source": [
    "import pandas as pd\n",
    "import numpy as np\n",
    "import matplotlib.pyplot as plt\n",
    "import seaborn as sns"
   ]
  },
  {
   "cell_type": "code",
   "execution_count": 2,
   "metadata": {},
   "outputs": [],
   "source": [
    "orgs = pd.read_csv(\"orgs.csv\")"
   ]
  },
  {
   "cell_type": "code",
   "execution_count": 3,
   "metadata": {},
   "outputs": [
    {
     "data": {
      "text/html": [
       "<div>\n",
       "<style scoped>\n",
       "    .dataframe tbody tr th:only-of-type {\n",
       "        vertical-align: middle;\n",
       "    }\n",
       "\n",
       "    .dataframe tbody tr th {\n",
       "        vertical-align: top;\n",
       "    }\n",
       "\n",
       "    .dataframe thead th {\n",
       "        text-align: right;\n",
       "    }\n",
       "</style>\n",
       "<table border=\"1\" class=\"dataframe\">\n",
       "  <thead>\n",
       "    <tr style=\"text-align: right;\">\n",
       "      <th></th>\n",
       "      <th>Unnamed: 0</th>\n",
       "      <th>org</th>\n",
       "      <th>org_ipsize_seen</th>\n",
       "      <th>org_tag</th>\n",
       "      <th>raw_country</th>\n",
       "      <th>region</th>\n",
       "      <th>count_attack_2014</th>\n",
       "      <th>count_attack_2015</th>\n",
       "      <th>count_attack</th>\n",
       "      <th>count_attack_norm</th>\n",
       "      <th>ITU-ICT</th>\n",
       "    </tr>\n",
       "  </thead>\n",
       "  <tbody>\n",
       "    <tr>\n",
       "      <td>0</td>\n",
       "      <td>0</td>\n",
       "      <td>1&amp;1 Internet</td>\n",
       "      <td>73813.0</td>\n",
       "      <td>hosting</td>\n",
       "      <td>Germany</td>\n",
       "      <td>WE</td>\n",
       "      <td>0.0</td>\n",
       "      <td>4.0</td>\n",
       "      <td>4.0</td>\n",
       "      <td>0.000054</td>\n",
       "      <td>8.1</td>\n",
       "    </tr>\n",
       "    <tr>\n",
       "      <td>1</td>\n",
       "      <td>1</td>\n",
       "      <td>1&amp;1 Internet</td>\n",
       "      <td>73813.0</td>\n",
       "      <td>hosting</td>\n",
       "      <td>United States</td>\n",
       "      <td>NaN</td>\n",
       "      <td>189.0</td>\n",
       "      <td>634.0</td>\n",
       "      <td>823.0</td>\n",
       "      <td>0.011150</td>\n",
       "      <td>8.1</td>\n",
       "    </tr>\n",
       "    <tr>\n",
       "      <td>2</td>\n",
       "      <td>2</td>\n",
       "      <td>1&amp;1 Internet AG</td>\n",
       "      <td>181901.0</td>\n",
       "      <td>hosting</td>\n",
       "      <td>Germany</td>\n",
       "      <td>WE</td>\n",
       "      <td>539.0</td>\n",
       "      <td>2135.0</td>\n",
       "      <td>2674.0</td>\n",
       "      <td>0.014700</td>\n",
       "      <td>8.1</td>\n",
       "    </tr>\n",
       "    <tr>\n",
       "      <td>3</td>\n",
       "      <td>3</td>\n",
       "      <td>104319 Jays Webworks</td>\n",
       "      <td>5.0</td>\n",
       "      <td>hosting</td>\n",
       "      <td>United States</td>\n",
       "      <td>NaN</td>\n",
       "      <td>2.0</td>\n",
       "      <td>0.0</td>\n",
       "      <td>2.0</td>\n",
       "      <td>0.400000</td>\n",
       "      <td>8.1</td>\n",
       "    </tr>\n",
       "    <tr>\n",
       "      <td>4</td>\n",
       "      <td>4</td>\n",
       "      <td>10Hosting</td>\n",
       "      <td>109.0</td>\n",
       "      <td>hosting</td>\n",
       "      <td>United States</td>\n",
       "      <td>NaN</td>\n",
       "      <td>0.0</td>\n",
       "      <td>413.0</td>\n",
       "      <td>413.0</td>\n",
       "      <td>3.788991</td>\n",
       "      <td>8.1</td>\n",
       "    </tr>\n",
       "  </tbody>\n",
       "</table>\n",
       "</div>"
      ],
      "text/plain": [
       "   Unnamed: 0                   org  org_ipsize_seen  org_tag    raw_country  \\\n",
       "0           0          1&1 Internet          73813.0  hosting        Germany   \n",
       "1           1          1&1 Internet          73813.0  hosting  United States   \n",
       "2           2       1&1 Internet AG         181901.0  hosting        Germany   \n",
       "3           3  104319 Jays Webworks              5.0  hosting  United States   \n",
       "4           4             10Hosting            109.0  hosting  United States   \n",
       "\n",
       "  region  count_attack_2014  count_attack_2015  count_attack  \\\n",
       "0     WE                0.0                4.0           4.0   \n",
       "1    NaN              189.0              634.0         823.0   \n",
       "2     WE              539.0             2135.0        2674.0   \n",
       "3    NaN                2.0                0.0           2.0   \n",
       "4    NaN                0.0              413.0         413.0   \n",
       "\n",
       "   count_attack_norm  ITU-ICT  \n",
       "0           0.000054      8.1  \n",
       "1           0.011150      8.1  \n",
       "2           0.014700      8.1  \n",
       "3           0.400000      8.1  \n",
       "4           3.788991      8.1  "
      ]
     },
     "execution_count": 3,
     "metadata": {},
     "output_type": "execute_result"
    }
   ],
   "source": [
    "orgs.head()"
   ]
  },
  {
   "cell_type": "markdown",
   "metadata": {},
   "source": [
    "#### Per IP size\n",
    "\n",
    "Most companies have their `org_ipsize_seen` < threshold with few \"outliers\" having very large `org_ipsize_seen`. This is illustrated with the very narrow whisker ends and far-away flier points in the boxplot."
   ]
  },
  {
   "cell_type": "code",
   "execution_count": 4,
   "metadata": {},
   "outputs": [],
   "source": [
    "THRESHOLD = 3e5"
   ]
  },
  {
   "cell_type": "code",
   "execution_count": 5,
   "metadata": {},
   "outputs": [
    {
     "data": {
      "text/plain": [
       "count    8.610000e+02\n",
       "mean     1.089447e+04\n",
       "std      7.864855e+04\n",
       "min      1.000000e+00\n",
       "25%      1.400000e+01\n",
       "50%      9.100000e+01\n",
       "75%      1.178000e+03\n",
       "max      1.567292e+06\n",
       "Name: org_ipsize_seen, dtype: float64"
      ]
     },
     "execution_count": 5,
     "metadata": {},
     "output_type": "execute_result"
    },
    {
     "data": {
      "image/png": "[encoded data removed]",
      "text/plain": [
       "<Figure size 432x288 with 2 Axes>"
      ]
     },
     "metadata": {
      "needs_background": "light"
     },
     "output_type": "display_data"
    }
   ],
   "source": [
    "fig, ax = plt.subplots(1, 2, sharey=True)\n",
    "\n",
    "org_ipsize_seen_sorted = orgs.org_ipsize_seen.sort_values().reset_index(drop=True).reset_index()\n",
    "\n",
    "orgs.org_ipsize_seen.plot.box(ax=ax[0])\n",
    "org_ipsize_seen_sorted.plot.scatter(x=\"index\", y=\"org_ipsize_seen\", ax=ax[1], s=1.5)\n",
    "plt.ticklabel_format(style='sci', axis='y', scilimits=(0,0))\n",
    "ax[0].set_xticks([]), ax[1].set_xticks([])\n",
    "ax[0].set_ylabel(\"IP size of company (victim)\")\n",
    "ax[0].set_xlabel(\"boxplot\"), ax[1].set_xlabel(\"data points\")\n",
    "\n",
    "# draw a threshold\n",
    "ax[0].axhline(y=THRESHOLD, color='r', linestyle=\"--\")\n",
    "ax[1].axhline(y=THRESHOLD, color='r', linestyle=\"--\")\n",
    "\n",
    "# print statistics\n",
    "orgs.org_ipsize_seen.describe()"
   ]
  },
  {
   "cell_type": "code",
   "execution_count": 6,
   "metadata": {},
   "outputs": [
    {
     "data": {
      "text/html": [
       "<div>\n",
       "<style scoped>\n",
       "    .dataframe tbody tr th:only-of-type {\n",
       "        vertical-align: middle;\n",
       "    }\n",
       "\n",
       "    .dataframe tbody tr th {\n",
       "        vertical-align: top;\n",
       "    }\n",
       "\n",
       "    .dataframe thead th {\n",
       "        text-align: right;\n",
       "    }\n",
       "</style>\n",
       "<table border=\"1\" class=\"dataframe\">\n",
       "  <thead>\n",
       "    <tr style=\"text-align: right;\">\n",
       "      <th></th>\n",
       "      <th>Unnamed: 0</th>\n",
       "      <th>org</th>\n",
       "      <th>org_ipsize_seen</th>\n",
       "      <th>org_tag</th>\n",
       "      <th>raw_country</th>\n",
       "      <th>region</th>\n",
       "      <th>count_attack_2014</th>\n",
       "      <th>count_attack_2015</th>\n",
       "      <th>count_attack</th>\n",
       "      <th>count_attack_norm</th>\n",
       "      <th>ITU-ICT</th>\n",
       "    </tr>\n",
       "  </thead>\n",
       "  <tbody>\n",
       "    <tr>\n",
       "      <td>36</td>\n",
       "      <td>36</td>\n",
       "      <td>Akamai International, BV</td>\n",
       "      <td>430031.0</td>\n",
       "      <td>cdn</td>\n",
       "      <td>United States</td>\n",
       "      <td>NaN</td>\n",
       "      <td>0.0</td>\n",
       "      <td>35.0</td>\n",
       "      <td>35.0</td>\n",
       "      <td>0.000081</td>\n",
       "      <td>8.1</td>\n",
       "    </tr>\n",
       "    <tr>\n",
       "      <td>37</td>\n",
       "      <td>37</td>\n",
       "      <td>Akamai Technologies</td>\n",
       "      <td>1567292.0</td>\n",
       "      <td>cdn</td>\n",
       "      <td>United States</td>\n",
       "      <td>NaN</td>\n",
       "      <td>238.0</td>\n",
       "      <td>883.0</td>\n",
       "      <td>1121.0</td>\n",
       "      <td>0.000715</td>\n",
       "      <td>8.1</td>\n",
       "    </tr>\n",
       "    <tr>\n",
       "      <td>46</td>\n",
       "      <td>46</td>\n",
       "      <td>Amazon.com</td>\n",
       "      <td>844486.0</td>\n",
       "      <td>hosting</td>\n",
       "      <td>United States</td>\n",
       "      <td>NaN</td>\n",
       "      <td>2588.0</td>\n",
       "      <td>8452.0</td>\n",
       "      <td>11040.0</td>\n",
       "      <td>0.013073</td>\n",
       "      <td>8.1</td>\n",
       "    </tr>\n",
       "    <tr>\n",
       "      <td>47</td>\n",
       "      <td>47</td>\n",
       "      <td>Amazon.com</td>\n",
       "      <td>844486.0</td>\n",
       "      <td>hosting</td>\n",
       "      <td>Australia</td>\n",
       "      <td>AP</td>\n",
       "      <td>74.0</td>\n",
       "      <td>235.0</td>\n",
       "      <td>309.0</td>\n",
       "      <td>0.000366</td>\n",
       "      <td>8.2</td>\n",
       "    </tr>\n",
       "    <tr>\n",
       "      <td>48</td>\n",
       "      <td>48</td>\n",
       "      <td>Amazon.com</td>\n",
       "      <td>844486.0</td>\n",
       "      <td>hosting</td>\n",
       "      <td>Ireland</td>\n",
       "      <td>WE</td>\n",
       "      <td>495.0</td>\n",
       "      <td>1667.0</td>\n",
       "      <td>2162.0</td>\n",
       "      <td>0.002560</td>\n",
       "      <td>7.7</td>\n",
       "    </tr>\n",
       "    <tr>\n",
       "      <td>496</td>\n",
       "      <td>496</td>\n",
       "      <td>OVH SAS</td>\n",
       "      <td>337625.0</td>\n",
       "      <td>hosting</td>\n",
       "      <td>France</td>\n",
       "      <td>WE</td>\n",
       "      <td>35171.0</td>\n",
       "      <td>105993.0</td>\n",
       "      <td>141164.0</td>\n",
       "      <td>0.418109</td>\n",
       "      <td>8.0</td>\n",
       "    </tr>\n",
       "    <tr>\n",
       "      <td>497</td>\n",
       "      <td>497</td>\n",
       "      <td>OVH SAS</td>\n",
       "      <td>337625.0</td>\n",
       "      <td>hosting</td>\n",
       "      <td>Portugal</td>\n",
       "      <td>WE</td>\n",
       "      <td>0.0</td>\n",
       "      <td>8.0</td>\n",
       "      <td>8.0</td>\n",
       "      <td>0.000024</td>\n",
       "      <td>6.6</td>\n",
       "    </tr>\n",
       "  </tbody>\n",
       "</table>\n",
       "</div>"
      ],
      "text/plain": [
       "     Unnamed: 0                       org  org_ipsize_seen  org_tag  \\\n",
       "36           36  Akamai International, BV         430031.0      cdn   \n",
       "37           37       Akamai Technologies        1567292.0      cdn   \n",
       "46           46                Amazon.com         844486.0  hosting   \n",
       "47           47                Amazon.com         844486.0  hosting   \n",
       "48           48                Amazon.com         844486.0  hosting   \n",
       "496         496                   OVH SAS         337625.0  hosting   \n",
       "497         497                   OVH SAS         337625.0  hosting   \n",
       "\n",
       "       raw_country region  count_attack_2014  count_attack_2015  count_attack  \\\n",
       "36   United States    NaN                0.0               35.0          35.0   \n",
       "37   United States    NaN              238.0              883.0        1121.0   \n",
       "46   United States    NaN             2588.0             8452.0       11040.0   \n",
       "47       Australia     AP               74.0              235.0         309.0   \n",
       "48         Ireland     WE              495.0             1667.0        2162.0   \n",
       "496         France     WE            35171.0           105993.0      141164.0   \n",
       "497       Portugal     WE                0.0                8.0           8.0   \n",
       "\n",
       "     count_attack_norm  ITU-ICT  \n",
       "36            0.000081      8.1  \n",
       "37            0.000715      8.1  \n",
       "46            0.013073      8.1  \n",
       "47            0.000366      8.2  \n",
       "48            0.002560      7.7  \n",
       "496           0.418109      8.0  \n",
       "497           0.000024      6.6  "
      ]
     },
     "execution_count": 6,
     "metadata": {},
     "output_type": "execute_result"
    }
   ],
   "source": [
    "# the big hosting providers (`org_ipsize_seen` > THRESHOLD)\n",
    "orgs.loc[orgs.org_ipsize_seen > THRESHOLD]"
   ]
  },
  {
   "cell_type": "code",
   "execution_count": 7,
   "metadata": {},
   "outputs": [
    {
     "data": {
      "image/png": "[encoded data removed]",
      "text/plain": [
       "<Figure size 432x288 with 2 Axes>"
      ]
     },
     "metadata": {
      "needs_background": "light"
     },
     "output_type": "display_data"
    }
   ],
   "source": [
    "fig, ax1 = plt.subplots()\n",
    "ax1.scatter(x=orgs.org_ipsize_seen, y=orgs.count_attack_norm,  marker=\"x\")\n",
    "ax1.set_ylabel(\"Occurrence of attacks per victim\\nnormalised by IP size\"), ax1.set_xlabel(\"IP size\")\n",
    "# ax1.axvline(x=THRESHOLD, color='r', linestyle=\"--\")\n",
    "\n",
    "ax2 = ax1.twinx()\n",
    "ax2.scatter(x=orgs.org_ipsize_seen, y=orgs.count_attack, marker=\"+\", color=\"black\")\n",
    "ax2.set_ylabel(\"Occurrence of attacks per victim\")\n",
    "\n",
    "plt.ticklabel_format(style='sci', axis='both', scilimits=(0,0))\n",
    "fig.savefig(\"images/attack-by-ipsize.png\")"
   ]
  },
  {
   "cell_type": "markdown",
   "metadata": {},
   "source": [
    "#### Per Country"
   ]
  },
  {
   "cell_type": "code",
   "execution_count": null,
   "metadata": {},
   "outputs": [],
   "source": [
    "# color the boxplots per region\n",
    "regions = orgs.region.unique()\n",
    "raw_countries = orgs.sort_values(by=[\"region\", \"raw_country\"]).raw_country.unique()\n",
    "colors = {regions[i] : sns.color_palette(n_colors=len(regions))[i] for i in range(len(regions))}\n",
    "\n",
    "# repalce abbrs with fullname\n",
    "regions_f = [\"Western Europe\",   # WE\n",
    "             \"North America\",    # NA\n",
    "             \"Asian Pacific\",    # AP\n",
    "             \"Eastern Europe\",   # EE\n",
    "             \"Latin America\",    # LC\n",
    "             \"Middle East\",      # ME\n",
    "             \"Africa\" ]          # AF"
   ]
  },
  {
   "cell_type": "code",
   "execution_count": null,
   "metadata": {},
   "outputs": [],
   "source": [
    "import matplotlib.patches as mpatches\n",
    "\n",
    "# plot per country\n",
    "fig, ax = plt.subplots(len(raw_countries), figsize=(8,12), sharex=True)\n",
    "\n",
    "for i in range(len(raw_countries)):\n",
    "    region = orgs.region[orgs.raw_country == raw_countries[i]].values[0]\n",
    "    sns.boxplot(x=\"count_attack\", y=\"raw_country\", orient=\"h\", color=colors[region],\n",
    "                data=orgs.sort_values(by=[\"region\", \"raw_country\"]).loc[orgs.raw_country == raw_countries[i]], ax=ax[i])  \n",
    "    \n",
    "    # formatting axis\n",
    "    ax[i].set_ylabel(\"\")\n",
    "    ax[i].set_xlabel(\"\")\n",
    "    ax[i].spines[\"top\"].set_visible(False)\n",
    "    ax[i].spines[\"bottom\"].set_visible(False)\n",
    "    ax[i].tick_params(axis='both', which='both', length=0)\n",
    "    \n",
    "ax[i].set(xscale=\"log\")\n",
    "ax[0].spines[\"top\"].set_visible(True)\n",
    "ax[i].spines[\"bottom\"].set_visible(True)\n",
    "ax[i].set_xlabel(\"Occurrence of attack against victims\")\n",
    "plt.legend(handles=[mpatches.Patch(color=colors[regions[i]], label=regions_f[i]) \n",
    "                    for i in range(len(regions))], bbox_to_anchor=(1., 1.2*len(raw_countries)),\n",
    "          title=\"Region\")\n",
    "\n",
    "fig.savefig(\"images/attack-by-country.png\")"
   ]
  },
  {
   "cell_type": "code",
   "execution_count": null,
   "metadata": {},
   "outputs": [],
   "source": [
    "fig, ax = plt.subplots()\n",
    "ax.scatter(x=orgs.org_ipsize_seen, y=orgs.count_attack_norm)\n",
    "ax.set_xlabel(\"IP size of victim\")\n",
    "ax.set_ylabel(\"Occurrence of attacks \\nnormalised by IP size\")\n",
    "plt.ticklabel_format(style='sci', axis='x', scilimits=(0,0))\n",
    "fig.savefig(\"images/normalised-attacks.png\")"
   ]
  },
  {
   "cell_type": "code",
   "execution_count": null,
   "metadata": {},
   "outputs": [],
   "source": []
  },
  {
   "cell_type": "code",
   "execution_count": null,
   "metadata": {},
   "outputs": [],
   "source": []
  },
  {
   "cell_type": "code",
   "execution_count": null,
   "metadata": {},
   "outputs": [],
   "source": []
  }
 ],
 "metadata": {
  "kernelspec": {
   "display_name": "Python 3",
   "language": "python",
   "name": "python3"
  },
  "language_info": {
   "codemirror_mode": {
    "name": "ipython",
    "version": 3
   },
   "file_extension": ".py",
   "mimetype": "text/x-python",
   "name": "python",
   "nbconvert_exporter": "python",
   "pygments_lexer": "ipython3",
   "version": "3.7.4"
  }
 },
 "nbformat": 4,
 "nbformat_minor": 4
}
