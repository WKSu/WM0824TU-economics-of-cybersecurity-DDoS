{
 "cells": [
  {
   "cell_type": "code",
   "execution_count": 1,
   "metadata": {},
   "outputs": [],
   "source": [
    "import pandas as pd"
   ]
  },
  {
   "cell_type": "markdown",
   "metadata": {},
   "source": [
    "## Data preparation"
   ]
  },
  {
   "cell_type": "code",
   "execution_count": 2,
   "metadata": {},
   "outputs": [
    {
     "name": "stderr",
     "output_type": "stream",
     "text": [
      "C:\\Users\\Hsin\\.conda\\envs\\venvCyber\\lib\\site-packages\\IPython\\core\\interactiveshell.py:3058: DtypeWarning: Columns (15,17,19,27) have mixed types. Specify dtype option on import or set low_memory=False.\n",
      "  interactivity=interactivity, compiler=compiler, result=result)\n"
     ]
    }
   ],
   "source": [
    "# data source: https://surfdrive.surf.nl/files/index.php/s/CZWfWQp3VKGKa8m\n",
    "df = pd.read_csv('data_with_ports.csv.gz', sep='|', compression='gzip')"
   ]
  },
  {
   "cell_type": "code",
   "execution_count": 3,
   "metadata": {},
   "outputs": [],
   "source": [
    "# parse string to datetime format\n",
    "df['date'] = pd.to_datetime(df['date'], format='%Y-%m-%d')\n",
    "df['start_time'] = pd.to_datetime(df['start_time'], format='%Y-%m-%dT%H:%M:%S+09:00')\n",
    "df['stop_time'] = pd.to_datetime(df['stop_time'], format='%Y-%m-%dT%H:%M:%S+09:00')"
   ]
  },
  {
   "cell_type": "code",
   "execution_count": 4,
   "metadata": {},
   "outputs": [],
   "source": [
    "# remove reserved ips\n",
    "reserved_ips = [\n",
    "    \"0.\",       # software\n",
    "    \"10.\",      # private network\n",
    "    \"100.\",     # private network\n",
    "    \"169.254.\", # subnet\n",
    "    \"172.\",     # private network\n",
    "    \"192.\"      # private network\n",
    "]\n",
    "\n",
    "df = df[~(df.org.isna() & df.target_ip.str.startswith(tuple(reserved_ips)))]"
   ]
  },
  {
   "cell_type": "code",
   "execution_count": 5,
   "metadata": {},
   "outputs": [],
   "source": [
    "# fix NaNs in `regions` data for victims that reside in United States and Canada\n",
    "df.loc[df.raw_country.str.contains(\"united states|canada\", case=False), \"region\"] = \"NA\" # NA = North America\n",
    "\n",
    "# fix comma in string\n",
    "df.raw_country = df.raw_country.str.replace(\"<comma>\", \",\")\n",
    "\n",
    "# fix `cc` and `region` missing values\n",
    "df.loc[df.raw_country == \"Tonga\", \"cc\"] = \"TO\"; df.loc[df.raw_country == \"Tonga\", \"region\"] = \"AP\"\n",
    "df.loc[df.raw_country == \"Namibia\", \"cc\"] = \"NA\"; df.loc[df.raw_country == \"Namibia\", \"region\"] = \"AF\"\n",
    "df.loc[df.raw_country == \"San Marino\", \"cc\"] = \"SM\"; df.loc[df.raw_country == \"San Marino\", \"region\"] = \"EU\"\n",
    "df.loc[df.raw_country == \"Europe\", \"region\"] = \"EU\"\n",
    "df.loc[df.raw_country == \"Asia/Pacific Region\", \"region\"] = \"AP\"\n",
    "\n",
    "# fix for \"France, Metropolitan\"\n",
    "df.loc[df.raw_country.str.contains(\"france\", case=False), \"raw_country\"] = \"France\"\n",
    "df.loc[df.raw_country == \"France\", \"cc\"] = \"FR\"; df.loc[df.raw_country == \"France\", \"region\"] = \"EU\""
   ]
  },
  {
   "cell_type": "code",
   "execution_count": 6,
   "metadata": {},
   "outputs": [
    {
     "name": "stdout",
     "output_type": "stream",
     "text": [
      "<class 'pandas.core.frame.DataFrame'>\n",
      "Int64Index: 5719250 entries, 0 to 5721431\n",
      "Data columns (total 35 columns):\n",
      "target_ip                 5719250 non-null object\n",
      "date                      5719250 non-null datetime64[ns]\n",
      "sensor_id                 5719250 non-null object\n",
      "service                   5719250 non-null object\n",
      "start_time                5719250 non-null datetime64[ns]\n",
      "stop_time                 5719250 non-null datetime64[ns]\n",
      "duration                  5719250 non-null float64\n",
      "packets                   5719250 non-null int64\n",
      "raw_country               5719250 non-null object\n",
      "raw_as                    5719250 non-null object\n",
      "raw_hostname              5719248 non-null object\n",
      "udp_port_list             5719250 non-null object\n",
      "pyasn_as                  5712272 non-null float64\n",
      "pyasn_as_bgp_size         5502309 non-null float64\n",
      "cc                        5695077 non-null object\n",
      "region                    5703844 non-null object\n",
      "is_oecd                   5693982 non-null float64\n",
      "as_type                   3658008 non-null object\n",
      "as_type_confidence        3789878 non-null float64\n",
      "tg_op                     2728568 non-null object\n",
      "org                       5710769 non-null object\n",
      "org_range                 5708167 non-null object\n",
      "org_rangesize             5708167 non-null float64\n",
      "org_ipsize_seen           5673175 non-null float64\n",
      "org_domainsize_seen       5673175 non-null float64\n",
      "org_ipsize_seen_shared    5478417 non-null float64\n",
      "org_is_hosting            5719250 non-null float64\n",
      "org_tag                   3231503 non-null object\n",
      "caida_type                5686208 non-null object\n",
      "dc                        5719250 non-null int64\n",
      "subs                      2725263 non-null float64\n",
      "as_ipsize_seen            5710261 non-null float64\n",
      "as_domainsize_seen        5710261 non-null float64\n",
      "pps                       5719250 non-null float64\n",
      "year                      5719250 non-null int64\n",
      "dtypes: datetime64[ns](3), float64(14), int64(3), object(15)\n",
      "memory usage: 1.5+ GB\n"
     ]
    }
   ],
   "source": [
    "df.info(null_counts=True)"
   ]
  },
  {
   "cell_type": "code",
   "execution_count": 7,
   "metadata": {},
   "outputs": [
    {
     "data": {
      "text/plain": [
       "target_ip                                                      94.96.183.44\n",
       "date                                                    2014-08-10 00:00:00\n",
       "sensor_id                                                         sensor003\n",
       "service                                                                 chg\n",
       "start_time                                              2014-08-10 00:00:20\n",
       "stop_time                                               2014-08-10 00:01:11\n",
       "duration                                                                 51\n",
       "packets                                                                8700\n",
       "raw_country                                                    Saudi Arabia\n",
       "raw_as                         AS25019 Autonomus System Number for SaudiNet\n",
       "raw_hostname                                                           None\n",
       "udp_port_list                                                        [8080]\n",
       "pyasn_as                                                              25019\n",
       "pyasn_as_bgp_size                                               2.31245e+06\n",
       "cc                                                                       SA\n",
       "region                                                                   ME\n",
       "is_oecd                                                                   0\n",
       "as_type                                                       isp-broadband\n",
       "as_type_confidence                                                        2\n",
       "tg_op                                                                  SA04\n",
       "org                                                                SaudiNet\n",
       "org_range                 (3564536832, 3564537343)-(1571291136, 15714222...\n",
       "org_rangesize                                                   2.88754e+06\n",
       "org_ipsize_seen                                                       14659\n",
       "org_domainsize_seen                                                    5824\n",
       "org_ipsize_seen_shared                                                  128\n",
       "org_is_hosting                                                            1\n",
       "org_tag                                                       isp-broadband\n",
       "caida_type                                                   Transit/Access\n",
       "dc                                                                        0\n",
       "subs                                                               2.32e+06\n",
       "as_ipsize_seen                                                        38703\n",
       "as_domainsize_seen                                                     1912\n",
       "pps                                                                 170.588\n",
       "year                                                                   2014\n",
       "Name: 1002757, dtype: object"
      ]
     },
     "execution_count": 7,
     "metadata": {},
     "output_type": "execute_result"
    }
   ],
   "source": [
    "from random import randint\n",
    "\n",
    "df.iloc[randint(0, len(df))]"
   ]
  },
  {
   "cell_type": "code",
   "execution_count": 8,
   "metadata": {},
   "outputs": [],
   "source": [
    "# victim org         = org\n",
    "# size of victims    = org_ipsize_seen\n",
    "# type of victim     = org_tag\n",
    "# country victim     = raw_country\n",
    "# network hygiene    = count_attacks_2014\n",
    "# dependent variable = count_attacks\n",
    "\n",
    "df.as_type = df.as_type.fillna(\"Unknown\")\n",
    "\n",
    "orgs = (df.groupby(by=[\"org\", \"org_ipsize_seen\", \"caida_type\", \"as_type\", \"raw_country\", \"region\", \"year\"])\n",
    "          .size().unstack().add_prefix(\"count_attack_\")\n",
    "          .fillna(0))\n",
    "\n",
    "orgs.reset_index(inplace=True)\n",
    "orgs.columns = orgs.columns.tolist()\n",
    "\n",
    "orgs[\"count_attack\"] = orgs.filter(regex=\"^count_attack\").sum(axis=1)\n",
    "orgs[\"count_attack_norm\"] = orgs.count_attack / orgs.org_ipsize_seen\n",
    "\n",
    "orgs.raw_country = orgs.raw_country.apply(lambda s: s.replace(\"<comma>\", \",\"))\n",
    "\n",
    "# remove companies that received just 1 attack, as we assume the first attack was only a trial\n",
    "orgs = orgs[orgs.count_attack > 1]"
   ]
  },
  {
   "cell_type": "markdown",
   "metadata": {},
   "source": [
    "#### ITU ICT index"
   ]
  },
  {
   "cell_type": "code",
   "execution_count": 9,
   "metadata": {},
   "outputs": [],
   "source": [
    "# https://tcdata360.worldbank.org/indicators/h2e1ddd20\n",
    "itu_index = pd.read_csv(\"ITU-ICT-index.csv\")\n",
    "\n",
    "orgs = pd.merge(orgs, itu_index, how=\"left\", \n",
    "                left_on=\"raw_country\", right_on=\"Country\").drop(columns=[\"Country\"])"
   ]
  },
  {
   "cell_type": "markdown",
   "metadata": {},
   "source": [
    "#### Population of country"
   ]
  },
  {
   "cell_type": "code",
   "execution_count": 10,
   "metadata": {},
   "outputs": [],
   "source": [
    "# source: World Bank\n",
    "pop_country = pd.read_csv(\"population2016.csv\")\n",
    "\n",
    "orgs = pd.merge(orgs, pop_country, how=\"left\", \n",
    "                left_on=\"raw_country\", right_on=\"Country\").drop(columns=[\"Country\"])"
   ]
  },
  {
   "cell_type": "markdown",
   "metadata": {},
   "source": [
    "#### Export data"
   ]
  },
  {
   "cell_type": "code",
   "execution_count": 11,
   "metadata": {},
   "outputs": [],
   "source": [
    "# orgs.to_csv(\"orgs.csv\")"
   ]
  },
  {
   "cell_type": "code",
   "execution_count": 12,
   "metadata": {},
   "outputs": [
    {
     "data": {
      "text/html": [
       "<div>\n",
       "<style scoped>\n",
       "    .dataframe tbody tr th:only-of-type {\n",
       "        vertical-align: middle;\n",
       "    }\n",
       "\n",
       "    .dataframe tbody tr th {\n",
       "        vertical-align: top;\n",
       "    }\n",
       "\n",
       "    .dataframe thead th {\n",
       "        text-align: right;\n",
       "    }\n",
       "</style>\n",
       "<table border=\"1\" class=\"dataframe\">\n",
       "  <thead>\n",
       "    <tr style=\"text-align: right;\">\n",
       "      <th></th>\n",
       "      <th>org</th>\n",
       "      <th>org_ipsize_seen</th>\n",
       "      <th>caida_type</th>\n",
       "      <th>as_type</th>\n",
       "      <th>raw_country</th>\n",
       "      <th>region</th>\n",
       "      <th>count_attack_2014</th>\n",
       "      <th>count_attack_2015</th>\n",
       "      <th>count_attack</th>\n",
       "      <th>count_attack_norm</th>\n",
       "      <th>ITU-ICT</th>\n",
       "      <th>Population</th>\n",
       "    </tr>\n",
       "  </thead>\n",
       "  <tbody>\n",
       "    <tr>\n",
       "      <td>0</td>\n",
       "      <td>#3BEo, Sangkat Beoun Prolit, Khan 7Makara, Phn...</td>\n",
       "      <td>38.0</td>\n",
       "      <td>Transit/Access</td>\n",
       "      <td>Unknown</td>\n",
       "      <td>Cambodia</td>\n",
       "      <td>AP</td>\n",
       "      <td>0.0</td>\n",
       "      <td>9.0</td>\n",
       "      <td>9.0</td>\n",
       "      <td>0.236842</td>\n",
       "      <td>2.8</td>\n",
       "      <td>15766.29</td>\n",
       "    </tr>\n",
       "    <tr>\n",
       "      <td>1</td>\n",
       "      <td>&amp; Aguiar Ltda Me</td>\n",
       "      <td>10.0</td>\n",
       "      <td>Transit/Access</td>\n",
       "      <td>Unknown</td>\n",
       "      <td>Brazil</td>\n",
       "      <td>LC</td>\n",
       "      <td>1.0</td>\n",
       "      <td>2.0</td>\n",
       "      <td>3.0</td>\n",
       "      <td>0.300000</td>\n",
       "      <td>5.7</td>\n",
       "      <td>206163.06</td>\n",
       "    </tr>\n",
       "    <tr>\n",
       "      <td>2</td>\n",
       "      <td>&amp; Dantas Ltda</td>\n",
       "      <td>40.0</td>\n",
       "      <td>Transit/Access</td>\n",
       "      <td>Unknown</td>\n",
       "      <td>Brazil</td>\n",
       "      <td>LC</td>\n",
       "      <td>3.0</td>\n",
       "      <td>0.0</td>\n",
       "      <td>3.0</td>\n",
       "      <td>0.075000</td>\n",
       "      <td>5.7</td>\n",
       "      <td>206163.06</td>\n",
       "    </tr>\n",
       "    <tr>\n",
       "      <td>3</td>\n",
       "      <td>&amp; Matera Ltda</td>\n",
       "      <td>9.0</td>\n",
       "      <td>Transit/Access</td>\n",
       "      <td>Unknown</td>\n",
       "      <td>Brazil</td>\n",
       "      <td>LC</td>\n",
       "      <td>0.0</td>\n",
       "      <td>6.0</td>\n",
       "      <td>6.0</td>\n",
       "      <td>0.666667</td>\n",
       "      <td>5.7</td>\n",
       "      <td>206163.06</td>\n",
       "    </tr>\n",
       "    <tr>\n",
       "      <td>4</td>\n",
       "      <td>&amp; Rapchan Ltda. - Me</td>\n",
       "      <td>37.0</td>\n",
       "      <td>Transit/Access</td>\n",
       "      <td>Unknown</td>\n",
       "      <td>Brazil</td>\n",
       "      <td>LC</td>\n",
       "      <td>5.0</td>\n",
       "      <td>15.0</td>\n",
       "      <td>20.0</td>\n",
       "      <td>0.540541</td>\n",
       "      <td>5.7</td>\n",
       "      <td>206163.06</td>\n",
       "    </tr>\n",
       "    <tr>\n",
       "      <td>...</td>\n",
       "      <td>...</td>\n",
       "      <td>...</td>\n",
       "      <td>...</td>\n",
       "      <td>...</td>\n",
       "      <td>...</td>\n",
       "      <td>...</td>\n",
       "      <td>...</td>\n",
       "      <td>...</td>\n",
       "      <td>...</td>\n",
       "      <td>...</td>\n",
       "      <td>...</td>\n",
       "      <td>...</td>\n",
       "    </tr>\n",
       "    <tr>\n",
       "      <td>22151</td>\n",
       "      <td>zicom Next Spolka Z Ograniczona Odpowiedzialno...</td>\n",
       "      <td>7.0</td>\n",
       "      <td>Enterpise</td>\n",
       "      <td>Unknown</td>\n",
       "      <td>Poland</td>\n",
       "      <td>EE</td>\n",
       "      <td>45.0</td>\n",
       "      <td>54.0</td>\n",
       "      <td>99.0</td>\n",
       "      <td>14.142857</td>\n",
       "      <td>6.6</td>\n",
       "      <td>37970.09</td>\n",
       "    </tr>\n",
       "    <tr>\n",
       "      <td>22152</td>\n",
       "      <td>zorislav_eremita</td>\n",
       "      <td>19.0</td>\n",
       "      <td>Transit/Access</td>\n",
       "      <td>Unknown</td>\n",
       "      <td>United States</td>\n",
       "      <td>NA</td>\n",
       "      <td>0.0</td>\n",
       "      <td>3.0</td>\n",
       "      <td>3.0</td>\n",
       "      <td>0.157895</td>\n",
       "      <td>8.1</td>\n",
       "      <td>323071.34</td>\n",
       "    </tr>\n",
       "    <tr>\n",
       "      <td>22153</td>\n",
       "      <td>zukashishifu_</td>\n",
       "      <td>20.0</td>\n",
       "      <td>Transit/Access</td>\n",
       "      <td>Unknown</td>\n",
       "      <td>United States</td>\n",
       "      <td>NA</td>\n",
       "      <td>0.0</td>\n",
       "      <td>10.0</td>\n",
       "      <td>10.0</td>\n",
       "      <td>0.500000</td>\n",
       "      <td>8.1</td>\n",
       "      <td>323071.34</td>\n",
       "    </tr>\n",
       "    <tr>\n",
       "      <td>22154</td>\n",
       "      <td>zukuchiri_</td>\n",
       "      <td>21.0</td>\n",
       "      <td>Transit/Access</td>\n",
       "      <td>Unknown</td>\n",
       "      <td>United States</td>\n",
       "      <td>NA</td>\n",
       "      <td>0.0</td>\n",
       "      <td>14.0</td>\n",
       "      <td>14.0</td>\n",
       "      <td>0.666667</td>\n",
       "      <td>8.1</td>\n",
       "      <td>323071.34</td>\n",
       "    </tr>\n",
       "    <tr>\n",
       "      <td>22155</td>\n",
       "      <td>zup.zupple.com</td>\n",
       "      <td>1.0</td>\n",
       "      <td>Content</td>\n",
       "      <td>Unknown</td>\n",
       "      <td>United States</td>\n",
       "      <td>NA</td>\n",
       "      <td>3.0</td>\n",
       "      <td>0.0</td>\n",
       "      <td>3.0</td>\n",
       "      <td>3.000000</td>\n",
       "      <td>8.1</td>\n",
       "      <td>323071.34</td>\n",
       "    </tr>\n",
       "  </tbody>\n",
       "</table>\n",
       "<p>22156 rows × 12 columns</p>\n",
       "</div>"
      ],
      "text/plain": [
       "                                                     org  org_ipsize_seen  \\\n",
       "0      #3BEo, Sangkat Beoun Prolit, Khan 7Makara, Phn...             38.0   \n",
       "1                                       & Aguiar Ltda Me             10.0   \n",
       "2                                          & Dantas Ltda             40.0   \n",
       "3                                          & Matera Ltda              9.0   \n",
       "4                                   & Rapchan Ltda. - Me             37.0   \n",
       "...                                                  ...              ...   \n",
       "22151  zicom Next Spolka Z Ograniczona Odpowiedzialno...              7.0   \n",
       "22152                                   zorislav_eremita             19.0   \n",
       "22153                                      zukashishifu_             20.0   \n",
       "22154                                         zukuchiri_             21.0   \n",
       "22155                                     zup.zupple.com              1.0   \n",
       "\n",
       "           caida_type  as_type    raw_country region  count_attack_2014  \\\n",
       "0      Transit/Access  Unknown       Cambodia     AP                0.0   \n",
       "1      Transit/Access  Unknown         Brazil     LC                1.0   \n",
       "2      Transit/Access  Unknown         Brazil     LC                3.0   \n",
       "3      Transit/Access  Unknown         Brazil     LC                0.0   \n",
       "4      Transit/Access  Unknown         Brazil     LC                5.0   \n",
       "...               ...      ...            ...    ...                ...   \n",
       "22151       Enterpise  Unknown         Poland     EE               45.0   \n",
       "22152  Transit/Access  Unknown  United States     NA                0.0   \n",
       "22153  Transit/Access  Unknown  United States     NA                0.0   \n",
       "22154  Transit/Access  Unknown  United States     NA                0.0   \n",
       "22155         Content  Unknown  United States     NA                3.0   \n",
       "\n",
       "       count_attack_2015  count_attack  count_attack_norm  ITU-ICT  Population  \n",
       "0                    9.0           9.0           0.236842      2.8    15766.29  \n",
       "1                    2.0           3.0           0.300000      5.7   206163.06  \n",
       "2                    0.0           3.0           0.075000      5.7   206163.06  \n",
       "3                    6.0           6.0           0.666667      5.7   206163.06  \n",
       "4                   15.0          20.0           0.540541      5.7   206163.06  \n",
       "...                  ...           ...                ...      ...         ...  \n",
       "22151               54.0          99.0          14.142857      6.6    37970.09  \n",
       "22152                3.0           3.0           0.157895      8.1   323071.34  \n",
       "22153               10.0          10.0           0.500000      8.1   323071.34  \n",
       "22154               14.0          14.0           0.666667      8.1   323071.34  \n",
       "22155                0.0           3.0           3.000000      8.1   323071.34  \n",
       "\n",
       "[22156 rows x 12 columns]"
      ]
     },
     "execution_count": 12,
     "metadata": {},
     "output_type": "execute_result"
    }
   ],
   "source": [
    "orgs"
   ]
  },
  {
   "cell_type": "markdown",
   "metadata": {},
   "source": [
    "## Visualisation"
   ]
  },
  {
   "cell_type": "code",
   "execution_count": null,
   "metadata": {},
   "outputs": [],
   "source": [
    "import pandas as pd\n",
    "import numpy as np\n",
    "import matplotlib.pyplot as plt\n",
    "import seaborn as sns"
   ]
  },
  {
   "cell_type": "code",
   "execution_count": null,
   "metadata": {},
   "outputs": [],
   "source": [
    "orgs = pd.read_csv(\"orgs.csv\")\n",
    "orgs.region = orgs.region.fillna(\"NA\") # fix `NA` = \"North America\""
   ]
  },
  {
   "cell_type": "code",
   "execution_count": null,
   "metadata": {},
   "outputs": [],
   "source": [
    "orgs.sample(5)"
   ]
  },
  {
   "cell_type": "markdown",
   "metadata": {},
   "source": [
    "#### Per IP size\n",
    "\n",
    "Most companies have their `org_ipsize_seen` < threshold with few \"outliers\" having very large `org_ipsize_seen`. This is illustrated with the very narrow whisker ends and far-away flier points in the boxplot."
   ]
  },
  {
   "cell_type": "code",
   "execution_count": null,
   "metadata": {},
   "outputs": [],
   "source": [
    "fig, ax = plt.subplots(1, 2, sharey=True)\n",
    "\n",
    "org_ipsize_seen_sorted = orgs.org_ipsize_seen.sort_values().reset_index(drop=True).reset_index()\n",
    "\n",
    "orgs.org_ipsize_seen.plot.box(ax=ax[0])\n",
    "org_ipsize_seen_sorted.plot.scatter(x=\"index\", y=\"org_ipsize_seen\", ax=ax[1], s=1.5)\n",
    "plt.ticklabel_format(style='sci', axis='y', scilimits=(0,0))\n",
    "ax[0].set_xticks([]), ax[1].set_xticks([])\n",
    "ax[0].set_ylabel(\"IP size of company (victim)\")\n",
    "ax[0].set_xlabel(\"boxplot\"), ax[1].set_xlabel(\"data points\")\n",
    "\n",
    "# # draw a threshold\n",
    "# THRESHOLD = 5e4\n",
    "# ax[0].axhline(y=THRESHOLD, color='r', linestyle=\"--\")\n",
    "# ax[1].axhline(y=THRESHOLD, color='r', linestyle=\"--\")\n",
    "\n",
    "# print statistics\n",
    "orgs.org_ipsize_seen.describe()"
   ]
  },
  {
   "cell_type": "code",
   "execution_count": null,
   "metadata": {},
   "outputs": [],
   "source": [
    "# # the big hosting providers (`org_ipsize_seen` > THRESHOLD)\n",
    "# orgs.loc[orgs.org_ipsize_seen > THRESHOLD]"
   ]
  },
  {
   "cell_type": "code",
   "execution_count": null,
   "metadata": {},
   "outputs": [],
   "source": [
    "# fig, ax1 = plt.subplots()\n",
    "# p1 = ax1.scatter(x=orgs.org_ipsize_seen, y=orgs.count_attack_norm, marker=\"x\", alpha=.5)\n",
    "# ax1.set_ylabel(\"Occurrence of attacks per victim\\nnormalised by IP size\"), ax1.set_xlabel(\"IP size\")\n",
    "# # ax1.axvline(x=THRESHOLD, color='r', linestyle=\"--\")\n",
    "\n",
    "# ax2 = ax1.twinx()\n",
    "# p2 = ax2.scatter(x=orgs.org_ipsize_seen, y=orgs.count_attack, marker=\"+\", color=\"C1\", alpha=.3)\n",
    "# ax2.set_ylabel(\"Occurrence of attacks per victim\")\n",
    "\n",
    "# ax2.legend([p1, p2], [\"normalised\", \"raw\"], loc=0)\n",
    "\n",
    "# plt.ticklabel_format(style='sci', axis='both', scilimits=(0,0))\n",
    "# plt.tight_layout()\n",
    "# fig.savefig(\"images/attack-by-ipsize.png\")"
   ]
  },
  {
   "cell_type": "code",
   "execution_count": null,
   "metadata": {},
   "outputs": [],
   "source": [
    "fig, ax = plt.subplots(figsize=(8, 8))\n",
    "sns.scatterplot(data=orgs, x=\"org_ipsize_seen\", y=\"count_attack\", \n",
    "                hue=\"region\", alpha=.6, size=.5, ax=ax)\n",
    "plt.legend(bbox_to_anchor=(1.4, 1), loc='upper right')\n",
    "# plt.ticklabel_format(style='sci', axis='y', scilimits=(0,0))\n",
    "ax.set(xscale=\"log\", yscale=\"log\")\n",
    "ax.set_xlabel(\"IP size\")\n",
    "ax.set_ylabel(\"Occurrence of attacks\")"
   ]
  },
  {
   "cell_type": "code",
   "execution_count": null,
   "metadata": {},
   "outputs": [],
   "source": [
    "fig, ax = plt.subplots(2, 1, sharex=True, figsize=(10, 8))\n",
    "sns.catplot(x=\"count_attack\", y=\"as_type\", data=orgs, ax=ax[0], alpha=.3)\n",
    "sns.catplot(x=\"count_attack\", y=\"caida_type\", data=orgs, ax=ax[1], alpha=.3)\n",
    "ax[0].set(xscale=\"log\")\n",
    "ax[0].set_xlabel(\"\"), ax[1].set_xlabel(\"Occurrence of attacks\")\n",
    "ax[0].set_ylabel(\"Victim type\")\n",
    "ax[1].set_ylabel(\"Victim type (CAIDA)\")\n",
    "fig.align_ylabels()\n",
    "fig.subplots_adjust(hspace=0.1)\n",
    "plt.tight_layout()\n",
    "fig.savefig(\"images/attacks-by-victim-type.png\")"
   ]
  },
  {
   "cell_type": "markdown",
   "metadata": {},
   "source": [
    "#### Per Country"
   ]
  },
  {
   "cell_type": "code",
   "execution_count": null,
   "metadata": {},
   "outputs": [],
   "source": [
    "# color the boxplots per region\n",
    "regions = orgs.region.unique()\n",
    "raw_countries = orgs.sort_values(by=[\"region\", \"raw_country\"]).raw_country.unique()\n",
    "colors = {regions[i] : sns.color_palette(n_colors=len(regions))[i] for i in range(len(regions))}\n",
    "\n",
    "# repalce abbrs with fullname\n",
    "regions_f = [\"Western Europe\",   # WE\n",
    "             \"North America\",    # NA\n",
    "             \"Asian Pacific\",    # AP\n",
    "             \"Eastern Europe\",   # EE\n",
    "             \"Latin America\",    # LC\n",
    "             \"Middle East\",      # ME\n",
    "             \"Africa\" ]          # AF"
   ]
  },
  {
   "cell_type": "code",
   "execution_count": null,
   "metadata": {},
   "outputs": [],
   "source": [
    "# import matplotlib.patches as mpatches\n",
    "\n",
    "# # plot per country\n",
    "# fig, ax = plt.subplots(len(raw_countries), figsize=(8,12), sharex=True)\n",
    "\n",
    "# for i in range(len(raw_countries)):\n",
    "#     region = orgs.region[orgs.raw_country == raw_countries[i]].values[0]\n",
    "#     sns.boxplot(x=\"count_attack\", y=\"raw_country\", orient=\"h\", color=colors[region],\n",
    "#                 data=orgs.sort_values(by=[\"region\", \"raw_country\"]).loc[orgs.raw_country == raw_countries[i]], ax=ax[i])  \n",
    "    \n",
    "#     # formatting axis\n",
    "#     ax[i].set_ylabel(\"\")\n",
    "#     ax[i].set_xlabel(\"\")\n",
    "#     ax[i].spines[\"top\"].set_visible(False)\n",
    "#     ax[i].spines[\"bottom\"].set_visible(False)\n",
    "#     ax[i].tick_params(axis='both', which='both', length=0)\n",
    "    \n",
    "# ax[i].set(xscale=\"log\")\n",
    "# ax[0].spines[\"top\"].set_visible(True)\n",
    "# ax[i].spines[\"bottom\"].set_visible(True)\n",
    "# ax[i].set_xlabel(\"Occurrence of attack against victims\")\n",
    "# plt.legend(handles=[mpatches.Patch(color=colors[regions[i]], label=regions_f[i]) \n",
    "#                     for i in range(len(regions))], bbox_to_anchor=(1., 1.2*len(raw_countries)),\n",
    "#           title=\"Region\")\n",
    "\n",
    "# fig.savefig(\"images/attack-by-country.png\")"
   ]
  },
  {
   "cell_type": "code",
   "execution_count": null,
   "metadata": {},
   "outputs": [],
   "source": []
  },
  {
   "cell_type": "code",
   "execution_count": null,
   "metadata": {},
   "outputs": [],
   "source": []
  },
  {
   "cell_type": "code",
   "execution_count": null,
   "metadata": {},
   "outputs": [],
   "source": []
  }
 ],
 "metadata": {
  "kernelspec": {
   "display_name": "Python 3",
   "language": "python",
   "name": "python3"
  },
  "language_info": {
   "codemirror_mode": {
    "name": "ipython",
    "version": 3
   },
   "file_extension": ".py",
   "mimetype": "text/x-python",
   "name": "python",
   "nbconvert_exporter": "python",
   "pygments_lexer": "ipython3",
   "version": "3.7.4"
  }
 },
 "nbformat": 4,
 "nbformat_minor": 4
}
