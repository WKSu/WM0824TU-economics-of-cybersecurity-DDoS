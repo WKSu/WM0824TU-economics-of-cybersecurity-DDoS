{
 "cells": [
  {
   "cell_type": "markdown",
   "metadata": {},
   "source": [
    "# DDoS: Security metrics"
   ]
  },
  {
   "cell_type": "code",
   "execution_count": 1,
   "metadata": {},
   "outputs": [],
   "source": [
    "import pandas as pd\n",
    "import numpy as np\n",
    "import matplotlib.pyplot as plt\n",
    "import seaborn as sns"
   ]
  },
  {
   "cell_type": "code",
   "execution_count": 3,
   "metadata": {},
   "outputs": [
    {
     "name": "stderr",
     "output_type": "stream",
     "text": [
      "C:\\Users\\newbi\\Anaconda3\\lib\\site-packages\\IPython\\core\\interactiveshell.py:2785: DtypeWarning: Columns (15,17,19,27) have mixed types. Specify dtype option on import or set low_memory=False.\n",
      "  interactivity=interactivity, compiler=compiler, result=result)\n"
     ]
    }
   ],
   "source": [
    "# data source: https://surfdrive.surf.nl/files/index.php/s/CZWfWQp3VKGKa8m\n",
    "df = pd.read_csv('data_with_ports.csv.gz', sep='|', compression='gzip')"
   ]
  },
  {
   "cell_type": "code",
   "execution_count": 4,
   "metadata": {},
   "outputs": [],
   "source": [
    "# parse string to datetime format\n",
    "df['date'] = pd.to_datetime(df['date'], format='%Y-%m-%d')\n",
    "df['start_time'] = pd.to_datetime(df['start_time'], format='%Y-%m-%dT%H:%M:%S+09:00')\n",
    "df['stop_time'] = pd.to_datetime(df['stop_time'], format='%Y-%m-%dT%H:%M:%S+09:00')"
   ]
  },
  {
   "cell_type": "code",
   "execution_count": 5,
   "metadata": {},
   "outputs": [
    {
     "name": "stdout",
     "output_type": "stream",
     "text": [
      "<class 'pandas.core.frame.DataFrame'>\n",
      "RangeIndex: 5721432 entries, 0 to 5721431\n",
      "Data columns (total 35 columns):\n",
      "target_ip                 object\n",
      "date                      datetime64[ns]\n",
      "sensor_id                 object\n",
      "service                   object\n",
      "start_time                datetime64[ns]\n",
      "stop_time                 datetime64[ns]\n",
      "duration                  float64\n",
      "packets                   int64\n",
      "raw_country               object\n",
      "raw_as                    object\n",
      "raw_hostname              object\n",
      "udp_port_list             object\n",
      "pyasn_as                  float64\n",
      "pyasn_as_bgp_size         float64\n",
      "cc                        object\n",
      "region                    object\n",
      "is_oecd                   float64\n",
      "as_type                   object\n",
      "as_type_confidence        float64\n",
      "tg_op                     object\n",
      "org                       object\n",
      "org_range                 object\n",
      "org_rangesize             float64\n",
      "org_ipsize_seen           float64\n",
      "org_domainsize_seen       float64\n",
      "org_ipsize_seen_shared    float64\n",
      "org_is_hosting            float64\n",
      "org_tag                   object\n",
      "caida_type                object\n",
      "dc                        int64\n",
      "subs                      float64\n",
      "as_ipsize_seen            float64\n",
      "as_domainsize_seen        float64\n",
      "pps                       float64\n",
      "year                      int64\n",
      "dtypes: datetime64[ns](3), float64(14), int64(3), object(15)\n",
      "memory usage: 1.5+ GB\n"
     ]
    }
   ],
   "source": [
    "df.info()"
   ]
  },
  {
   "cell_type": "code",
   "execution_count": 6,
   "metadata": {},
   "outputs": [
    {
     "data": {
      "text/html": [
       "<div>\n",
       "<style scoped>\n",
       "    .dataframe tbody tr th:only-of-type {\n",
       "        vertical-align: middle;\n",
       "    }\n",
       "\n",
       "    .dataframe tbody tr th {\n",
       "        vertical-align: top;\n",
       "    }\n",
       "\n",
       "    .dataframe thead th {\n",
       "        text-align: right;\n",
       "    }\n",
       "</style>\n",
       "<table border=\"1\" class=\"dataframe\">\n",
       "  <thead>\n",
       "    <tr style=\"text-align: right;\">\n",
       "      <th></th>\n",
       "      <th>target_ip</th>\n",
       "      <th>date</th>\n",
       "      <th>sensor_id</th>\n",
       "      <th>service</th>\n",
       "      <th>start_time</th>\n",
       "      <th>stop_time</th>\n",
       "      <th>duration</th>\n",
       "      <th>packets</th>\n",
       "      <th>raw_country</th>\n",
       "      <th>raw_as</th>\n",
       "      <th>...</th>\n",
       "      <th>org_ipsize_seen_shared</th>\n",
       "      <th>org_is_hosting</th>\n",
       "      <th>org_tag</th>\n",
       "      <th>caida_type</th>\n",
       "      <th>dc</th>\n",
       "      <th>subs</th>\n",
       "      <th>as_ipsize_seen</th>\n",
       "      <th>as_domainsize_seen</th>\n",
       "      <th>pps</th>\n",
       "      <th>year</th>\n",
       "    </tr>\n",
       "  </thead>\n",
       "  <tbody>\n",
       "    <tr>\n",
       "      <th>0</th>\n",
       "      <td>1.0.131.184</td>\n",
       "      <td>2014-08-02</td>\n",
       "      <td>sensor001</td>\n",
       "      <td>dns</td>\n",
       "      <td>2014-08-02 22:32:18</td>\n",
       "      <td>2014-08-02 22:37:15</td>\n",
       "      <td>297.0</td>\n",
       "      <td>609</td>\n",
       "      <td>Thailand</td>\n",
       "      <td>AS9737 TOT Public Company Limited</td>\n",
       "      <td>...</td>\n",
       "      <td>591.0</td>\n",
       "      <td>1.0</td>\n",
       "      <td>NaN</td>\n",
       "      <td>Transit/Access</td>\n",
       "      <td>0</td>\n",
       "      <td>1593000.0</td>\n",
       "      <td>405292.0</td>\n",
       "      <td>1408.0</td>\n",
       "      <td>2.050505</td>\n",
       "      <td>2014</td>\n",
       "    </tr>\n",
       "    <tr>\n",
       "      <th>1</th>\n",
       "      <td>1.0.131.184</td>\n",
       "      <td>2014-08-02</td>\n",
       "      <td>sensor003</td>\n",
       "      <td>dns</td>\n",
       "      <td>2014-08-02 22:32:20</td>\n",
       "      <td>2014-08-02 22:37:18</td>\n",
       "      <td>298.0</td>\n",
       "      <td>602</td>\n",
       "      <td>Thailand</td>\n",
       "      <td>AS9737 TOT Public Company Limited</td>\n",
       "      <td>...</td>\n",
       "      <td>591.0</td>\n",
       "      <td>1.0</td>\n",
       "      <td>NaN</td>\n",
       "      <td>Transit/Access</td>\n",
       "      <td>0</td>\n",
       "      <td>1593000.0</td>\n",
       "      <td>405292.0</td>\n",
       "      <td>1408.0</td>\n",
       "      <td>2.020134</td>\n",
       "      <td>2014</td>\n",
       "    </tr>\n",
       "    <tr>\n",
       "      <th>2</th>\n",
       "      <td>1.1.0.1</td>\n",
       "      <td>2014-07-01</td>\n",
       "      <td>sensor007</td>\n",
       "      <td>chg</td>\n",
       "      <td>2014-07-01 16:20:55</td>\n",
       "      <td>2014-07-01 16:21:24</td>\n",
       "      <td>29.0</td>\n",
       "      <td>494</td>\n",
       "      <td>China</td>\n",
       "      <td>None</td>\n",
       "      <td>...</td>\n",
       "      <td>2315.0</td>\n",
       "      <td>0.0</td>\n",
       "      <td>other</td>\n",
       "      <td>NaN</td>\n",
       "      <td>0</td>\n",
       "      <td>NaN</td>\n",
       "      <td>NaN</td>\n",
       "      <td>NaN</td>\n",
       "      <td>17.034483</td>\n",
       "      <td>2014</td>\n",
       "    </tr>\n",
       "    <tr>\n",
       "      <th>3</th>\n",
       "      <td>1.1.1.1</td>\n",
       "      <td>2014-01-10</td>\n",
       "      <td>sensor001</td>\n",
       "      <td>chg</td>\n",
       "      <td>2014-01-10 23:50:48</td>\n",
       "      <td>2014-01-10 23:56:46</td>\n",
       "      <td>358.0</td>\n",
       "      <td>331</td>\n",
       "      <td>Australia</td>\n",
       "      <td>AS15169 Google Inc.</td>\n",
       "      <td>...</td>\n",
       "      <td>6502.0</td>\n",
       "      <td>1.0</td>\n",
       "      <td>NaN</td>\n",
       "      <td>Content</td>\n",
       "      <td>2416</td>\n",
       "      <td>NaN</td>\n",
       "      <td>84522.0</td>\n",
       "      <td>4105765.0</td>\n",
       "      <td>0.924581</td>\n",
       "      <td>2014</td>\n",
       "    </tr>\n",
       "    <tr>\n",
       "      <th>4</th>\n",
       "      <td>1.1.1.1</td>\n",
       "      <td>2014-01-11</td>\n",
       "      <td>sensor001</td>\n",
       "      <td>chg</td>\n",
       "      <td>2014-01-11 01:11:09</td>\n",
       "      <td>2014-01-11 01:14:17</td>\n",
       "      <td>188.0</td>\n",
       "      <td>576</td>\n",
       "      <td>Australia</td>\n",
       "      <td>AS15169 Google Inc.</td>\n",
       "      <td>...</td>\n",
       "      <td>6502.0</td>\n",
       "      <td>1.0</td>\n",
       "      <td>NaN</td>\n",
       "      <td>Content</td>\n",
       "      <td>2416</td>\n",
       "      <td>NaN</td>\n",
       "      <td>84522.0</td>\n",
       "      <td>4105765.0</td>\n",
       "      <td>3.063830</td>\n",
       "      <td>2014</td>\n",
       "    </tr>\n",
       "  </tbody>\n",
       "</table>\n",
       "<p>5 rows × 35 columns</p>\n",
       "</div>"
      ],
      "text/plain": [
       "     target_ip       date  sensor_id service          start_time  \\\n",
       "0  1.0.131.184 2014-08-02  sensor001     dns 2014-08-02 22:32:18   \n",
       "1  1.0.131.184 2014-08-02  sensor003     dns 2014-08-02 22:32:20   \n",
       "2      1.1.0.1 2014-07-01  sensor007     chg 2014-07-01 16:20:55   \n",
       "3      1.1.1.1 2014-01-10  sensor001     chg 2014-01-10 23:50:48   \n",
       "4      1.1.1.1 2014-01-11  sensor001     chg 2014-01-11 01:11:09   \n",
       "\n",
       "            stop_time  duration  packets raw_country  \\\n",
       "0 2014-08-02 22:37:15     297.0      609    Thailand   \n",
       "1 2014-08-02 22:37:18     298.0      602    Thailand   \n",
       "2 2014-07-01 16:21:24      29.0      494       China   \n",
       "3 2014-01-10 23:56:46     358.0      331   Australia   \n",
       "4 2014-01-11 01:14:17     188.0      576   Australia   \n",
       "\n",
       "                              raw_as  ... org_ipsize_seen_shared  \\\n",
       "0  AS9737 TOT Public Company Limited  ...                  591.0   \n",
       "1  AS9737 TOT Public Company Limited  ...                  591.0   \n",
       "2                               None  ...                 2315.0   \n",
       "3                AS15169 Google Inc.  ...                 6502.0   \n",
       "4                AS15169 Google Inc.  ...                 6502.0   \n",
       "\n",
       "  org_is_hosting  org_tag      caida_type    dc       subs  as_ipsize_seen  \\\n",
       "0            1.0      NaN  Transit/Access     0  1593000.0        405292.0   \n",
       "1            1.0      NaN  Transit/Access     0  1593000.0        405292.0   \n",
       "2            0.0    other             NaN     0        NaN             NaN   \n",
       "3            1.0      NaN         Content  2416        NaN         84522.0   \n",
       "4            1.0      NaN         Content  2416        NaN         84522.0   \n",
       "\n",
       "  as_domainsize_seen        pps  year  \n",
       "0             1408.0   2.050505  2014  \n",
       "1             1408.0   2.020134  2014  \n",
       "2                NaN  17.034483  2014  \n",
       "3          4105765.0   0.924581  2014  \n",
       "4          4105765.0   3.063830  2014  \n",
       "\n",
       "[5 rows x 35 columns]"
      ]
     },
     "execution_count": 6,
     "metadata": {},
     "output_type": "execute_result"
    }
   ],
   "source": [
    "df.head()"
   ]
  },
  {
   "cell_type": "code",
   "execution_count": 37,
   "metadata": {},
   "outputs": [
    {
     "data": {
      "text/plain": [
       "target_ip                                                       1.0.131.184\n",
       "date                                                    2014-08-02 00:00:00\n",
       "sensor_id                                                         sensor003\n",
       "service                                                                 dns\n",
       "start_time                                              2014-08-02 22:32:20\n",
       "stop_time                                               2014-08-02 22:37:18\n",
       "duration                                                                298\n",
       "packets                                                                 602\n",
       "raw_country                                                        Thailand\n",
       "raw_as                                    AS9737 TOT Public Company Limited\n",
       "raw_hostname                             node-qg.pool-1-0.dynamic.totbb.net\n",
       "udp_port_list                                                          [80]\n",
       "pyasn_as                                                              23969\n",
       "pyasn_as_bgp_size                                                    473600\n",
       "cc                                                                       TH\n",
       "region                                                                   AP\n",
       "is_oecd                                                                   0\n",
       "as_type                                                       isp-broadband\n",
       "as_type_confidence                                                        2\n",
       "tg_op                                                                  TH01\n",
       "org                                                                     TOT\n",
       "org_range                 (28546912, 28546923)-(1991183928, 1991184223)-...\n",
       "org_rangesize                                                    1.3175e+06\n",
       "org_ipsize_seen                                                      556359\n",
       "org_domainsize_seen                                                    2562\n",
       "org_ipsize_seen_shared                                                  591\n",
       "org_is_hosting                                                            1\n",
       "org_tag                                                                 NaN\n",
       "caida_type                                                   Transit/Access\n",
       "dc                                                                        0\n",
       "subs                                                              1.593e+06\n",
       "as_ipsize_seen                                                       405292\n",
       "as_domainsize_seen                                                     1408\n",
       "pps                                                                 2.02013\n",
       "year                                                                   2014\n",
       "Name: 1, dtype: object"
      ]
     },
     "execution_count": 37,
     "metadata": {},
     "output_type": "execute_result"
    }
   ],
   "source": [
    "df.iloc[1]"
   ]
  },
  {
   "cell_type": "markdown",
   "metadata": {},
   "source": [
    "## 0. General Overview Dataset"
   ]
  },
  {
   "cell_type": "code",
   "execution_count": 10,
   "metadata": {},
   "outputs": [
    {
     "data": {
      "text/plain": [
       "216"
      ]
     },
     "execution_count": 10,
     "metadata": {},
     "output_type": "execute_result"
    }
   ],
   "source": [
    "# Countries\n",
    "unique_countries = df['raw_country'].unique()\n",
    "len(unique_countries)"
   ]
  },
  {
   "cell_type": "code",
   "execution_count": 55,
   "metadata": {},
   "outputs": [
    {
     "data": {
      "image/png": "[encoded data removed]",
      "text/plain": [
       "<Figure size 432x288 with 1 Axes>"
      ]
     },
     "metadata": {},
     "output_type": "display_data"
    }
   ],
   "source": [
    "# Services\n",
    "\n",
    "x_services = df[\"service\"].value_counts().index.tolist()\n",
    "y_services = df[\"service\"].value_counts()\n",
    "ax = sns.barplot(x_services, y_services)\n",
    "ax.set_title(\"Protocols used to perform the DDoS Attacks\")\n",
    "ax.set_ylabel(\"Attacks\")\n",
    "# ax.figure.savefig(\"protocols.png\")\n",
    "\n",
    "plt.show()"
   ]
  },
  {
   "cell_type": "code",
   "execution_count": 104,
   "metadata": {},
   "outputs": [
    {
     "data": {
      "text/plain": [
       "dns     41.296322\n",
       "ntp     38.762656\n",
       "chg     11.249719\n",
       "ssdp     8.022712\n",
       "snmp     0.651515\n",
       "qotd     0.017076\n",
       "Name: service, dtype: float64"
      ]
     },
     "execution_count": 104,
     "metadata": {},
     "output_type": "execute_result"
    }
   ],
   "source": [
    "y_services.divide(y_services.sum()) * 100"
   ]
  },
  {
   "cell_type": "code",
   "execution_count": 72,
   "metadata": {},
   "outputs": [
    {
     "data": {
      "image/png": "[encoded data removed]",
      "text/plain": [
       "<Figure size 432x288 with 1 Axes>"
      ]
     },
     "metadata": {},
     "output_type": "display_data"
    }
   ],
   "source": [
    "# AS_Types\n",
    "\n",
    "x_type = df[\"as_type\"].value_counts().index.tolist()\n",
    "y_type = df[\"as_type\"].value_counts()\n",
    "ax = sns.barplot(x_type, y_type)\n",
    "ax.set_xticklabels(x_type, rotation = 20, fontsize = 7)\n",
    "ax.set_title(\"Type of autonomous system attacked\")\n",
    "ax.set_ylabel(\"Attacks\")\n",
    "# ax.set_yscale('log')\n",
    "ax.figure.savefig(\"type_as.png\")\n",
    "\n",
    "plt.show()"
   ]
  },
  {
   "cell_type": "code",
   "execution_count": 107,
   "metadata": {},
   "outputs": [
    {
     "data": {
      "text/plain": [
       "as_type\n",
       "edu                   109\n",
       "gov                    22\n",
       "hosting               217\n",
       "isp-broadband         753\n",
       "isp-mobile            247\n",
       "isp-other             653\n",
       "non-intermediary       39\n",
       "other-intermediary     14\n",
       "Name: raw_as, dtype: int64"
      ]
     },
     "execution_count": 107,
     "metadata": {},
     "output_type": "execute_result"
    }
   ],
   "source": [
    "raw_as_count"
   ]
  },
  {
   "cell_type": "code",
   "execution_count": 106,
   "metadata": {},
   "outputs": [
    {
     "data": {
      "text/plain": [
       "as_type\n",
       "edu                   109\n",
       "gov                    22\n",
       "hosting               217\n",
       "isp-broadband         753\n",
       "isp-mobile            247\n",
       "isp-other             653\n",
       "non-intermediary       39\n",
       "other-intermediary     14\n",
       "Name: raw_as, dtype: int64"
      ]
     },
     "execution_count": 106,
     "metadata": {},
     "output_type": "execute_result"
    }
   ],
   "source": [
    "y_raw_as"
   ]
  },
  {
   "cell_type": "code",
   "execution_count": 111,
   "metadata": {},
   "outputs": [
    {
     "data": {
      "image/png": "[encoded data removed]",
      "text/plain": [
       "<Figure size 432x288 with 1 Axes>"
      ]
     },
     "metadata": {},
     "output_type": "display_data"
    }
   ],
   "source": [
    "raw_as_count = df.drop_duplicates([\"raw_as\"]).groupby(\"as_type\")[\"raw_as\"].count()\n",
    "\n",
    "x_raw_as = raw_as_count.index.tolist()\n",
    "y_raw_as = raw_as_count\n",
    "ax = sns.barplot(x_raw_as, y_raw_as, order = x_type)\n",
    "ax.set_xticklabels(x_type, rotation = 20, fontsize = 7)\n",
    "ax.set_title(\"Unique AS per type AS\")\n",
    "ax.set_ylabel(\"Unique AS\")\n",
    "ax.figure.savefig(\"type_as_unique.png\")\n",
    "\n",
    "plt.show()"
   ]
  },
  {
   "cell_type": "code",
   "execution_count": 51,
   "metadata": {},
   "outputs": [
    {
     "data": {
      "image/png": "[encoded data removed]",
      "text/plain": [
       "<Figure size 432x288 with 1 Axes>"
      ]
     },
     "metadata": {},
     "output_type": "display_data"
    }
   ],
   "source": [
    "ax = sns.boxplot(x = \"service\", y = \"packets\", data = df)\n",
    "ax.set_yscale('log')"
   ]
  },
  {
   "cell_type": "code",
   "execution_count": 52,
   "metadata": {},
   "outputs": [
    {
     "data": {
      "image/png": "[encoded data removed]",
      "text/plain": [
       "<Figure size 432x288 with 1 Axes>"
      ]
     },
     "metadata": {},
     "output_type": "display_data"
    }
   ],
   "source": [
    "ax = sns.boxplot(x = \"service\", y = \"duration\", data = df)\n",
    "ax.set_yscale('log')"
   ]
  },
  {
   "cell_type": "markdown",
   "metadata": {},
   "source": [
    "## 1. Top N Countries with most incidents"
   ]
  },
  {
   "cell_type": "code",
   "execution_count": null,
   "metadata": {},
   "outputs": [],
   "source": [
    "# top N countries with most incidents\n",
    "N = 5\n",
    "\n",
    "# list out the top N countries with most incidents\n",
    "topNcountries = df.cc.value_counts()[:N].index.to_list()\n",
    "\n",
    "# count the daily incident frequency for each country\n",
    "df_countries = df[[\"cc\", \"date\"]].groupby(\"date\").cc.value_counts().to_frame()\n",
    "df_countries.columns = [\"counts\"]\n",
    "df_countries.reset_index(inplace=True)\n",
    "\n",
    "# filter only the top N countries\n",
    "df_countries = df_countries[df_countries['cc'].isin(topNcountries)]\n",
    "df_countries.columns = [\"Date\", \"Country\", \"# of Incidents per day\"]"
   ]
  },
  {
   "cell_type": "code",
   "execution_count": null,
   "metadata": {},
   "outputs": [],
   "source": [
    "fig, ax = plt.subplots(figsize=(12,8))\n",
    "ax = sns.lineplot(x=\"Date\", y=\"# of Incidents per day\", hue=\"Country\", data=df_countries)\n",
    "ax.set_title(\"# of DDoS attacks per day, per country\\n(top %i countries with most total # of incidents)\" % N)\n",
    "fig.autofmt_xdate() # formatting datetime xlabel"
   ]
  },
  {
   "cell_type": "markdown",
   "metadata": {},
   "source": [
    "## 2. Sensor ID vs Service type"
   ]
  },
  {
   "cell_type": "code",
   "execution_count": null,
   "metadata": {},
   "outputs": [],
   "source": [
    "df_sensorsAndService = df[[\"sensor_id\", \"service\"]].groupby(\"sensor_id\").service.value_counts().to_frame()\n",
    "df_sensorsAndService.columns = [\"counts\"]\n",
    "df_sensorsAndService.reset_index(inplace=True)"
   ]
  },
  {
   "cell_type": "code",
   "execution_count": null,
   "metadata": {},
   "outputs": [],
   "source": [
    "df_sensorsAndService = df_sensorsAndService.pivot(\"sensor_id\", \"service\", \"counts\")\n",
    "df_sensorsAndService.fillna(0, inplace=True)"
   ]
  },
  {
   "cell_type": "code",
   "execution_count": null,
   "metadata": {},
   "outputs": [],
   "source": [
    "fig, ax = plt.subplots(figsize=(10,6))\n",
    "ax = sns.heatmap(df_sensorsAndService, annot=True, fmt=\".0f\", cmap=\"YlGnBu\")\n",
    "ax.set_title(\"# of attacks: sensor id vs service type\")"
   ]
  }
 ],
 "metadata": {
  "kernelspec": {
   "display_name": "Python 3",
   "language": "python",
   "name": "python3"
  },
  "language_info": {
   "codemirror_mode": {
    "name": "ipython",
    "version": 3
   },
   "file_extension": ".py",
   "mimetype": "text/x-python",
   "name": "python",
   "nbconvert_exporter": "python",
   "pygments_lexer": "ipython3",
   "version": "3.6.5"
  }
 },
 "nbformat": 4,
 "nbformat_minor": 4
}
