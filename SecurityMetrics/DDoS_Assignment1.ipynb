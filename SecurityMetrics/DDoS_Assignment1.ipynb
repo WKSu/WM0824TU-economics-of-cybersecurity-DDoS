{
 "cells": [
  {
   "cell_type": "markdown",
   "metadata": {},
   "source": [
    "# DDoS: Security metrics"
   ]
  },
  {
   "cell_type": "code",
   "execution_count": 2,
   "metadata": {},
   "outputs": [],
   "source": [
    "import pandas as pd\n",
    "import numpy as np\n",
    "import matplotlib.pyplot as plt\n",
    "import seaborn as sns\n",
    "\n",
    "#New packages installed geopandas and geoplot\n",
    "import geopandas as gpd\n",
    "import geoplot"
   ]
  },
  {
   "cell_type": "code",
   "execution_count": 4,
   "metadata": {},
   "outputs": [
    {
     "name": "stderr",
     "output_type": "stream",
     "text": [
      "C:\\Users\\newbi\\Anaconda3\\lib\\site-packages\\IPython\\core\\interactiveshell.py:2785: DtypeWarning: Columns (15,17,19,27) have mixed types. Specify dtype option on import or set low_memory=False.\n",
      "  interactivity=interactivity, compiler=compiler, result=result)\n"
     ]
    }
   ],
   "source": [
    "# data source: https://surfdrive.surf.nl/files/index.php/s/CZWfWQp3VKGKa8m\n",
    "df = pd.read_csv('data_with_ports.csv.gz', sep='|', compression='gzip')"
   ]
  },
  {
   "cell_type": "code",
   "execution_count": 5,
   "metadata": {},
   "outputs": [],
   "source": [
    "# parse string to datetime format\n",
    "df['date'] = pd.to_datetime(df['date'], format='%Y-%m-%d')\n",
    "df['start_time'] = pd.to_datetime(df['start_time'], format='%Y-%m-%dT%H:%M:%S+09:00')\n",
    "df['stop_time'] = pd.to_datetime(df['stop_time'], format='%Y-%m-%dT%H:%M:%S+09:00')"
   ]
  },
  {
   "cell_type": "code",
   "execution_count": 6,
   "metadata": {},
   "outputs": [
    {
     "name": "stdout",
     "output_type": "stream",
     "text": [
      "<class 'pandas.core.frame.DataFrame'>\n",
      "RangeIndex: 5721432 entries, 0 to 5721431\n",
      "Data columns (total 35 columns):\n",
      "target_ip                 object\n",
      "date                      datetime64[ns]\n",
      "sensor_id                 object\n",
      "service                   object\n",
      "start_time                datetime64[ns]\n",
      "stop_time                 datetime64[ns]\n",
      "duration                  float64\n",
      "packets                   int64\n",
      "raw_country               object\n",
      "raw_as                    object\n",
      "raw_hostname              object\n",
      "udp_port_list             object\n",
      "pyasn_as                  float64\n",
      "pyasn_as_bgp_size         float64\n",
      "cc                        object\n",
      "region                    object\n",
      "is_oecd                   float64\n",
      "as_type                   object\n",
      "as_type_confidence        float64\n",
      "tg_op                     object\n",
      "org                       object\n",
      "org_range                 object\n",
      "org_rangesize             float64\n",
      "org_ipsize_seen           float64\n",
      "org_domainsize_seen       float64\n",
      "org_ipsize_seen_shared    float64\n",
      "org_is_hosting            float64\n",
      "org_tag                   object\n",
      "caida_type                object\n",
      "dc                        int64\n",
      "subs                      float64\n",
      "as_ipsize_seen            float64\n",
      "as_domainsize_seen        float64\n",
      "pps                       float64\n",
      "year                      int64\n",
      "dtypes: datetime64[ns](3), float64(14), int64(3), object(15)\n",
      "memory usage: 1.5+ GB\n"
     ]
    }
   ],
   "source": [
    "df.info()"
   ]
  },
  {
   "cell_type": "code",
   "execution_count": 7,
   "metadata": {},
   "outputs": [
    {
     "data": {
      "text/html": [
       "<div>\n",
       "<style scoped>\n",
       "    .dataframe tbody tr th:only-of-type {\n",
       "        vertical-align: middle;\n",
       "    }\n",
       "\n",
       "    .dataframe tbody tr th {\n",
       "        vertical-align: top;\n",
       "    }\n",
       "\n",
       "    .dataframe thead th {\n",
       "        text-align: right;\n",
       "    }\n",
       "</style>\n",
       "<table border=\"1\" class=\"dataframe\">\n",
       "  <thead>\n",
       "    <tr style=\"text-align: right;\">\n",
       "      <th></th>\n",
       "      <th>target_ip</th>\n",
       "      <th>date</th>\n",
       "      <th>sensor_id</th>\n",
       "      <th>service</th>\n",
       "      <th>start_time</th>\n",
       "      <th>stop_time</th>\n",
       "      <th>duration</th>\n",
       "      <th>packets</th>\n",
       "      <th>raw_country</th>\n",
       "      <th>raw_as</th>\n",
       "      <th>...</th>\n",
       "      <th>org_ipsize_seen_shared</th>\n",
       "      <th>org_is_hosting</th>\n",
       "      <th>org_tag</th>\n",
       "      <th>caida_type</th>\n",
       "      <th>dc</th>\n",
       "      <th>subs</th>\n",
       "      <th>as_ipsize_seen</th>\n",
       "      <th>as_domainsize_seen</th>\n",
       "      <th>pps</th>\n",
       "      <th>year</th>\n",
       "    </tr>\n",
       "  </thead>\n",
       "  <tbody>\n",
       "    <tr>\n",
       "      <th>0</th>\n",
       "      <td>1.0.131.184</td>\n",
       "      <td>2014-08-02</td>\n",
       "      <td>sensor001</td>\n",
       "      <td>dns</td>\n",
       "      <td>2014-08-02 22:32:18</td>\n",
       "      <td>2014-08-02 22:37:15</td>\n",
       "      <td>297.0</td>\n",
       "      <td>609</td>\n",
       "      <td>Thailand</td>\n",
       "      <td>AS9737 TOT Public Company Limited</td>\n",
       "      <td>...</td>\n",
       "      <td>591.0</td>\n",
       "      <td>1.0</td>\n",
       "      <td>NaN</td>\n",
       "      <td>Transit/Access</td>\n",
       "      <td>0</td>\n",
       "      <td>1593000.0</td>\n",
       "      <td>405292.0</td>\n",
       "      <td>1408.0</td>\n",
       "      <td>2.050505</td>\n",
       "      <td>2014</td>\n",
       "    </tr>\n",
       "    <tr>\n",
       "      <th>1</th>\n",
       "      <td>1.0.131.184</td>\n",
       "      <td>2014-08-02</td>\n",
       "      <td>sensor003</td>\n",
       "      <td>dns</td>\n",
       "      <td>2014-08-02 22:32:20</td>\n",
       "      <td>2014-08-02 22:37:18</td>\n",
       "      <td>298.0</td>\n",
       "      <td>602</td>\n",
       "      <td>Thailand</td>\n",
       "      <td>AS9737 TOT Public Company Limited</td>\n",
       "      <td>...</td>\n",
       "      <td>591.0</td>\n",
       "      <td>1.0</td>\n",
       "      <td>NaN</td>\n",
       "      <td>Transit/Access</td>\n",
       "      <td>0</td>\n",
       "      <td>1593000.0</td>\n",
       "      <td>405292.0</td>\n",
       "      <td>1408.0</td>\n",
       "      <td>2.020134</td>\n",
       "      <td>2014</td>\n",
       "    </tr>\n",
       "    <tr>\n",
       "      <th>2</th>\n",
       "      <td>1.1.0.1</td>\n",
       "      <td>2014-07-01</td>\n",
       "      <td>sensor007</td>\n",
       "      <td>chg</td>\n",
       "      <td>2014-07-01 16:20:55</td>\n",
       "      <td>2014-07-01 16:21:24</td>\n",
       "      <td>29.0</td>\n",
       "      <td>494</td>\n",
       "      <td>China</td>\n",
       "      <td>None</td>\n",
       "      <td>...</td>\n",
       "      <td>2315.0</td>\n",
       "      <td>0.0</td>\n",
       "      <td>other</td>\n",
       "      <td>NaN</td>\n",
       "      <td>0</td>\n",
       "      <td>NaN</td>\n",
       "      <td>NaN</td>\n",
       "      <td>NaN</td>\n",
       "      <td>17.034483</td>\n",
       "      <td>2014</td>\n",
       "    </tr>\n",
       "    <tr>\n",
       "      <th>3</th>\n",
       "      <td>1.1.1.1</td>\n",
       "      <td>2014-01-10</td>\n",
       "      <td>sensor001</td>\n",
       "      <td>chg</td>\n",
       "      <td>2014-01-10 23:50:48</td>\n",
       "      <td>2014-01-10 23:56:46</td>\n",
       "      <td>358.0</td>\n",
       "      <td>331</td>\n",
       "      <td>Australia</td>\n",
       "      <td>AS15169 Google Inc.</td>\n",
       "      <td>...</td>\n",
       "      <td>6502.0</td>\n",
       "      <td>1.0</td>\n",
       "      <td>NaN</td>\n",
       "      <td>Content</td>\n",
       "      <td>2416</td>\n",
       "      <td>NaN</td>\n",
       "      <td>84522.0</td>\n",
       "      <td>4105765.0</td>\n",
       "      <td>0.924581</td>\n",
       "      <td>2014</td>\n",
       "    </tr>\n",
       "    <tr>\n",
       "      <th>4</th>\n",
       "      <td>1.1.1.1</td>\n",
       "      <td>2014-01-11</td>\n",
       "      <td>sensor001</td>\n",
       "      <td>chg</td>\n",
       "      <td>2014-01-11 01:11:09</td>\n",
       "      <td>2014-01-11 01:14:17</td>\n",
       "      <td>188.0</td>\n",
       "      <td>576</td>\n",
       "      <td>Australia</td>\n",
       "      <td>AS15169 Google Inc.</td>\n",
       "      <td>...</td>\n",
       "      <td>6502.0</td>\n",
       "      <td>1.0</td>\n",
       "      <td>NaN</td>\n",
       "      <td>Content</td>\n",
       "      <td>2416</td>\n",
       "      <td>NaN</td>\n",
       "      <td>84522.0</td>\n",
       "      <td>4105765.0</td>\n",
       "      <td>3.063830</td>\n",
       "      <td>2014</td>\n",
       "    </tr>\n",
       "  </tbody>\n",
       "</table>\n",
       "<p>5 rows × 35 columns</p>\n",
       "</div>"
      ],
      "text/plain": [
       "     target_ip       date  sensor_id service          start_time  \\\n",
       "0  1.0.131.184 2014-08-02  sensor001     dns 2014-08-02 22:32:18   \n",
       "1  1.0.131.184 2014-08-02  sensor003     dns 2014-08-02 22:32:20   \n",
       "2      1.1.0.1 2014-07-01  sensor007     chg 2014-07-01 16:20:55   \n",
       "3      1.1.1.1 2014-01-10  sensor001     chg 2014-01-10 23:50:48   \n",
       "4      1.1.1.1 2014-01-11  sensor001     chg 2014-01-11 01:11:09   \n",
       "\n",
       "            stop_time  duration  packets raw_country  \\\n",
       "0 2014-08-02 22:37:15     297.0      609    Thailand   \n",
       "1 2014-08-02 22:37:18     298.0      602    Thailand   \n",
       "2 2014-07-01 16:21:24      29.0      494       China   \n",
       "3 2014-01-10 23:56:46     358.0      331   Australia   \n",
       "4 2014-01-11 01:14:17     188.0      576   Australia   \n",
       "\n",
       "                              raw_as  ... org_ipsize_seen_shared  \\\n",
       "0  AS9737 TOT Public Company Limited  ...                  591.0   \n",
       "1  AS9737 TOT Public Company Limited  ...                  591.0   \n",
       "2                               None  ...                 2315.0   \n",
       "3                AS15169 Google Inc.  ...                 6502.0   \n",
       "4                AS15169 Google Inc.  ...                 6502.0   \n",
       "\n",
       "  org_is_hosting  org_tag      caida_type    dc       subs  as_ipsize_seen  \\\n",
       "0            1.0      NaN  Transit/Access     0  1593000.0        405292.0   \n",
       "1            1.0      NaN  Transit/Access     0  1593000.0        405292.0   \n",
       "2            0.0    other             NaN     0        NaN             NaN   \n",
       "3            1.0      NaN         Content  2416        NaN         84522.0   \n",
       "4            1.0      NaN         Content  2416        NaN         84522.0   \n",
       "\n",
       "  as_domainsize_seen        pps  year  \n",
       "0             1408.0   2.050505  2014  \n",
       "1             1408.0   2.020134  2014  \n",
       "2                NaN  17.034483  2014  \n",
       "3          4105765.0   0.924581  2014  \n",
       "4          4105765.0   3.063830  2014  \n",
       "\n",
       "[5 rows x 35 columns]"
      ]
     },
     "execution_count": 7,
     "metadata": {},
     "output_type": "execute_result"
    }
   ],
   "source": [
    "df.head()"
   ]
  },
  {
   "cell_type": "code",
   "execution_count": 8,
   "metadata": {},
   "outputs": [
    {
     "data": {
      "text/plain": [
       "target_ip                                                       1.0.131.184\n",
       "date                                                    2014-08-02 00:00:00\n",
       "sensor_id                                                         sensor003\n",
       "service                                                                 dns\n",
       "start_time                                              2014-08-02 22:32:20\n",
       "stop_time                                               2014-08-02 22:37:18\n",
       "duration                                                                298\n",
       "packets                                                                 602\n",
       "raw_country                                                        Thailand\n",
       "raw_as                                    AS9737 TOT Public Company Limited\n",
       "raw_hostname                             node-qg.pool-1-0.dynamic.totbb.net\n",
       "udp_port_list                                                          [80]\n",
       "pyasn_as                                                              23969\n",
       "pyasn_as_bgp_size                                                    473600\n",
       "cc                                                                       TH\n",
       "region                                                                   AP\n",
       "is_oecd                                                                   0\n",
       "as_type                                                       isp-broadband\n",
       "as_type_confidence                                                        2\n",
       "tg_op                                                                  TH01\n",
       "org                                                                     TOT\n",
       "org_range                 (28546912, 28546923)-(1991183928, 1991184223)-...\n",
       "org_rangesize                                                    1.3175e+06\n",
       "org_ipsize_seen                                                      556359\n",
       "org_domainsize_seen                                                    2562\n",
       "org_ipsize_seen_shared                                                  591\n",
       "org_is_hosting                                                            1\n",
       "org_tag                                                                 NaN\n",
       "caida_type                                                   Transit/Access\n",
       "dc                                                                        0\n",
       "subs                                                              1.593e+06\n",
       "as_ipsize_seen                                                       405292\n",
       "as_domainsize_seen                                                     1408\n",
       "pps                                                                 2.02013\n",
       "year                                                                   2014\n",
       "Name: 1, dtype: object"
      ]
     },
     "execution_count": 8,
     "metadata": {},
     "output_type": "execute_result"
    }
   ],
   "source": [
    "df.iloc[1]"
   ]
  },
  {
   "cell_type": "markdown",
   "metadata": {},
   "source": [
    "## 0. General Overview Dataset"
   ]
  },
  {
   "cell_type": "markdown",
   "metadata": {},
   "source": [
    "### a. Countries\n",
    "\n",
    "The dataset contains 216 countries where the IP addresses reside."
   ]
  },
  {
   "cell_type": "code",
   "execution_count": 22,
   "metadata": {},
   "outputs": [
    {
     "data": {
      "text/plain": [
       "216"
      ]
     },
     "execution_count": 22,
     "metadata": {},
     "output_type": "execute_result"
    }
   ],
   "source": [
    "# Countries\n",
    "unique_countries = df['raw_country'].unique()\n",
    "# Different results if you use unique cc -> 187\n",
    "# unique_countries = df['cc'].unique()\n",
    "\n",
    "\n",
    "len(unique_countries)"
   ]
  },
  {
   "cell_type": "markdown",
   "metadata": {},
   "source": [
    "### b. Services\n",
    "\n",
    "DNS and NTP are the major protocols that were used to execute the attack."
   ]
  },
  {
   "cell_type": "code",
   "execution_count": 11,
   "metadata": {},
   "outputs": [
    {
     "data": {
      "image/png": "[encoded data removed]",
      "text/plain": [
       "<Figure size 432x288 with 1 Axes>"
      ]
     },
     "metadata": {
      "needs_background": "light"
     },
     "output_type": "display_data"
    }
   ],
   "source": [
    "# Services\n",
    "\n",
    "countServices = df[\"service\"].value_counts()\n",
    "ax = sns.barplot(countServices.index.tolist(), countServices)\n",
    "ax.set_title(\"Protocols used to perform the DDoS Attacks\")\n",
    "ax.set_ylabel(\"Attacks\")\n",
    "# ax.figure.savefig(\"protocols.png\")\n",
    "\n",
    "plt.show()"
   ]
  },
  {
   "cell_type": "code",
   "execution_count": 87,
   "metadata": {},
   "outputs": [
    {
     "data": {
      "image/png": "[encoded data removed]",
      "text/plain": [
       "<Figure size 432x360 with 1 Axes>"
      ]
     },
     "metadata": {},
     "output_type": "display_data"
    }
   ],
   "source": [
    "fig, ax = plt.subplots(figsize=(6, 5), subplot_kw=dict(aspect=\"equal\"))\n",
    "\n",
    "# proportion (in percentage) of the services\n",
    "pct = countServices.divide(countServices.sum()) * 100\n",
    "\n",
    "wedges, texts = ax.pie(countServices, wedgeprops=dict(width=0.5), startangle=-60)\n",
    "\n",
    "bbox_props = dict(boxstyle=\"square,pad=0.\", fc=\"w\", ec=\"k\", lw=0.)\n",
    "kw = dict(arrowprops=dict(arrowstyle=\"-\"),\n",
    "          bbox=bbox_props, zorder=0, va=\"center\")\n",
    "\n",
    "for i, p in enumerate(wedges):\n",
    "    ang = (p.theta2 - p.theta1)/3 + p.theta1\n",
    "    y = np.sin(np.deg2rad(ang))\n",
    "    x = np.cos(np.deg2rad(ang))\n",
    "    horizontalalignment = {-1: \"right\", 1: \"left\"}[int(np.sign(x))]\n",
    "    connectionstyle = \"angle,angleA=0,angleB={}\".format(ang)\n",
    "    kw[\"arrowprops\"].update({\"connectionstyle\": connectionstyle})\n",
    "    \n",
    "    # annotation message\n",
    "    if pct[i] > 0.5:\n",
    "        annotMsg = \"%s (%.1f%%)\" % (countServices.index.tolist()[i], pct[i])\n",
    "        ax.annotate(annotMsg, xy=(x, y), xytext=(1.35*np.sign(x), 1.4*y),\n",
    "                    horizontalalignment=horizontalalignment, **kw)\n",
    "\n",
    "ax.set_title(\"Proportion (%) of protocols used to perform the DDoS attacks\")\n",
    "\n",
    "plt.show()"
   ]
  },
  {
   "cell_type": "markdown",
   "metadata": {},
   "source": [
    "### c. as types\n",
    "\n",
    "The type of the Autonomous System (could be ISP, Hosting, EDU, etc.)"
   ]
  },
  {
   "cell_type": "code",
   "execution_count": 13,
   "metadata": {},
   "outputs": [
    {
     "data": {
      "image/png": "[encoded data removed]",
      "text/plain": [
       "<Figure size 432x288 with 1 Axes>"
      ]
     },
     "metadata": {},
     "output_type": "display_data"
    }
   ],
   "source": [
    "# AS_Types\n",
    "\n",
    "countAsType = df[\"as_type\"].value_counts()\n",
    "\n",
    "ax = sns.barplot(countAsType.index.tolist(), countAsType)\n",
    "ax.set_xticklabels(countAsType.index.tolist(), rotation = 20, fontsize = 7)\n",
    "ax.set_title(\"Type of autonomous system attacked\")\n",
    "ax.set_ylabel(\"Attacks\")\n",
    "# ax.set_yscale('log')\n",
    "ax.figure.savefig(\"type_as.png\")\n",
    "\n",
    "plt.show()"
   ]
  },
  {
   "cell_type": "code",
   "execution_count": 96,
   "metadata": {},
   "outputs": [
    {
     "data": {
      "image/png": "[encoded data removed]",
      "text/plain": [
       "<Figure size 432x360 with 1 Axes>"
      ]
     },
     "metadata": {},
     "output_type": "display_data"
    }
   ],
   "source": [
    "fig, ax = plt.subplots(figsize=(6, 5), subplot_kw=dict(aspect=\"equal\"))\n",
    "\n",
    "# proportion (in percentage) of the services\n",
    "pct = countAsType.divide(countAsType.sum()) * 100\n",
    "\n",
    "wedges, texts = ax.pie(countAsType, wedgeprops=dict(width=0.5), startangle=-130)\n",
    "\n",
    "bbox_props = dict(boxstyle=\"square,pad=0.\", fc=\"w\", ec=\"k\", lw=0.)\n",
    "kw = dict(arrowprops=dict(arrowstyle=\"-\"),\n",
    "          bbox=bbox_props, zorder=0, va=\"center\")\n",
    "\n",
    "for i, p in enumerate(wedges):\n",
    "    ang = (p.theta2 - p.theta1)/3 + p.theta1\n",
    "    y = np.sin(np.deg2rad(ang))\n",
    "    x = np.cos(np.deg2rad(ang))\n",
    "    horizontalalignment = {-1: \"right\", 1: \"left\"}[int(np.sign(x))]\n",
    "    connectionstyle = \"angle,angleA=0,angleB={}\".format(ang)\n",
    "    kw[\"arrowprops\"].update({\"connectionstyle\": connectionstyle})\n",
    "    \n",
    "    # annotation message\n",
    "    if pct[i] > 0.5:\n",
    "        annotMsg = \"%s (%.1f%%)\" % (countServices.index.tolist()[i], pct[i])\n",
    "        ax.annotate(annotMsg, xy=(x, y), xytext=(1.35*np.sign(x), 1.4*y),\n",
    "                    horizontalalignment=horizontalalignment, **kw)\n",
    "\n",
    "ax.set_title(\"Proportion (%) of type of autonomous system being attacked\")\n",
    "\n",
    "plt.show()"
   ]
  },
  {
   "cell_type": "markdown",
   "metadata": {},
   "source": [
    "### d. raw as count\n"
   ]
  },
  {
   "cell_type": "code",
   "execution_count": 14,
   "metadata": {},
   "outputs": [
    {
     "data": {
      "image/png": "[encoded data removed]",
      "text/plain": [
       "<Figure size 432x288 with 1 Axes>"
      ]
     },
     "metadata": {},
     "output_type": "display_data"
    }
   ],
   "source": [
    "raw_as_count = df.drop_duplicates([\"raw_as\"]).groupby(\"as_type\")[\"raw_as\"].count()\n",
    "\n",
    "x_raw_as = raw_as_count.index.tolist()\n",
    "y_raw_as = raw_as_count\n",
    "x_type = countAsType.index.tolist()\n",
    "ax = sns.barplot(x_raw_as, y_raw_as, order = x_type)\n",
    "ax.set_xticklabels(x_type, rotation = 20, fontsize = 7)\n",
    "ax.set_title(\"Unique Autonomous System (AS) per type AS\")\n",
    "ax.set_ylabel(\"Unique AS\")\n",
    "ax.figure.savefig(\"type_as_unique.png\")\n",
    "\n",
    "plt.show()"
   ]
  },
  {
   "cell_type": "code",
   "execution_count": 99,
   "metadata": {},
   "outputs": [
    {
     "data": {
      "image/png": "[encoded data removed]",
      "text/plain": [
       "<Figure size 432x288 with 1 Axes>"
      ]
     },
     "metadata": {
      "needs_background": "light"
     },
     "output_type": "display_data"
    }
   ],
   "source": [
    "ax = sns.boxplot(x = \"service\", y = \"packets\", data = df)\n",
    "ax.set_yscale('log')"
   ]
  },
  {
   "cell_type": "code",
   "execution_count": 100,
   "metadata": {},
   "outputs": [
    {
     "data": {
      "image/png": "[encoded data removed]",
      "text/plain": [
       "<Figure size 432x288 with 1 Axes>"
      ]
     },
     "metadata": {
      "needs_background": "light"
     },
     "output_type": "display_data"
    }
   ],
   "source": [
    "ax = sns.boxplot(x = \"service\", y = \"duration\", data = df)\n",
    "ax.set_yscale('log')"
   ]
  },
  {
   "cell_type": "markdown",
   "metadata": {},
   "source": [
    "## 1. `target_id` specific data"
   ]
  },
  {
   "cell_type": "code",
   "execution_count": 101,
   "metadata": {},
   "outputs": [],
   "source": [
    "# columns where data varies among incidents\n",
    "colsIncidentSpecific = [\"date\", \"sensor_id\", \"service\", \"start_time\", \"stop_time\", \"duration\", \"packets\", \"udp_port_list\", \"dc\", \"pps\"]\n",
    "\n",
    "# columns where data is the same for specific target_id\n",
    "# `org_range` is an outlier?\n",
    "colsAttackerSpecific = [col for col in df.columns.to_list() if not col in colsIncidentSpecific]"
   ]
  },
  {
   "cell_type": "code",
   "execution_count": 102,
   "metadata": {},
   "outputs": [
    {
     "data": {
      "text/html": [
       "<div>\n",
       "<style scoped>\n",
       "    .dataframe tbody tr th:only-of-type {\n",
       "        vertical-align: middle;\n",
       "    }\n",
       "\n",
       "    .dataframe tbody tr th {\n",
       "        vertical-align: top;\n",
       "    }\n",
       "\n",
       "    .dataframe thead th {\n",
       "        text-align: right;\n",
       "    }\n",
       "</style>\n",
       "<table border=\"1\" class=\"dataframe\">\n",
       "  <thead>\n",
       "    <tr style=\"text-align: right;\">\n",
       "      <th></th>\n",
       "      <th>target_ip</th>\n",
       "      <th>raw_country</th>\n",
       "      <th>raw_as</th>\n",
       "      <th>raw_hostname</th>\n",
       "      <th>pyasn_as</th>\n",
       "      <th>pyasn_as_bgp_size</th>\n",
       "      <th>cc</th>\n",
       "      <th>region</th>\n",
       "      <th>is_oecd</th>\n",
       "      <th>as_type</th>\n",
       "      <th>...</th>\n",
       "      <th>org_ipsize_seen</th>\n",
       "      <th>org_domainsize_seen</th>\n",
       "      <th>org_ipsize_seen_shared</th>\n",
       "      <th>org_is_hosting</th>\n",
       "      <th>org_tag</th>\n",
       "      <th>caida_type</th>\n",
       "      <th>subs</th>\n",
       "      <th>as_ipsize_seen</th>\n",
       "      <th>as_domainsize_seen</th>\n",
       "      <th>year</th>\n",
       "    </tr>\n",
       "  </thead>\n",
       "  <tbody>\n",
       "    <tr>\n",
       "      <th>3</th>\n",
       "      <td>1.1.1.1</td>\n",
       "      <td>Australia</td>\n",
       "      <td>AS15169 Google Inc.</td>\n",
       "      <td>None</td>\n",
       "      <td>15169.0</td>\n",
       "      <td>1225984.0</td>\n",
       "      <td>AU</td>\n",
       "      <td>AP</td>\n",
       "      <td>1.0</td>\n",
       "      <td>NaN</td>\n",
       "      <td>...</td>\n",
       "      <td>43506.0</td>\n",
       "      <td>1359132.0</td>\n",
       "      <td>6502.0</td>\n",
       "      <td>1.0</td>\n",
       "      <td>NaN</td>\n",
       "      <td>Content</td>\n",
       "      <td>NaN</td>\n",
       "      <td>84522.0</td>\n",
       "      <td>4105765.0</td>\n",
       "      <td>2014</td>\n",
       "    </tr>\n",
       "    <tr>\n",
       "      <th>1050807</th>\n",
       "      <td>1.1.1.1</td>\n",
       "      <td>Australia</td>\n",
       "      <td>AS15169 Google Inc.</td>\n",
       "      <td>None</td>\n",
       "      <td>15169.0</td>\n",
       "      <td>1225984.0</td>\n",
       "      <td>AU</td>\n",
       "      <td>AP</td>\n",
       "      <td>1.0</td>\n",
       "      <td>NaN</td>\n",
       "      <td>...</td>\n",
       "      <td>43506.0</td>\n",
       "      <td>1359132.0</td>\n",
       "      <td>6502.0</td>\n",
       "      <td>1.0</td>\n",
       "      <td>NaN</td>\n",
       "      <td>Content</td>\n",
       "      <td>NaN</td>\n",
       "      <td>84522.0</td>\n",
       "      <td>4105765.0</td>\n",
       "      <td>2015</td>\n",
       "    </tr>\n",
       "  </tbody>\n",
       "</table>\n",
       "<p>2 rows × 25 columns</p>\n",
       "</div>"
      ],
      "text/plain": [
       "        target_ip raw_country               raw_as raw_hostname  pyasn_as  \\\n",
       "3         1.1.1.1   Australia  AS15169 Google Inc.         None   15169.0   \n",
       "1050807   1.1.1.1   Australia  AS15169 Google Inc.         None   15169.0   \n",
       "\n",
       "         pyasn_as_bgp_size  cc region  is_oecd as_type  ...  org_ipsize_seen  \\\n",
       "3                1225984.0  AU     AP      1.0     NaN  ...          43506.0   \n",
       "1050807          1225984.0  AU     AP      1.0     NaN  ...          43506.0   \n",
       "\n",
       "        org_domainsize_seen org_ipsize_seen_shared org_is_hosting  org_tag  \\\n",
       "3                 1359132.0                 6502.0            1.0      NaN   \n",
       "1050807           1359132.0                 6502.0            1.0      NaN   \n",
       "\n",
       "         caida_type  subs  as_ipsize_seen  as_domainsize_seen  year  \n",
       "3           Content   NaN         84522.0           4105765.0  2014  \n",
       "1050807     Content   NaN         84522.0           4105765.0  2015  \n",
       "\n",
       "[2 rows x 25 columns]"
      ]
     },
     "execution_count": 102,
     "metadata": {},
     "output_type": "execute_result"
    }
   ],
   "source": [
    "# check target_ip=\"1.1.1.1\" as an example\n",
    "# `org_range` is different\n",
    "(df.loc[df.target_ip == \"1.1.1.1\"].drop(columns=colsIncidentSpecific)\n",
    "                                  .drop_duplicates())"
   ]
  },
  {
   "cell_type": "code",
   "execution_count": 103,
   "metadata": {},
   "outputs": [
    {
     "name": "stdout",
     "output_type": "stream",
     "text": [
      "\n",
      "Incident-specific columns:\n",
      "['date', 'sensor_id', 'service', 'start_time', 'stop_time', 'duration', 'packets', 'udp_port_list', 'dc', 'pps']\n",
      "\n",
      "Attacker-specific columns:\n",
      "['target_ip', 'raw_country', 'raw_as', 'raw_hostname', 'pyasn_as', 'pyasn_as_bgp_size', 'cc', 'region', 'is_oecd', 'as_type', 'as_type_confidence', 'tg_op', 'org', 'org_range', 'org_rangesize', 'org_ipsize_seen', 'org_domainsize_seen', 'org_ipsize_seen_shared', 'org_is_hosting', 'org_tag', 'caida_type', 'subs', 'as_ipsize_seen', 'as_domainsize_seen', 'year']\n"
     ]
    }
   ],
   "source": [
    "# print the columns\n",
    "\n",
    "print(\"\\nIncident-specific columns:\")\n",
    "print(colsIncidentSpecific)\n",
    "\n",
    "print(\"\\nAttacker-specific columns:\")\n",
    "print(colsAttackerSpecific)"
   ]
  },
  {
   "cell_type": "code",
   "execution_count": null,
   "metadata": {},
   "outputs": [],
   "source": []
  },
  {
   "cell_type": "markdown",
   "metadata": {},
   "source": [
    "## 1. Top N Countries with most incidents"
   ]
  },
  {
   "cell_type": "code",
   "execution_count": null,
   "metadata": {},
   "outputs": [],
   "source": [
    "# top N countries with most incidents\n",
    "N = 5\n",
    "\n",
    "# list out the top N countries with most incidents\n",
    "topNcountries = df.cc.value_counts()[:N].index.to_list()\n",
    "\n",
    "# count the daily incident frequency for each country\n",
    "df_countries = df[[\"cc\", \"date\"]].groupby(\"date\").cc.value_counts().to_frame()\n",
    "df_countries.columns = [\"counts\"]\n",
    "df_countries.reset_index(inplace=True)\n",
    "\n",
    "# filter only the top N countries\n",
    "df_countries = df_countries[df_countries['cc'].isin(topNcountries)]\n",
    "df_countries.columns = [\"Date\", \"Country\", \"# of Incidents per day\"]"
   ]
  },
  {
   "cell_type": "code",
   "execution_count": null,
   "metadata": {},
   "outputs": [],
   "source": [
    "fig, ax = plt.subplots(figsize=(12,8))\n",
    "ax = sns.lineplot(x=\"Date\", y=\"# of Incidents per day\", hue=\"Country\", data=df_countries)\n",
    "ax.set_title(\"# of DDoS attacks per day, per country\\n(top %i countries with most total # of incidents)\" % N)\n",
    "fig.autofmt_xdate() # formatting datetime xlabel"
   ]
  },
  {
   "cell_type": "markdown",
   "metadata": {},
   "source": [
    "## 2. Sensor ID vs Service type"
   ]
  },
  {
   "cell_type": "code",
   "execution_count": null,
   "metadata": {},
   "outputs": [],
   "source": [
    "df_sensorsAndService = df[[\"sensor_id\", \"service\"]].groupby(\"sensor_id\").service.value_counts().to_frame()\n",
    "df_sensorsAndService.columns = [\"counts\"]\n",
    "df_sensorsAndService.reset_index(inplace=True)"
   ]
  },
  {
   "cell_type": "code",
   "execution_count": null,
   "metadata": {},
   "outputs": [],
   "source": [
    "df_sensorsAndService = df_sensorsAndService.pivot(\"sensor_id\", \"service\", \"counts\")\n",
    "df_sensorsAndService.fillna(0, inplace=True)"
   ]
  },
  {
   "cell_type": "code",
   "execution_count": null,
   "metadata": {},
   "outputs": [],
   "source": [
    "fig, ax = plt.subplots(figsize=(10,6))\n",
    "ax = sns.heatmap(df_sensorsAndService, annot=True, fmt=\".0f\", cmap=\"YlGnBu\")\n",
    "ax.set_title(\"# of attacks: sensor id vs service type\")"
   ]
  },
  {
   "cell_type": "markdown",
   "metadata": {},
   "source": [
    "## 3. Hosting Providers Analysis"
   ]
  },
  {
   "cell_type": "code",
   "execution_count": 9,
   "metadata": {},
   "outputs": [],
   "source": [
    "df_host = df[df[\"as_type\"] == \"hosting\"]"
   ]
  },
  {
   "cell_type": "code",
   "execution_count": 118,
   "metadata": {},
   "outputs": [
    {
     "data": {
      "text/html": [
       "<div>\n",
       "<style scoped>\n",
       "    .dataframe tbody tr th:only-of-type {\n",
       "        vertical-align: middle;\n",
       "    }\n",
       "\n",
       "    .dataframe tbody tr th {\n",
       "        vertical-align: top;\n",
       "    }\n",
       "\n",
       "    .dataframe thead th {\n",
       "        text-align: right;\n",
       "    }\n",
       "</style>\n",
       "<table border=\"1\" class=\"dataframe\">\n",
       "  <thead>\n",
       "    <tr style=\"text-align: right;\">\n",
       "      <th></th>\n",
       "      <th>target_ip</th>\n",
       "      <th>date</th>\n",
       "      <th>sensor_id</th>\n",
       "      <th>service</th>\n",
       "      <th>start_time</th>\n",
       "      <th>stop_time</th>\n",
       "      <th>duration</th>\n",
       "      <th>packets</th>\n",
       "      <th>raw_country</th>\n",
       "      <th>raw_as</th>\n",
       "      <th>...</th>\n",
       "      <th>org_ipsize_seen_shared</th>\n",
       "      <th>org_is_hosting</th>\n",
       "      <th>org_tag</th>\n",
       "      <th>caida_type</th>\n",
       "      <th>dc</th>\n",
       "      <th>subs</th>\n",
       "      <th>as_ipsize_seen</th>\n",
       "      <th>as_domainsize_seen</th>\n",
       "      <th>pps</th>\n",
       "      <th>year</th>\n",
       "    </tr>\n",
       "  </thead>\n",
       "  <tbody>\n",
       "  </tbody>\n",
       "</table>\n",
       "<p>0 rows × 35 columns</p>\n",
       "</div>"
      ],
      "text/plain": [
       "Empty DataFrame\n",
       "Columns: [target_ip, date, sensor_id, service, start_time, stop_time, duration, packets, raw_country, raw_as, raw_hostname, udp_port_list, pyasn_as, pyasn_as_bgp_size, cc, region, is_oecd, as_type, as_type_confidence, tg_op, org, org_range, org_rangesize, org_ipsize_seen, org_domainsize_seen, org_ipsize_seen_shared, org_is_hosting, org_tag, caida_type, dc, subs, as_ipsize_seen, as_domainsize_seen, pps, year]\n",
       "Index: []\n",
       "\n",
       "[0 rows x 35 columns]"
      ]
     },
     "execution_count": 118,
     "metadata": {},
     "output_type": "execute_result"
    }
   ],
   "source": [
    "df_host[df_host[\"raw_country\"] == \"China\"]"
   ]
  },
  {
   "cell_type": "markdown",
   "metadata": {},
   "source": [
    "a. map normalized for population"
   ]
  },
  {
   "cell_type": "code",
   "execution_count": 68,
   "metadata": {},
   "outputs": [],
   "source": [
    "# Count the number of unique organizations in a country\n",
    "\n",
    "host_count = df_host.drop_duplicates([\"org\"]).groupby(\"raw_country\").count()['target_ip']\n",
    "host_count = host_count.to_frame()"
   ]
  },
  {
   "cell_type": "code",
   "execution_count": 131,
   "metadata": {},
   "outputs": [
    {
     "data": {
      "text/plain": [
       "raw_country\n",
       "Argentina                     6\n",
       "Australia                     5\n",
       "Bangladesh                    1\n",
       "Belgium                       9\n",
       "Brazil                        2\n",
       "Bulgaria                      7\n",
       "Canada                       38\n",
       "Cyprus                        1\n",
       "Czech Republic                8\n",
       "Denmark                       9\n",
       "Finland                       9\n",
       "France                       24\n",
       "Germany                      31\n",
       "Hong Kong                     9\n",
       "Hungary                       2\n",
       "Iceland                       3\n",
       "India                         3\n",
       "Ireland                      13\n",
       "Israel                        2\n",
       "Italy                        18\n",
       "Japan                         6\n",
       "Jordan                        2\n",
       "Korea<comma> Republic of      3\n",
       "Latvia                       19\n",
       "Luxembourg                    1\n",
       "Macedonia                     2\n",
       "Mexico                        7\n",
       "Netherlands                  83\n",
       "New Zealand                   5\n",
       "Norway                        6\n",
       "Pakistan                     18\n",
       "Panama                        2\n",
       "Philippines                   1\n",
       "Poland                       16\n",
       "Portugal                      2\n",
       "Romania                      14\n",
       "Russian Federation            8\n",
       "Serbia                        5\n",
       "Slovakia                     15\n",
       "Slovenia                      1\n",
       "South Africa                  5\n",
       "Spain                        16\n",
       "Sweden                        9\n",
       "Switzerland                  21\n",
       "Thailand                      4\n",
       "Turkey                        6\n",
       "Ukraine                      12\n",
       "United Kingdom               48\n",
       "United States               738\n",
       "Name: target_ip, dtype: int64"
      ]
     },
     "execution_count": 131,
     "metadata": {},
     "output_type": "execute_result"
    }
   ],
   "source": [
    "host_count[\"target_ip\"]"
   ]
  },
  {
   "cell_type": "code",
   "execution_count": null,
   "metadata": {},
   "outputs": [],
   "source": [
    "# Load in the world dataset and country codes to merge\n",
    "\n",
    "world = gpd.read_file(gpd.datasets.get_path('naturalearth_lowres'))\n",
    "countrycodes = pd.read_csv(\"country_code.csv\", sep = \",\", encoding = \"utf-8\")\n",
    "\n",
    "#Merge them\n",
    "host_count_cc = host_count.merge(countrycodes, left_on = \"raw_country\", right_on = \"country\", how = \"left\") "
   ]
  },
  {
   "cell_type": "code",
   "execution_count": 77,
   "metadata": {},
   "outputs": [],
   "source": [
    "# Merge dataset with geopandas frame. Normalize by population estimation.\n",
    "\n",
    "world_df = world.merge(host_count_cc, left_on = \"iso_a3\", right_on = \"country code\", how = \"left\")\n",
    "world_df[\"normalized_org\"] = world_df[\"target_ip\"] / world_df[\"pop_est\"] * 100000"
   ]
  },
  {
   "cell_type": "code",
   "execution_count": 123,
   "metadata": {},
   "outputs": [
    {
     "data": {
      "image/png": "[encoded data removed]",
      "text/plain": [
       "<Figure size 1152x576 with 1 Axes>"
      ]
     },
     "metadata": {},
     "output_type": "display_data"
    }
   ],
   "source": [
    "# Show the map, split in quantiles, show missing values. \n",
    "\n",
    "ax = world_df.dropna().plot(column=\"normalized_org\", scheme='quantiles', figsize=(16, 8), k=9, legend=True)\n",
    "world_df[world_df.isna().any(axis=1)].plot(ax=ax, color='#fafafa', hatch='...')\n",
    "ax.set_title(\"Location of unique hosting providers normalized by population\")\n",
    "ax.figure.savefig(\"unique_org_world.png\")"
   ]
  },
  {
   "cell_type": "code",
   "execution_count": 147,
   "metadata": {},
   "outputs": [
    {
     "data": {
      "text/html": [
       "<div>\n",
       "<style scoped>\n",
       "    .dataframe tbody tr th:only-of-type {\n",
       "        vertical-align: middle;\n",
       "    }\n",
       "\n",
       "    .dataframe tbody tr th {\n",
       "        vertical-align: top;\n",
       "    }\n",
       "\n",
       "    .dataframe thead th {\n",
       "        text-align: right;\n",
       "    }\n",
       "</style>\n",
       "<table border=\"1\" class=\"dataframe\">\n",
       "  <thead>\n",
       "    <tr style=\"text-align: right;\">\n",
       "      <th></th>\n",
       "      <th>target_ip</th>\n",
       "      <th>country</th>\n",
       "      <th>country code</th>\n",
       "    </tr>\n",
       "  </thead>\n",
       "  <tbody>\n",
       "    <tr>\n",
       "      <th>0</th>\n",
       "      <td>6</td>\n",
       "      <td>Argentina</td>\n",
       "      <td>ARG</td>\n",
       "    </tr>\n",
       "    <tr>\n",
       "      <th>1</th>\n",
       "      <td>5</td>\n",
       "      <td>Australia</td>\n",
       "      <td>AUS</td>\n",
       "    </tr>\n",
       "    <tr>\n",
       "      <th>2</th>\n",
       "      <td>1</td>\n",
       "      <td>Bangladesh</td>\n",
       "      <td>BGD</td>\n",
       "    </tr>\n",
       "    <tr>\n",
       "      <th>3</th>\n",
       "      <td>9</td>\n",
       "      <td>Belgium</td>\n",
       "      <td>BEL</td>\n",
       "    </tr>\n",
       "    <tr>\n",
       "      <th>4</th>\n",
       "      <td>2</td>\n",
       "      <td>Brazil</td>\n",
       "      <td>BRA</td>\n",
       "    </tr>\n",
       "    <tr>\n",
       "      <th>5</th>\n",
       "      <td>7</td>\n",
       "      <td>Bulgaria</td>\n",
       "      <td>BGR</td>\n",
       "    </tr>\n",
       "    <tr>\n",
       "      <th>6</th>\n",
       "      <td>38</td>\n",
       "      <td>Canada</td>\n",
       "      <td>CAN</td>\n",
       "    </tr>\n",
       "    <tr>\n",
       "      <th>7</th>\n",
       "      <td>1</td>\n",
       "      <td>Cyprus</td>\n",
       "      <td>CYP</td>\n",
       "    </tr>\n",
       "    <tr>\n",
       "      <th>8</th>\n",
       "      <td>8</td>\n",
       "      <td>NaN</td>\n",
       "      <td>NaN</td>\n",
       "    </tr>\n",
       "    <tr>\n",
       "      <th>9</th>\n",
       "      <td>9</td>\n",
       "      <td>Denmark</td>\n",
       "      <td>DNK</td>\n",
       "    </tr>\n",
       "    <tr>\n",
       "      <th>10</th>\n",
       "      <td>9</td>\n",
       "      <td>Finland</td>\n",
       "      <td>FIN</td>\n",
       "    </tr>\n",
       "    <tr>\n",
       "      <th>11</th>\n",
       "      <td>24</td>\n",
       "      <td>France</td>\n",
       "      <td>FRA</td>\n",
       "    </tr>\n",
       "    <tr>\n",
       "      <th>12</th>\n",
       "      <td>31</td>\n",
       "      <td>Germany</td>\n",
       "      <td>DEU</td>\n",
       "    </tr>\n",
       "    <tr>\n",
       "      <th>13</th>\n",
       "      <td>9</td>\n",
       "      <td>NaN</td>\n",
       "      <td>NaN</td>\n",
       "    </tr>\n",
       "    <tr>\n",
       "      <th>14</th>\n",
       "      <td>2</td>\n",
       "      <td>Hungary</td>\n",
       "      <td>HUN</td>\n",
       "    </tr>\n",
       "    <tr>\n",
       "      <th>15</th>\n",
       "      <td>3</td>\n",
       "      <td>Iceland</td>\n",
       "      <td>ISL</td>\n",
       "    </tr>\n",
       "    <tr>\n",
       "      <th>16</th>\n",
       "      <td>3</td>\n",
       "      <td>India</td>\n",
       "      <td>IND</td>\n",
       "    </tr>\n",
       "    <tr>\n",
       "      <th>17</th>\n",
       "      <td>13</td>\n",
       "      <td>Ireland</td>\n",
       "      <td>IRL</td>\n",
       "    </tr>\n",
       "    <tr>\n",
       "      <th>18</th>\n",
       "      <td>2</td>\n",
       "      <td>Israel</td>\n",
       "      <td>ISR</td>\n",
       "    </tr>\n",
       "    <tr>\n",
       "      <th>19</th>\n",
       "      <td>18</td>\n",
       "      <td>Italy</td>\n",
       "      <td>ITA</td>\n",
       "    </tr>\n",
       "    <tr>\n",
       "      <th>20</th>\n",
       "      <td>6</td>\n",
       "      <td>Japan</td>\n",
       "      <td>JPN</td>\n",
       "    </tr>\n",
       "    <tr>\n",
       "      <th>21</th>\n",
       "      <td>2</td>\n",
       "      <td>Jordan</td>\n",
       "      <td>JOR</td>\n",
       "    </tr>\n",
       "    <tr>\n",
       "      <th>22</th>\n",
       "      <td>3</td>\n",
       "      <td>NaN</td>\n",
       "      <td>NaN</td>\n",
       "    </tr>\n",
       "    <tr>\n",
       "      <th>23</th>\n",
       "      <td>19</td>\n",
       "      <td>Latvia</td>\n",
       "      <td>LVA</td>\n",
       "    </tr>\n",
       "    <tr>\n",
       "      <th>24</th>\n",
       "      <td>1</td>\n",
       "      <td>Luxembourg</td>\n",
       "      <td>LUX</td>\n",
       "    </tr>\n",
       "    <tr>\n",
       "      <th>25</th>\n",
       "      <td>2</td>\n",
       "      <td>NaN</td>\n",
       "      <td>NaN</td>\n",
       "    </tr>\n",
       "    <tr>\n",
       "      <th>26</th>\n",
       "      <td>7</td>\n",
       "      <td>Mexico</td>\n",
       "      <td>MEX</td>\n",
       "    </tr>\n",
       "    <tr>\n",
       "      <th>27</th>\n",
       "      <td>83</td>\n",
       "      <td>Netherlands</td>\n",
       "      <td>NLD</td>\n",
       "    </tr>\n",
       "    <tr>\n",
       "      <th>28</th>\n",
       "      <td>5</td>\n",
       "      <td>New Zealand</td>\n",
       "      <td>NZL</td>\n",
       "    </tr>\n",
       "    <tr>\n",
       "      <th>29</th>\n",
       "      <td>6</td>\n",
       "      <td>Norway</td>\n",
       "      <td>NOR</td>\n",
       "    </tr>\n",
       "    <tr>\n",
       "      <th>30</th>\n",
       "      <td>18</td>\n",
       "      <td>Pakistan</td>\n",
       "      <td>PAK</td>\n",
       "    </tr>\n",
       "    <tr>\n",
       "      <th>31</th>\n",
       "      <td>2</td>\n",
       "      <td>Panama</td>\n",
       "      <td>PAN</td>\n",
       "    </tr>\n",
       "    <tr>\n",
       "      <th>32</th>\n",
       "      <td>1</td>\n",
       "      <td>Philippines</td>\n",
       "      <td>PHL</td>\n",
       "    </tr>\n",
       "    <tr>\n",
       "      <th>33</th>\n",
       "      <td>16</td>\n",
       "      <td>Poland</td>\n",
       "      <td>POL</td>\n",
       "    </tr>\n",
       "    <tr>\n",
       "      <th>34</th>\n",
       "      <td>2</td>\n",
       "      <td>Portugal</td>\n",
       "      <td>PRT</td>\n",
       "    </tr>\n",
       "    <tr>\n",
       "      <th>35</th>\n",
       "      <td>14</td>\n",
       "      <td>Romania</td>\n",
       "      <td>ROU</td>\n",
       "    </tr>\n",
       "    <tr>\n",
       "      <th>36</th>\n",
       "      <td>8</td>\n",
       "      <td>Russian Federation</td>\n",
       "      <td>RUS</td>\n",
       "    </tr>\n",
       "    <tr>\n",
       "      <th>37</th>\n",
       "      <td>5</td>\n",
       "      <td>Serbia</td>\n",
       "      <td>SRB</td>\n",
       "    </tr>\n",
       "    <tr>\n",
       "      <th>38</th>\n",
       "      <td>15</td>\n",
       "      <td>Slovakia</td>\n",
       "      <td>SVK</td>\n",
       "    </tr>\n",
       "    <tr>\n",
       "      <th>39</th>\n",
       "      <td>1</td>\n",
       "      <td>Slovenia</td>\n",
       "      <td>SVN</td>\n",
       "    </tr>\n",
       "    <tr>\n",
       "      <th>40</th>\n",
       "      <td>5</td>\n",
       "      <td>South Africa</td>\n",
       "      <td>ZAF</td>\n",
       "    </tr>\n",
       "    <tr>\n",
       "      <th>41</th>\n",
       "      <td>16</td>\n",
       "      <td>Spain</td>\n",
       "      <td>ESP</td>\n",
       "    </tr>\n",
       "    <tr>\n",
       "      <th>42</th>\n",
       "      <td>9</td>\n",
       "      <td>Sweden</td>\n",
       "      <td>SWE</td>\n",
       "    </tr>\n",
       "    <tr>\n",
       "      <th>43</th>\n",
       "      <td>21</td>\n",
       "      <td>Switzerland</td>\n",
       "      <td>CHE</td>\n",
       "    </tr>\n",
       "    <tr>\n",
       "      <th>44</th>\n",
       "      <td>4</td>\n",
       "      <td>Thailand</td>\n",
       "      <td>THA</td>\n",
       "    </tr>\n",
       "    <tr>\n",
       "      <th>45</th>\n",
       "      <td>6</td>\n",
       "      <td>Turkey</td>\n",
       "      <td>TUR</td>\n",
       "    </tr>\n",
       "    <tr>\n",
       "      <th>46</th>\n",
       "      <td>12</td>\n",
       "      <td>Ukraine</td>\n",
       "      <td>UKR</td>\n",
       "    </tr>\n",
       "    <tr>\n",
       "      <th>47</th>\n",
       "      <td>48</td>\n",
       "      <td>United Kingdom</td>\n",
       "      <td>GBR</td>\n",
       "    </tr>\n",
       "    <tr>\n",
       "      <th>48</th>\n",
       "      <td>738</td>\n",
       "      <td>United States</td>\n",
       "      <td>USA</td>\n",
       "    </tr>\n",
       "  </tbody>\n",
       "</table>\n",
       "</div>"
      ],
      "text/plain": [
       "    target_ip             country country code\n",
       "0           6           Argentina          ARG\n",
       "1           5           Australia          AUS\n",
       "2           1          Bangladesh          BGD\n",
       "3           9             Belgium          BEL\n",
       "4           2              Brazil          BRA\n",
       "5           7            Bulgaria          BGR\n",
       "6          38              Canada          CAN\n",
       "7           1              Cyprus          CYP\n",
       "8           8                 NaN          NaN\n",
       "9           9             Denmark          DNK\n",
       "10          9             Finland          FIN\n",
       "11         24              France          FRA\n",
       "12         31             Germany          DEU\n",
       "13          9                 NaN          NaN\n",
       "14          2             Hungary          HUN\n",
       "15          3             Iceland          ISL\n",
       "16          3               India          IND\n",
       "17         13             Ireland          IRL\n",
       "18          2              Israel          ISR\n",
       "19         18               Italy          ITA\n",
       "20          6               Japan          JPN\n",
       "21          2              Jordan          JOR\n",
       "22          3                 NaN          NaN\n",
       "23         19              Latvia          LVA\n",
       "24          1          Luxembourg          LUX\n",
       "25          2                 NaN          NaN\n",
       "26          7              Mexico          MEX\n",
       "27         83         Netherlands          NLD\n",
       "28          5         New Zealand          NZL\n",
       "29          6              Norway          NOR\n",
       "30         18            Pakistan          PAK\n",
       "31          2              Panama          PAN\n",
       "32          1         Philippines          PHL\n",
       "33         16              Poland          POL\n",
       "34          2            Portugal          PRT\n",
       "35         14             Romania          ROU\n",
       "36          8  Russian Federation          RUS\n",
       "37          5              Serbia          SRB\n",
       "38         15            Slovakia          SVK\n",
       "39          1            Slovenia          SVN\n",
       "40          5        South Africa          ZAF\n",
       "41         16               Spain          ESP\n",
       "42          9              Sweden          SWE\n",
       "43         21         Switzerland          CHE\n",
       "44          4            Thailand          THA\n",
       "45          6              Turkey          TUR\n",
       "46         12             Ukraine          UKR\n",
       "47         48      United Kingdom          GBR\n",
       "48        738       United States          USA"
      ]
     },
     "execution_count": 147,
     "metadata": {},
     "output_type": "execute_result"
    }
   ],
   "source": [
    "host_count_cc"
   ]
  },
  {
   "cell_type": "code",
   "execution_count": 153,
   "metadata": {},
   "outputs": [
    {
     "data": {
      "image/png": "[encoded data removed]",
      "text/plain": [
       "<Figure size 432x288 with 1 Axes>"
      ]
     },
     "metadata": {},
     "output_type": "display_data"
    }
   ],
   "source": [
    "ax = sns.barplot(host_count_cc[\"country code\"].to_list(), host_count_cc[\"target_ip\"], order = host_count_cc[\"country code\"])\n",
    "ax.set_xticklabels(host_count_cc[\"country code\"].to_list(), rotation = 90, fontsize = 7)\n",
    "ax.set_ylabel(\"Unique Organizations\")\n",
    "ax.set_title(\"Unique organizations per country\")\n",
    "ax.figure.savefig(\"unique_org_bar.png\")\n",
    "plt.show()"
   ]
  }
 ],
 "metadata": {
  "kernelspec": {
   "display_name": "Python 3",
   "language": "python",
   "name": "python3"
  },
  "language_info": {
   "codemirror_mode": {
    "name": "ipython",
    "version": 3
   },
   "file_extension": ".py",
   "mimetype": "text/x-python",
   "name": "python",
   "nbconvert_exporter": "python",
   "pygments_lexer": "ipython3",
   "version": "3.6.5"
  }
 },
 "nbformat": 4,
 "nbformat_minor": 4
}
