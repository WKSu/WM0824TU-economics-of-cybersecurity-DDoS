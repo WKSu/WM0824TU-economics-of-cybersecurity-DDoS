{
 "cells": [
  {
   "cell_type": "markdown",
   "metadata": {},
   "source": [
    "# DDoS Data Preparation"
   ]
  },
  {
   "cell_type": "code",
   "execution_count": 2,
   "metadata": {},
   "outputs": [],
   "source": [
    "import pandas as pd\n",
    "import numpy as np"
   ]
  },
  {
   "cell_type": "code",
   "execution_count": 2,
   "metadata": {},
   "outputs": [],
   "source": [
    "# data source: https://surfdrive.surf.nl/files/index.php/s/CZWfWQp3VKGKa8m\n",
    "# clarifying to the csv reader what dtypes these columns are\n",
    "types = {'region' : object,'as_type' : object, 'tg_op' : object, 'org_tag' : object}\n",
    "\n",
    "df = pd.read_csv('data/data_with_ports.csv.gz', sep='|', compression='gzip', dtype = types)"
   ]
  },
  {
   "cell_type": "markdown",
   "metadata": {},
   "source": [
    "## Data Preparation"
   ]
  },
  {
   "cell_type": "code",
   "execution_count": 3,
   "metadata": {},
   "outputs": [],
   "source": [
    "# parse string to datetime format\n",
    "df['date'] = pd.to_datetime(df['date'], format='%Y-%m-%d')\n",
    "df['start_time'] = pd.to_datetime(df['start_time'], format='%Y-%m-%dT%H:%M:%S+09:00')\n",
    "df['stop_time'] = pd.to_datetime(df['stop_time'], format='%Y-%m-%dT%H:%M:%S+09:00')"
   ]
  },
  {
   "cell_type": "code",
   "execution_count": 4,
   "metadata": {},
   "outputs": [],
   "source": [
    "# remove reserved ips\n",
    "\n",
    "reserved_ips = [\n",
    "    \"0.\",       # software\n",
    "    \"10.\",      # private network\n",
    "    \"100.\",     # private network\n",
    "    \"169.254.\", # subnet\n",
    "    \"172.\",     # private network\n",
    "    \"192.\"      # private network\n",
    "]\n",
    "\n",
    "for ips in reserved_ips:\n",
    "    df = df[~(df.org.isna() & df.target_ip.str.startswith(ips))]"
   ]
  },
  {
   "cell_type": "code",
   "execution_count": 5,
   "metadata": {},
   "outputs": [],
   "source": [
    "# fix NaNs in `regions` data for victims that reside in United States and Canada\n",
    "df.loc[df.raw_country.str.contains(\"united states|canada\", case=False), \"region\"] = \"NA\" # NA = North America\n",
    "\n",
    "# fix comma in string\n",
    "df.raw_country = df.raw_country.str.replace(\"<comma>\", \",\")\n",
    "\n",
    "# fix `cc` and `region` missing values\n",
    "df.loc[df.raw_country == \"Tonga\", \"cc\"] = \"TO\"; df.loc[df.raw_country == \"Tonga\", \"region\"] = \"AP\"\n",
    "df.loc[df.raw_country == \"Namibia\", \"cc\"] = \"NA\"; df.loc[df.raw_country == \"Namibia\", \"region\"] = \"AF\"\n",
    "df.loc[df.raw_country == \"San Marino\", \"cc\"] = \"SM\"; df.loc[df.raw_country == \"San Marino\", \"region\"] = \"EU\"\n",
    "df.loc[df.raw_country == \"Europe\", \"region\"] = \"EU\"\n",
    "df.loc[df.raw_country == \"Asia/Pacific Region\", \"region\"] = \"AP\"\n",
    "\n",
    "# fix for \"France, Metropolitan\"\n",
    "df.loc[df.raw_country.str.contains(\"france\", case=False), \"raw_country\"] = \"France\"\n",
    "df.loc[df.raw_country == \"France\", \"cc\"] = \"FR\"; df.loc[df.raw_country == \"France\", \"region\"] = \"EU\""
   ]
  },
  {
   "cell_type": "code",
   "execution_count": 6,
   "metadata": {},
   "outputs": [
    {
     "name": "stdout",
     "output_type": "stream",
     "text": [
      "<class 'pandas.core.frame.DataFrame'>\n",
      "Int64Index: 5719250 entries, 0 to 5721431\n",
      "Data columns (total 35 columns):\n",
      "target_ip                 5719250 non-null object\n",
      "date                      5719250 non-null datetime64[ns]\n",
      "sensor_id                 5719250 non-null object\n",
      "service                   5719250 non-null object\n",
      "start_time                5719250 non-null datetime64[ns]\n",
      "stop_time                 5719250 non-null datetime64[ns]\n",
      "duration                  5719250 non-null float64\n",
      "packets                   5719250 non-null int64\n",
      "raw_country               5719250 non-null object\n",
      "raw_as                    5719250 non-null object\n",
      "raw_hostname              5719248 non-null object\n",
      "udp_port_list             5719250 non-null object\n",
      "pyasn_as                  5712272 non-null float64\n",
      "pyasn_as_bgp_size         5502309 non-null float64\n",
      "cc                        5695077 non-null object\n",
      "region                    5703844 non-null object\n",
      "is_oecd                   5693982 non-null float64\n",
      "as_type                   3658008 non-null object\n",
      "as_type_confidence        3789878 non-null float64\n",
      "tg_op                     2728568 non-null object\n",
      "org                       5710769 non-null object\n",
      "org_range                 5708167 non-null object\n",
      "org_rangesize             5708167 non-null float64\n",
      "org_ipsize_seen           5673175 non-null float64\n",
      "org_domainsize_seen       5673175 non-null float64\n",
      "org_ipsize_seen_shared    5478417 non-null float64\n",
      "org_is_hosting            5719250 non-null float64\n",
      "org_tag                   3231503 non-null object\n",
      "caida_type                5686208 non-null object\n",
      "dc                        5719250 non-null int64\n",
      "subs                      2725263 non-null float64\n",
      "as_ipsize_seen            5710261 non-null float64\n",
      "as_domainsize_seen        5710261 non-null float64\n",
      "pps                       5719250 non-null float64\n",
      "year                      5719250 non-null int64\n",
      "dtypes: datetime64[ns](3), float64(14), int64(3), object(15)\n",
      "memory usage: 1.5+ GB\n"
     ]
    }
   ],
   "source": [
    "df.info(null_counts=True)"
   ]
  },
  {
   "cell_type": "code",
   "execution_count": 7,
   "metadata": {},
   "outputs": [],
   "source": [
    "df.as_type = df.as_type.fillna(\"Unknown\") # fill the missing values in case those data were dropped\n",
    "df.raw_country = df.raw_country.apply(lambda s: s.replace(\"<comma>\", \",\"))"
   ]
  },
  {
   "cell_type": "code",
   "execution_count": null,
   "metadata": {},
   "outputs": [],
   "source": [
    "# victim org         = org\n",
    "# size of victims    = org_ipsize_seen\n",
    "# type of victim     = org_tag\n",
    "# country victim     = raw_country\n",
    "# network hygiene    = count_attacks_2014\n",
    "# dependent variable = count_attacks\n",
    "\n",
    "df.as_type = df.as_type.fillna(\"Unknown\") # fill the missing values in case those data were dropped\n",
    "\n",
    "orgs = (df.groupby(by=[\"org\", \"org_ipsize_seen\", \"caida_type\", \"as_type\", \"raw_country\", \"region\", \"year\"])\n",
    "          .size().unstack().add_prefix(\"count_attack_\")\n",
    "          .fillna(0))\n",
    "\n",
    "orgs.reset_index(inplace=True)\n",
    "orgs.columns = orgs.columns.tolist()\n",
    "\n",
    "orgs[\"count_attack\"] = orgs.filter(regex=\"^count_attack\").sum(axis=1)\n",
    "orgs[\"count_attack_norm\"] = orgs.count_attack / orgs.org_ipsize_seen\n",
    "\n",
    "orgs.raw_country = orgs.raw_country.apply(lambda s: s.replace(\"<comma>\", \",\"))\n",
    "\n",
    "# remove companies that received just 1 attack, as we assume the first attack was only a trial\n",
    "orgs = orgs[orgs.count_attack > 1]"
   ]
  },
  {
   "cell_type": "code",
   "execution_count": null,
   "metadata": {},
   "outputs": [],
   "source": [
    "# https://tcdata360.worldbank.org/indicators/h2e1ddd20\n",
    "itu_index = pd.read_csv(\"ITU-ICT-index.csv\")\n",
    "\n",
    "orgs = pd.merge(orgs, itu_index, how=\"left\", \n",
    "                left_on=\"raw_country\", right_on=\"Country\").drop(columns=[\"Country\"])"
   ]
  },
  {
   "cell_type": "code",
   "execution_count": null,
   "metadata": {},
   "outputs": [],
   "source": [
    "# source: World Bank\n",
    "pop_country = pd.read_csv(\"population2016.csv\")\n",
    "\n",
    "orgs = pd.merge(orgs, pop_country, how=\"left\", \n",
    "                left_on=\"raw_country\", right_on=\"Country\").drop(columns=[\"Country\"])"
   ]
  },
  {
   "cell_type": "code",
   "execution_count": 8,
   "metadata": {},
   "outputs": [],
   "source": [
    "df.to_csv(\"orgs.csv\")"
   ]
  },
  {
   "cell_type": "code",
   "execution_count": null,
   "metadata": {},
   "outputs": [],
   "source": []
  }
 ],
 "metadata": {
  "kernelspec": {
   "display_name": "Python 3",
   "language": "python",
   "name": "python3"
  },
  "language_info": {
   "codemirror_mode": {
    "name": "ipython",
    "version": 3
   },
   "file_extension": ".py",
   "mimetype": "text/x-python",
   "name": "python",
   "nbconvert_exporter": "python",
   "pygments_lexer": "ipython3",
   "version": "3.6.5"
  }
 },
 "nbformat": 4,
 "nbformat_minor": 2
}
