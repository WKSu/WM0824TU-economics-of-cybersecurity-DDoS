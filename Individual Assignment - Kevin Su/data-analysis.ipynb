{
 "cells": [
  {
   "cell_type": "code",
   "execution_count": 87,
   "metadata": {},
   "outputs": [],
   "source": [
    "import pandas as pd\n",
    "import numpy as np\n",
    "import matplotlib.pyplot as plt"
   ]
  },
  {
   "cell_type": "code",
   "execution_count": 2,
   "metadata": {},
   "outputs": [],
   "source": [
    "df = pd.read_csv('orgs.csv')"
   ]
  },
  {
   "cell_type": "code",
   "execution_count": 3,
   "metadata": {},
   "outputs": [
    {
     "data": {
      "text/plain": [
       "array(['AP', 'LC', 'EE', 'WE', 'ME', nan, 'EU', 'AF'], dtype=object)"
      ]
     },
     "execution_count": 3,
     "metadata": {},
     "output_type": "execute_result"
    }
   ],
   "source": [
    "df[\"region\"].unique()"
   ]
  },
  {
   "cell_type": "code",
   "execution_count": 6,
   "metadata": {},
   "outputs": [
    {
     "data": {
      "text/plain": [
       "array(['United States', 'Canada'], dtype=object)"
      ]
     },
     "execution_count": 6,
     "metadata": {},
     "output_type": "execute_result"
    }
   ],
   "source": [
    "df[df[\"region\"].isnull()]['raw_country'].unique()"
   ]
  },
  {
   "cell_type": "code",
   "execution_count": 7,
   "metadata": {},
   "outputs": [],
   "source": [
    "# nan variables were associated with North America.\n",
    "df[\"region\"] = df[\"region\"].fillna(\"NAM\")"
   ]
  },
  {
   "cell_type": "code",
   "execution_count": 21,
   "metadata": {},
   "outputs": [
    {
     "data": {
      "text/plain": [
       "array(['AP', 'LC', 'EE', 'WE', 'MEA', 'NAM', 'EU'], dtype=object)"
      ]
     },
     "execution_count": 21,
     "metadata": {},
     "output_type": "execute_result"
    }
   ],
   "source": [
    "# Combine Middle-East and Africa to have the same locations as the NewZoo Dataset\n",
    "df[\"region\"] = df[\"region\"].replace(to_replace=\"AF\", value=\"MEA\")\n",
    "df[\"region\"] = df[\"region\"].replace(to_replace=\"ME\", value=\"MEA\")\n",
    "df[\"region\"].unique()"
   ]
  },
  {
   "cell_type": "code",
   "execution_count": 22,
   "metadata": {},
   "outputs": [
    {
     "data": {
      "text/html": [
       "<div>\n",
       "<style scoped>\n",
       "    .dataframe tbody tr th:only-of-type {\n",
       "        vertical-align: middle;\n",
       "    }\n",
       "\n",
       "    .dataframe tbody tr th {\n",
       "        vertical-align: top;\n",
       "    }\n",
       "\n",
       "    .dataframe thead th {\n",
       "        text-align: right;\n",
       "    }\n",
       "</style>\n",
       "<table border=\"1\" class=\"dataframe\">\n",
       "  <thead>\n",
       "    <tr style=\"text-align: right;\">\n",
       "      <th></th>\n",
       "      <th>Unnamed: 0</th>\n",
       "      <th>org</th>\n",
       "      <th>org_ipsize_seen</th>\n",
       "      <th>caida_type</th>\n",
       "      <th>as_type</th>\n",
       "      <th>raw_country</th>\n",
       "      <th>region</th>\n",
       "      <th>count_attack_2014</th>\n",
       "      <th>count_attack_2015</th>\n",
       "      <th>count_attack</th>\n",
       "      <th>count_attack_norm</th>\n",
       "      <th>ITU-ICT</th>\n",
       "      <th>Population</th>\n",
       "      <th>revenues</th>\n",
       "    </tr>\n",
       "  </thead>\n",
       "  <tbody>\n",
       "    <tr>\n",
       "      <th>0</th>\n",
       "      <td>0</td>\n",
       "      <td>#3BEo, Sangkat Beoun Prolit, Khan 7Makara, Phn...</td>\n",
       "      <td>38.0</td>\n",
       "      <td>Transit/Access</td>\n",
       "      <td>Unknown</td>\n",
       "      <td>Cambodia</td>\n",
       "      <td>AP</td>\n",
       "      <td>0.0</td>\n",
       "      <td>9.0</td>\n",
       "      <td>9.0</td>\n",
       "      <td>0.236842</td>\n",
       "      <td>2.8</td>\n",
       "      <td>15766.29</td>\n",
       "      <td>10.0</td>\n",
       "    </tr>\n",
       "    <tr>\n",
       "      <th>1</th>\n",
       "      <td>1</td>\n",
       "      <td>&amp; Aguiar Ltda Me</td>\n",
       "      <td>10.0</td>\n",
       "      <td>Transit/Access</td>\n",
       "      <td>Unknown</td>\n",
       "      <td>Brazil</td>\n",
       "      <td>LC</td>\n",
       "      <td>1.0</td>\n",
       "      <td>2.0</td>\n",
       "      <td>3.0</td>\n",
       "      <td>0.300000</td>\n",
       "      <td>5.7</td>\n",
       "      <td>206163.06</td>\n",
       "      <td>NaN</td>\n",
       "    </tr>\n",
       "    <tr>\n",
       "      <th>2</th>\n",
       "      <td>2</td>\n",
       "      <td>&amp; Dantas Ltda</td>\n",
       "      <td>40.0</td>\n",
       "      <td>Transit/Access</td>\n",
       "      <td>Unknown</td>\n",
       "      <td>Brazil</td>\n",
       "      <td>LC</td>\n",
       "      <td>3.0</td>\n",
       "      <td>0.0</td>\n",
       "      <td>3.0</td>\n",
       "      <td>0.075000</td>\n",
       "      <td>5.7</td>\n",
       "      <td>206163.06</td>\n",
       "      <td>NaN</td>\n",
       "    </tr>\n",
       "    <tr>\n",
       "      <th>3</th>\n",
       "      <td>3</td>\n",
       "      <td>&amp; Matera Ltda</td>\n",
       "      <td>9.0</td>\n",
       "      <td>Transit/Access</td>\n",
       "      <td>Unknown</td>\n",
       "      <td>Brazil</td>\n",
       "      <td>LC</td>\n",
       "      <td>0.0</td>\n",
       "      <td>6.0</td>\n",
       "      <td>6.0</td>\n",
       "      <td>0.666667</td>\n",
       "      <td>5.7</td>\n",
       "      <td>206163.06</td>\n",
       "      <td>NaN</td>\n",
       "    </tr>\n",
       "    <tr>\n",
       "      <th>4</th>\n",
       "      <td>4</td>\n",
       "      <td>&amp; Rapchan Ltda. - Me</td>\n",
       "      <td>37.0</td>\n",
       "      <td>Transit/Access</td>\n",
       "      <td>Unknown</td>\n",
       "      <td>Brazil</td>\n",
       "      <td>LC</td>\n",
       "      <td>5.0</td>\n",
       "      <td>15.0</td>\n",
       "      <td>20.0</td>\n",
       "      <td>0.540541</td>\n",
       "      <td>5.7</td>\n",
       "      <td>206163.06</td>\n",
       "      <td>NaN</td>\n",
       "    </tr>\n",
       "  </tbody>\n",
       "</table>\n",
       "</div>"
      ],
      "text/plain": [
       "   Unnamed: 0                                                org  \\\n",
       "0           0  #3BEo, Sangkat Beoun Prolit, Khan 7Makara, Phn...   \n",
       "1           1                                   & Aguiar Ltda Me   \n",
       "2           2                                      & Dantas Ltda   \n",
       "3           3                                      & Matera Ltda   \n",
       "4           4                               & Rapchan Ltda. - Me   \n",
       "\n",
       "   org_ipsize_seen      caida_type  as_type raw_country region  \\\n",
       "0             38.0  Transit/Access  Unknown    Cambodia     AP   \n",
       "1             10.0  Transit/Access  Unknown      Brazil     LC   \n",
       "2             40.0  Transit/Access  Unknown      Brazil     LC   \n",
       "3              9.0  Transit/Access  Unknown      Brazil     LC   \n",
       "4             37.0  Transit/Access  Unknown      Brazil     LC   \n",
       "\n",
       "   count_attack_2014  count_attack_2015  count_attack  count_attack_norm  \\\n",
       "0                0.0                9.0           9.0           0.236842   \n",
       "1                1.0                2.0           3.0           0.300000   \n",
       "2                3.0                0.0           3.0           0.075000   \n",
       "3                0.0                6.0           6.0           0.666667   \n",
       "4                5.0               15.0          20.0           0.540541   \n",
       "\n",
       "   ITU-ICT  Population  revenues  \n",
       "0      2.8    15766.29      10.0  \n",
       "1      5.7   206163.06       NaN  \n",
       "2      5.7   206163.06       NaN  \n",
       "3      5.7   206163.06       NaN  \n",
       "4      5.7   206163.06       NaN  "
      ]
     },
     "execution_count": 22,
     "metadata": {},
     "output_type": "execute_result"
    }
   ],
   "source": [
    "df.head()"
   ]
  },
  {
   "cell_type": "code",
   "execution_count": 47,
   "metadata": {},
   "outputs": [],
   "source": [
    "# Make the values per region\n",
    "df_region = df.groupby(\"region\")[\"count_attack\"].sum()\n",
    "df_region = pd.DataFrame(df_region)\n",
    "df_region[\"ITU-ICT\"] = df.groupby(\"region\")[\"ITU-ICT\"].mean()\n",
    "df_region = df_region.reset_index()"
   ]
  },
  {
   "cell_type": "code",
   "execution_count": 50,
   "metadata": {},
   "outputs": [],
   "source": [
    "# Adding the data from https://newzoo.com/insights/articles/newzoos-top-100-countries-by-2015-game-revenues/\n",
    "# Revenues is in billion USA dollars. \n",
    "\n",
    "#Asia Pacific\n",
    "df_region.loc[df_region[\"region\"] == \"AP\", 'revenues'] = 43.1\n",
    "df_region.loc[df_region[\"region\"] == \"AP\", 'online_pop'] = 1492370000\n",
    "df_region.loc[df_region[\"region\"] == \"AP\", 'gamers'] = 1002401000\n",
    "\n",
    "#North America\n",
    "df_region.loc[df_region[\"region\"] == \"NAM\", 'revenues'] = 23.8\n",
    "df_region.loc[df_region[\"region\"] == \"NAM\", 'online_pop'] = 322144000\n",
    "df_region.loc[df_region[\"region\"] == \"NAM\", 'gamers'] = 208573000\n",
    "\n",
    "#Eastern Europe\n",
    "df_region.loc[df_region[\"region\"] == \"EE\", 'revenues'] = 2.8\n",
    "df_region.loc[df_region[\"region\"] == \"EE\", 'online_pop'] = 234888000\n",
    "df_region.loc[df_region[\"region\"] == \"EE\", 'gamers'] = 138260000\n",
    "\n",
    "#Western Europe\n",
    "df_region.loc[df_region[\"region\"] == \"WE\", 'revenues'] = 15.6\n",
    "df_region.loc[df_region[\"region\"] == \"WE\", 'online_pop'] = 341861000\n",
    "df_region.loc[df_region[\"region\"] == \"WE\", 'gamers'] = 195514000\n",
    "\n",
    "#Latin\n",
    "df_region.loc[df_region[\"region\"] == \"LC\", 'revenues'] = 4\n",
    "df_region.loc[df_region[\"region\"] == \"LC\", 'online_pop'] = 333094000\n",
    "df_region.loc[df_region[\"region\"] == \"LC\", 'gamers'] = 189091000\n",
    "\n",
    "#Middle East and Africa\n",
    "df_region.loc[df_region[\"region\"] == \"MEA\", 'revenues'] = 2.1\n",
    "df_region.loc[df_region[\"region\"] == \"MEA\", 'online_pop'] = 456689000\n",
    "df_region.loc[df_region[\"region\"] == \"MEA\", 'gamers'] = 250962000"
   ]
  },
  {
   "cell_type": "code",
   "execution_count": 54,
   "metadata": {},
   "outputs": [],
   "source": [
    "#Remove EU as they are already taken into account with WE and EE\n",
    "df_region = df_region.drop(2)"
   ]
  },
  {
   "cell_type": "code",
   "execution_count": 55,
   "metadata": {},
   "outputs": [
    {
     "data": {
      "text/html": [
       "<div>\n",
       "<style scoped>\n",
       "    .dataframe tbody tr th:only-of-type {\n",
       "        vertical-align: middle;\n",
       "    }\n",
       "\n",
       "    .dataframe tbody tr th {\n",
       "        vertical-align: top;\n",
       "    }\n",
       "\n",
       "    .dataframe thead th {\n",
       "        text-align: right;\n",
       "    }\n",
       "</style>\n",
       "<table border=\"1\" class=\"dataframe\">\n",
       "  <thead>\n",
       "    <tr style=\"text-align: right;\">\n",
       "      <th></th>\n",
       "      <th>region</th>\n",
       "      <th>count_attack</th>\n",
       "      <th>ITU-ICT</th>\n",
       "      <th>revenues</th>\n",
       "      <th>online_pop</th>\n",
       "      <th>gamers</th>\n",
       "    </tr>\n",
       "  </thead>\n",
       "  <tbody>\n",
       "    <tr>\n",
       "      <th>0</th>\n",
       "      <td>AP</td>\n",
       "      <td>1601530.0</td>\n",
       "      <td>6.009208</td>\n",
       "      <td>43.1</td>\n",
       "      <td>1.492370e+09</td>\n",
       "      <td>1.002401e+09</td>\n",
       "    </tr>\n",
       "    <tr>\n",
       "      <th>1</th>\n",
       "      <td>EE</td>\n",
       "      <td>349087.0</td>\n",
       "      <td>6.411272</td>\n",
       "      <td>2.8</td>\n",
       "      <td>2.348880e+08</td>\n",
       "      <td>1.382600e+08</td>\n",
       "    </tr>\n",
       "    <tr>\n",
       "      <th>3</th>\n",
       "      <td>LC</td>\n",
       "      <td>267655.0</td>\n",
       "      <td>5.529465</td>\n",
       "      <td>4.0</td>\n",
       "      <td>3.330940e+08</td>\n",
       "      <td>1.890910e+08</td>\n",
       "    </tr>\n",
       "    <tr>\n",
       "      <th>4</th>\n",
       "      <td>MEA</td>\n",
       "      <td>186012.0</td>\n",
       "      <td>5.154703</td>\n",
       "      <td>2.1</td>\n",
       "      <td>4.566890e+08</td>\n",
       "      <td>2.509620e+08</td>\n",
       "    </tr>\n",
       "    <tr>\n",
       "      <th>5</th>\n",
       "      <td>NAM</td>\n",
       "      <td>2012268.0</td>\n",
       "      <td>8.054297</td>\n",
       "      <td>23.8</td>\n",
       "      <td>3.221440e+08</td>\n",
       "      <td>2.085730e+08</td>\n",
       "    </tr>\n",
       "    <tr>\n",
       "      <th>6</th>\n",
       "      <td>WE</td>\n",
       "      <td>826506.0</td>\n",
       "      <td>8.124830</td>\n",
       "      <td>15.6</td>\n",
       "      <td>3.418610e+08</td>\n",
       "      <td>1.955140e+08</td>\n",
       "    </tr>\n",
       "  </tbody>\n",
       "</table>\n",
       "</div>"
      ],
      "text/plain": [
       "  region  count_attack   ITU-ICT  revenues    online_pop        gamers\n",
       "0     AP     1601530.0  6.009208      43.1  1.492370e+09  1.002401e+09\n",
       "1     EE      349087.0  6.411272       2.8  2.348880e+08  1.382600e+08\n",
       "3     LC      267655.0  5.529465       4.0  3.330940e+08  1.890910e+08\n",
       "4    MEA      186012.0  5.154703       2.1  4.566890e+08  2.509620e+08\n",
       "5    NAM     2012268.0  8.054297      23.8  3.221440e+08  2.085730e+08\n",
       "6     WE      826506.0  8.124830      15.6  3.418610e+08  1.955140e+08"
      ]
     },
     "execution_count": 55,
     "metadata": {},
     "output_type": "execute_result"
    }
   ],
   "source": [
    "df_region"
   ]
  },
  {
   "cell_type": "code",
   "execution_count": 93,
   "metadata": {},
   "outputs": [
    {
     "data": {
      "image/png": "[encoded data removed]",
      "text/plain": [
       "<Figure size 432x288 with 1 Axes>"
      ]
     },
     "metadata": {},
     "output_type": "display_data"
    }
   ],
   "source": [
    "plt.bar(df_region[\"region\"], df_region[\"count_attack\"])\n",
    "plt.ylabel(\"Frequency of Attacks\")\n",
    "plt.xlabel(\"Region\")\n",
    "\n",
    "plt.savefig(\"ddos_region_attacks.png\")"
   ]
  },
  {
   "cell_type": "code",
   "execution_count": 109,
   "metadata": {},
   "outputs": [],
   "source": [
    "df_region[\"revenues_normalized\"] = (df_region[\"revenues\"]*1000000000) / df_region[\"gamers\"]"
   ]
  },
  {
   "cell_type": "code",
   "execution_count": 110,
   "metadata": {},
   "outputs": [
    {
     "data": {
      "text/html": [
       "<div>\n",
       "<style scoped>\n",
       "    .dataframe tbody tr th:only-of-type {\n",
       "        vertical-align: middle;\n",
       "    }\n",
       "\n",
       "    .dataframe tbody tr th {\n",
       "        vertical-align: top;\n",
       "    }\n",
       "\n",
       "    .dataframe thead th {\n",
       "        text-align: right;\n",
       "    }\n",
       "</style>\n",
       "<table border=\"1\" class=\"dataframe\">\n",
       "  <thead>\n",
       "    <tr style=\"text-align: right;\">\n",
       "      <th></th>\n",
       "      <th>region</th>\n",
       "      <th>count_attack</th>\n",
       "      <th>ITU-ICT</th>\n",
       "      <th>revenues</th>\n",
       "      <th>online_pop</th>\n",
       "      <th>gamers</th>\n",
       "      <th>revenues_normalized</th>\n",
       "    </tr>\n",
       "  </thead>\n",
       "  <tbody>\n",
       "    <tr>\n",
       "      <th>0</th>\n",
       "      <td>AP</td>\n",
       "      <td>1601530.0</td>\n",
       "      <td>6.009208</td>\n",
       "      <td>43.1</td>\n",
       "      <td>1.492370e+09</td>\n",
       "      <td>1.002401e+09</td>\n",
       "      <td>42.996765</td>\n",
       "    </tr>\n",
       "    <tr>\n",
       "      <th>1</th>\n",
       "      <td>EE</td>\n",
       "      <td>349087.0</td>\n",
       "      <td>6.411272</td>\n",
       "      <td>2.8</td>\n",
       "      <td>2.348880e+08</td>\n",
       "      <td>1.382600e+08</td>\n",
       "      <td>20.251700</td>\n",
       "    </tr>\n",
       "    <tr>\n",
       "      <th>3</th>\n",
       "      <td>LC</td>\n",
       "      <td>267655.0</td>\n",
       "      <td>5.529465</td>\n",
       "      <td>4.0</td>\n",
       "      <td>3.330940e+08</td>\n",
       "      <td>1.890910e+08</td>\n",
       "      <td>21.153836</td>\n",
       "    </tr>\n",
       "    <tr>\n",
       "      <th>4</th>\n",
       "      <td>MEA</td>\n",
       "      <td>186012.0</td>\n",
       "      <td>5.154703</td>\n",
       "      <td>2.1</td>\n",
       "      <td>4.566890e+08</td>\n",
       "      <td>2.509620e+08</td>\n",
       "      <td>8.367801</td>\n",
       "    </tr>\n",
       "    <tr>\n",
       "      <th>5</th>\n",
       "      <td>NAM</td>\n",
       "      <td>2012268.0</td>\n",
       "      <td>8.054297</td>\n",
       "      <td>23.8</td>\n",
       "      <td>3.221440e+08</td>\n",
       "      <td>2.085730e+08</td>\n",
       "      <td>114.108729</td>\n",
       "    </tr>\n",
       "    <tr>\n",
       "      <th>6</th>\n",
       "      <td>WE</td>\n",
       "      <td>826506.0</td>\n",
       "      <td>8.124830</td>\n",
       "      <td>15.6</td>\n",
       "      <td>3.418610e+08</td>\n",
       "      <td>1.955140e+08</td>\n",
       "      <td>79.789683</td>\n",
       "    </tr>\n",
       "  </tbody>\n",
       "</table>\n",
       "</div>"
      ],
      "text/plain": [
       "  region  count_attack   ITU-ICT  revenues    online_pop        gamers  \\\n",
       "0     AP     1601530.0  6.009208      43.1  1.492370e+09  1.002401e+09   \n",
       "1     EE      349087.0  6.411272       2.8  2.348880e+08  1.382600e+08   \n",
       "3     LC      267655.0  5.529465       4.0  3.330940e+08  1.890910e+08   \n",
       "4    MEA      186012.0  5.154703       2.1  4.566890e+08  2.509620e+08   \n",
       "5    NAM     2012268.0  8.054297      23.8  3.221440e+08  2.085730e+08   \n",
       "6     WE      826506.0  8.124830      15.6  3.418610e+08  1.955140e+08   \n",
       "\n",
       "   revenues_normalized  \n",
       "0            42.996765  \n",
       "1            20.251700  \n",
       "3            21.153836  \n",
       "4             8.367801  \n",
       "5           114.108729  \n",
       "6            79.789683  "
      ]
     },
     "execution_count": 110,
     "metadata": {},
     "output_type": "execute_result"
    }
   ],
   "source": [
    "df_region"
   ]
  },
  {
   "cell_type": "code",
   "execution_count": 112,
   "metadata": {},
   "outputs": [
    {
     "name": "stderr",
     "output_type": "stream",
     "text": [
      "C:\\Users\\newbi\\Anaconda3\\lib\\site-packages\\numpy\\core\\_methods.py:140: RuntimeWarning: Degrees of freedom <= 0 for slice\n",
      "  keepdims=keepdims)\n",
      "C:\\Users\\newbi\\Anaconda3\\lib\\site-packages\\numpy\\core\\_methods.py:132: RuntimeWarning: invalid value encountered in double_scalars\n",
      "  ret = ret.dtype.type(ret / rcount)\n"
     ]
    },
    {
     "data": {
      "text/plain": [
       "<seaborn.axisgrid.PairGrid at 0x1d8f6969a90>"
      ]
     },
     "execution_count": 112,
     "metadata": {},
     "output_type": "execute_result"
    },
    {
     "data": {
      "image/png": "[encoded data removed]",
      "text/plain": [
       "<Figure size 1139x1080 with 42 Axes>"
      ]
     },
     "metadata": {},
     "output_type": "display_data"
    }
   ],
   "source": [
    "import seaborn as sns\n",
    "\n",
    "sns.pairplot(df_region, hue = \"region\")"
   ]
  },
  {
   "cell_type": "code",
   "execution_count": 85,
   "metadata": {},
   "outputs": [
    {
     "ename": "ValueError",
     "evalue": "skewtest is not valid with less than 8 samples; 6 samples were given.",
     "output_type": "error",
     "traceback": [
      "\u001b[1;31m---------------------------------------------------------------------------\u001b[0m",
      "\u001b[1;31mValueError\u001b[0m                                Traceback (most recent call last)",
      "\u001b[1;32m<ipython-input-85-8c357529c894>\u001b[0m in \u001b[0;36m<module>\u001b[1;34m()\u001b[0m\n\u001b[0;32m      4\u001b[0m \u001b[0mALPHA\u001b[0m \u001b[1;33m=\u001b[0m \u001b[1;36m0.05\u001b[0m \u001b[1;31m# 95% confidence\u001b[0m\u001b[1;33m\u001b[0m\u001b[0m\n\u001b[0;32m      5\u001b[0m \u001b[1;33m\u001b[0m\u001b[0m\n\u001b[1;32m----> 6\u001b[1;33m \u001b[0mstat\u001b[0m\u001b[1;33m,\u001b[0m \u001b[0mp\u001b[0m \u001b[1;33m=\u001b[0m \u001b[0mnormaltest\u001b[0m\u001b[1;33m(\u001b[0m\u001b[0mdf_region\u001b[0m\u001b[1;33m.\u001b[0m\u001b[0mcount_attack\u001b[0m\u001b[1;33m)\u001b[0m\u001b[1;33m\u001b[0m\u001b[0m\n\u001b[0m\u001b[0;32m      7\u001b[0m \u001b[0mprint\u001b[0m\u001b[1;33m(\u001b[0m\u001b[1;34m'\\nD’Agostino and Pearson’s test if data coming from Gaussian distribution:\\n\\tStatistics=%.3f, p=%.3f'\u001b[0m \u001b[1;33m%\u001b[0m \u001b[1;33m(\u001b[0m\u001b[0mstat\u001b[0m\u001b[1;33m,\u001b[0m \u001b[0mp\u001b[0m\u001b[1;33m)\u001b[0m\u001b[1;33m)\u001b[0m\u001b[1;33m\u001b[0m\u001b[0m\n\u001b[0;32m      8\u001b[0m \u001b[1;32mif\u001b[0m \u001b[0mp\u001b[0m \u001b[1;33m>\u001b[0m \u001b[0mALPHA\u001b[0m\u001b[1;33m:\u001b[0m\u001b[1;33m\u001b[0m\u001b[0m\n",
      "\u001b[1;32m~\\Anaconda3\\lib\\site-packages\\scipy\\stats\\stats.py\u001b[0m in \u001b[0;36mnormaltest\u001b[1;34m(a, axis, nan_policy)\u001b[0m\n\u001b[0;32m   1509\u001b[0m         \u001b[1;32mreturn\u001b[0m \u001b[0mmstats_basic\u001b[0m\u001b[1;33m.\u001b[0m\u001b[0mnormaltest\u001b[0m\u001b[1;33m(\u001b[0m\u001b[0ma\u001b[0m\u001b[1;33m,\u001b[0m \u001b[0maxis\u001b[0m\u001b[1;33m)\u001b[0m\u001b[1;33m\u001b[0m\u001b[0m\n\u001b[0;32m   1510\u001b[0m \u001b[1;33m\u001b[0m\u001b[0m\n\u001b[1;32m-> 1511\u001b[1;33m     \u001b[0ms\u001b[0m\u001b[1;33m,\u001b[0m \u001b[0m_\u001b[0m \u001b[1;33m=\u001b[0m \u001b[0mskewtest\u001b[0m\u001b[1;33m(\u001b[0m\u001b[0ma\u001b[0m\u001b[1;33m,\u001b[0m \u001b[0maxis\u001b[0m\u001b[1;33m)\u001b[0m\u001b[1;33m\u001b[0m\u001b[0m\n\u001b[0m\u001b[0;32m   1512\u001b[0m     \u001b[0mk\u001b[0m\u001b[1;33m,\u001b[0m \u001b[0m_\u001b[0m \u001b[1;33m=\u001b[0m \u001b[0mkurtosistest\u001b[0m\u001b[1;33m(\u001b[0m\u001b[0ma\u001b[0m\u001b[1;33m,\u001b[0m \u001b[0maxis\u001b[0m\u001b[1;33m)\u001b[0m\u001b[1;33m\u001b[0m\u001b[0m\n\u001b[0;32m   1513\u001b[0m     \u001b[0mk2\u001b[0m \u001b[1;33m=\u001b[0m \u001b[0ms\u001b[0m\u001b[1;33m*\u001b[0m\u001b[0ms\u001b[0m \u001b[1;33m+\u001b[0m \u001b[0mk\u001b[0m\u001b[1;33m*\u001b[0m\u001b[0mk\u001b[0m\u001b[1;33m\u001b[0m\u001b[0m\n",
      "\u001b[1;32m~\\Anaconda3\\lib\\site-packages\\scipy\\stats\\stats.py\u001b[0m in \u001b[0;36mskewtest\u001b[1;34m(a, axis, nan_policy)\u001b[0m\n\u001b[0;32m   1336\u001b[0m         raise ValueError(\n\u001b[0;32m   1337\u001b[0m             \u001b[1;34m\"skewtest is not valid with less than 8 samples; %i samples\"\u001b[0m\u001b[1;33m\u001b[0m\u001b[0m\n\u001b[1;32m-> 1338\u001b[1;33m             \" were given.\" % int(n))\n\u001b[0m\u001b[0;32m   1339\u001b[0m     \u001b[0my\u001b[0m \u001b[1;33m=\u001b[0m \u001b[0mb2\u001b[0m \u001b[1;33m*\u001b[0m \u001b[0mmath\u001b[0m\u001b[1;33m.\u001b[0m\u001b[0msqrt\u001b[0m\u001b[1;33m(\u001b[0m\u001b[1;33m(\u001b[0m\u001b[1;33m(\u001b[0m\u001b[0mn\u001b[0m \u001b[1;33m+\u001b[0m \u001b[1;36m1\u001b[0m\u001b[1;33m)\u001b[0m \u001b[1;33m*\u001b[0m \u001b[1;33m(\u001b[0m\u001b[0mn\u001b[0m \u001b[1;33m+\u001b[0m \u001b[1;36m3\u001b[0m\u001b[1;33m)\u001b[0m\u001b[1;33m)\u001b[0m \u001b[1;33m/\u001b[0m \u001b[1;33m(\u001b[0m\u001b[1;36m6.0\u001b[0m \u001b[1;33m*\u001b[0m \u001b[1;33m(\u001b[0m\u001b[0mn\u001b[0m \u001b[1;33m-\u001b[0m \u001b[1;36m2\u001b[0m\u001b[1;33m)\u001b[0m\u001b[1;33m)\u001b[0m\u001b[1;33m)\u001b[0m\u001b[1;33m\u001b[0m\u001b[0m\n\u001b[0;32m   1340\u001b[0m     beta2 = (3.0 * (n**2 + 27*n - 70) * (n+1) * (n+3) /\n",
      "\u001b[1;31mValueError\u001b[0m: skewtest is not valid with less than 8 samples; 6 samples were given."
     ]
    }
   ],
   "source": [
    "from scipy.stats import normaltest\n",
    "from scipy.stats import anderson\n",
    "\n",
    "ALPHA = 0.05 # 95% confidence\n",
    "\n",
    "stat, p = normaltest(df_region.count_attack)\n",
    "print('\\nD’Agostino and Pearson’s test if data coming from Gaussian distribution:\\n\\tStatistics=%.3f, p=%.3f' % (stat, p))\n",
    "if p > ALPHA:\n",
    "    print('\\tSample looks Gaussian (fail to reject H0)')\n",
    "else:\n",
    "    print('\\tSample does not look Gaussian (reject H0)')\n",
    "    \n",
    "    \n",
    "stat, c_values, s_levels = anderson(df_region.count_attack); J = 2 # index of critical values and corresponding significance level\n",
    "print('\\nAnderson-Darling test if data coming from Gaussian distribution:\\n\\tStatistics=%.3f' % stat)\n",
    "if stat < float(c_values[s_levels / 100 == ALPHA]):\n",
    "    print('\\tsignificance level=%.2f: %.3f, data looks normal (fail to reject H0)' % (ALPHA, float(c_values[s_levels / 100 == ALPHA])))\n",
    "else:\n",
    "    print('\\tsignificance level=%.2f: %.3f, data does not look normal (reject H0)' % (ALPHA, float(c_values[s_levels / 100 == ALPHA])))"
   ]
  },
  {
   "cell_type": "code",
   "execution_count": 113,
   "metadata": {},
   "outputs": [
    {
     "name": "stdout",
     "output_type": "stream",
     "text": [
      "\n",
      "Test Spearman rank-order correlation of \"count_attack\" ~ \"ITU-ICT\"\n",
      "\tSpearmans correlation coefficient = 0.714\n",
      "\tSamples are uncorrelated (fail to reject H0) p=0.111\n",
      "\n",
      "Test Spearman rank-order correlation of \"count_attack\" ~ \"revenues\"\n",
      "\tSpearmans correlation coefficient = 0.886\n",
      "\tSamples are correlated (reject H0) p=0.019\n",
      "\n",
      "Test Spearman rank-order correlation of \"count_attack\" ~ \"online_pop\"\n",
      "\tSpearmans correlation coefficient = -0.086\n",
      "\tSamples are uncorrelated (fail to reject H0) p=0.872\n",
      "\n",
      "Test Spearman rank-order correlation of \"count_attack\" ~ \"gamers\"\n",
      "\tSpearmans correlation coefficient = 0.257\n",
      "\tSamples are uncorrelated (fail to reject H0) p=0.623\n",
      "\n",
      "Test Spearman rank-order correlation of \"count_attack\" ~ \"revenues_normalized\"\n",
      "\tSpearmans correlation coefficient = 0.886\n",
      "\tSamples are correlated (reject H0) p=0.019\n"
     ]
    }
   ],
   "source": [
    "from scipy.stats import spearmanr\n",
    "\n",
    "ALPHA = 0.05 # 95% confidence\n",
    "\n",
    "xs = [\"ITU-ICT\", \"revenues\", \"online_pop\", \"gamers\", \"revenues_normalized\"]\n",
    "\n",
    "for x in xs:\n",
    "    print('\\nTest Spearman rank-order correlation of \\\"count_attack\\\" ~ \\\"%s\\\"' % x)\n",
    "    coef, p = spearmanr(df_region[x], df_region[\"count_attack\"], nan_policy='omit')\n",
    "\n",
    "    print('\\tSpearmans correlation coefficient = %.3f' % coef)\n",
    "\n",
    "    if p > ALPHA:\n",
    "        print('\\tSamples are uncorrelated (fail to reject H0) p=%.3f' % p)\n",
    "    else:\n",
    "        print('\\tSamples are correlated (reject H0) p=%.3f' % p)"
   ]
  },
  {
   "cell_type": "code",
   "execution_count": null,
   "metadata": {},
   "outputs": [],
   "source": [
    "# import statsmodels.api as sm # import statsmodels \n",
    "\n",
    "# X = df_region[[\"ITU-ICT\", \"revenues\", \"online_pop\", \"gamers\"]] ## X means our input variables (or independent variables)\n",
    "# y = df_region[\"count_attack\"] ## Y usually means our output/dependent variable\n",
    "\n",
    "# # Note the difference in argument order\n",
    "# model = sm.OLS(y, X).fit() ## sm.OLS(output, input)\n",
    "# predictions = model.predict(X)\n",
    "\n",
    "# # Print out the statistics\n",
    "# model.summary()"
   ]
  }
 ],
 "metadata": {
  "kernelspec": {
   "display_name": "Python 3",
   "language": "python",
   "name": "python3"
  },
  "language_info": {
   "codemirror_mode": {
    "name": "ipython",
    "version": 3
   },
   "file_extension": ".py",
   "mimetype": "text/x-python",
   "name": "python",
   "nbconvert_exporter": "python",
   "pygments_lexer": "ipython3",
   "version": "3.6.5"
  }
 },
 "nbformat": 4,
 "nbformat_minor": 2
}
