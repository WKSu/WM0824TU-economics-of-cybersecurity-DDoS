{
 "cells": [
  {
   "cell_type": "markdown",
   "metadata": {},
   "source": [
    "# Security Investments (ROSI)"
   ]
  },
  {
   "cell_type": "code",
   "execution_count": 1,
   "metadata": {},
   "outputs": [],
   "source": [
    "import pandas as pd\n",
    "import numpy as np\n",
    "import matplotlib.pyplot as plt\n",
    "import seaborn as sns"
   ]
  },
  {
   "cell_type": "markdown",
   "metadata": {},
   "source": [
    "## Data preparation"
   ]
  },
  {
   "cell_type": "code",
   "execution_count": 2,
   "metadata": {},
   "outputs": [
    {
     "name": "stderr",
     "output_type": "stream",
     "text": [
      "C:\\ProgramData\\Anaconda3\\lib\\site-packages\\IPython\\core\\interactiveshell.py:3057: DtypeWarning: Columns (15,17,19,27) have mixed types. Specify dtype option on import or set low_memory=False.\n",
      "  interactivity=interactivity, compiler=compiler, result=result)\n"
     ]
    }
   ],
   "source": [
    "# data source: https://surfdrive.surf.nl/files/index.php/s/CZWfWQp3VKGKa8m\n",
    "df = pd.read_csv('../data_with_ports.csv.gz', sep='|', compression='gzip')"
   ]
  },
  {
   "cell_type": "code",
   "execution_count": 3,
   "metadata": {},
   "outputs": [],
   "source": [
    "# parse string to datetime format\n",
    "df['date'] = pd.to_datetime(df['date'], format='%Y-%m-%d')\n",
    "df['start_time'] = pd.to_datetime(df['start_time'], format='%Y-%m-%dT%H:%M:%S+09:00')\n",
    "df['stop_time'] = pd.to_datetime(df['stop_time'], format='%Y-%m-%dT%H:%M:%S+09:00')"
   ]
  },
  {
   "cell_type": "code",
   "execution_count": 4,
   "metadata": {},
   "outputs": [
    {
     "name": "stderr",
     "output_type": "stream",
     "text": [
      "C:\\ProgramData\\Anaconda3\\lib\\site-packages\\pandas\\core\\frame.py:3940: SettingWithCopyWarning: \n",
      "A value is trying to be set on a copy of a slice from a DataFrame\n",
      "\n",
      "See the caveats in the documentation: http://pandas.pydata.org/pandas-docs/stable/indexing.html#indexing-view-versus-copy\n",
      "  errors=errors)\n",
      "C:\\ProgramData\\Anaconda3\\lib\\site-packages\\pandas\\core\\generic.py:6130: SettingWithCopyWarning: \n",
      "A value is trying to be set on a copy of a slice from a DataFrame\n",
      "\n",
      "See the caveats in the documentation: http://pandas.pydata.org/pandas-docs/stable/indexing.html#indexing-view-versus-copy\n",
      "  self._update_inplace(new_data)\n"
     ]
    }
   ],
   "source": [
    "# subset hosting providers only\n",
    "dfASesHosting = df.loc[df[\"as_type\"] == \"hosting\"]\n",
    "#dfASesHosting.info() # premilary inspection\n",
    "\n",
    "# drop columns with all null values\n",
    "dfASesHosting.drop(columns=[\"tg_op\", \"subs\"], inplace=True)\n",
    "\n",
    "# fix null values in `region`\n",
    "dfASesHosting[dfASesHosting.region.isna()][[\"cc\", \"region\"]].drop_duplicates() # found US and CA have region = NaN\n",
    "dfASesHosting.region.fillna(\"NA\", inplace=True) # NA = North America"
   ]
  },
  {
   "cell_type": "code",
   "execution_count": 5,
   "metadata": {},
   "outputs": [
    {
     "name": "stdout",
     "output_type": "stream",
     "text": [
      "<class 'pandas.core.frame.DataFrame'>\n",
      "Int64Index: 473792 entries, 2948 to 5697809\n",
      "Data columns (total 33 columns):\n",
      "target_ip                 473792 non-null object\n",
      "date                      473792 non-null datetime64[ns]\n",
      "sensor_id                 473792 non-null object\n",
      "service                   473792 non-null object\n",
      "start_time                473792 non-null datetime64[ns]\n",
      "stop_time                 473792 non-null datetime64[ns]\n",
      "duration                  473792 non-null float64\n",
      "packets                   473792 non-null int64\n",
      "raw_country               473792 non-null object\n",
      "raw_as                    473792 non-null object\n",
      "raw_hostname              473792 non-null object\n",
      "udp_port_list             473792 non-null object\n",
      "pyasn_as                  473792 non-null float64\n",
      "pyasn_as_bgp_size         472991 non-null float64\n",
      "cc                        473792 non-null object\n",
      "region                    473792 non-null object\n",
      "is_oecd                   473792 non-null float64\n",
      "as_type                   473792 non-null object\n",
      "as_type_confidence        473792 non-null float64\n",
      "org                       473595 non-null object\n",
      "org_range                 473595 non-null object\n",
      "org_rangesize             473595 non-null float64\n",
      "org_ipsize_seen           471677 non-null float64\n",
      "org_domainsize_seen       471677 non-null float64\n",
      "org_ipsize_seen_shared    464945 non-null float64\n",
      "org_is_hosting            473792 non-null float64\n",
      "org_tag                   380827 non-null object\n",
      "caida_type                473621 non-null object\n",
      "dc                        473792 non-null int64\n",
      "as_ipsize_seen            473661 non-null float64\n",
      "as_domainsize_seen        473661 non-null float64\n",
      "pps                       473792 non-null float64\n",
      "year                      473792 non-null int64\n",
      "dtypes: datetime64[ns](3), float64(13), int64(3), object(14)\n",
      "memory usage: 122.9+ MB\n"
     ]
    }
   ],
   "source": [
    "dfASesHosting.info()"
   ]
  },
  {
   "cell_type": "code",
   "execution_count": 6,
   "metadata": {},
   "outputs": [
    {
     "data": {
      "text/plain": [
       "target_ip                          190.210.177.182\n",
       "date                           2015-01-03 00:00:00\n",
       "sensor_id                                sensor005\n",
       "service                                       ssdp\n",
       "start_time                     2015-01-03 16:22:55\n",
       "stop_time                      2015-01-03 16:44:03\n",
       "duration                                      1268\n",
       "packets                                        584\n",
       "raw_country                              Argentina\n",
       "raw_as                                AS16814 S.A.\n",
       "raw_hostname                                  None\n",
       "udp_port_list                           [80, 7667]\n",
       "pyasn_as                                     16814\n",
       "pyasn_as_bgp_size                           158720\n",
       "cc                                              AR\n",
       "region                                          LC\n",
       "is_oecd                                          0\n",
       "as_type                                    hosting\n",
       "as_type_confidence                               1\n",
       "org                         Juarez Alan Cristopher\n",
       "org_range                 (3201478912, 3201479167)\n",
       "org_rangesize                                  256\n",
       "org_ipsize_seen                                 22\n",
       "org_domainsize_seen                             31\n",
       "org_ipsize_seen_shared                           1\n",
       "org_is_hosting                                   1\n",
       "org_tag                                        NaN\n",
       "caida_type                          Transit/Access\n",
       "dc                                               0\n",
       "as_ipsize_seen                                7637\n",
       "as_domainsize_seen                           56244\n",
       "pps                                       0.460568\n",
       "year                                          2015\n",
       "Name: 3008788, dtype: object"
      ]
     },
     "execution_count": 6,
     "metadata": {},
     "output_type": "execute_result"
    }
   ],
   "source": [
    "from random import randint\n",
    "\n",
    "dfASesHosting.iloc[randint(0, len(dfASesHosting))]"
   ]
  },
  {
   "cell_type": "markdown",
   "metadata": {},
   "source": [
    "## Metadata\n",
    "\n",
    "Decsriptions of the metadata (Cheung, 2017):\n",
    "\n",
    "| Column | Description |\n",
    "| ------ | ----------- |\n",
    "| `target_ip` | The IP address that has been targeted by a DDoS attackc |\n",
    "| `date` | The date of attack |\n",
    "| `sensor_id` | The name of the honeypot that monitored the attack traffic |\n",
    "| `service` | The protocol that was used to execute the attack |\n",
    "| `start_time` | The start time of the attack |\n",
    "| `stop_time` | The stop time of the attack |\n",
    "| `duration` | Attack duration |\n",
    "| `pyasn_as` | The autonomous system number identifying which AS is routing traffic for the attacked IP |\n",
    "| `pyasn_as_bpg_size` | The total number of IP addresses that the AS routes |\n",
    "| `cc` | Short form of the country where the IP address seems to reside |\n",
    "| `as_type` | The type of the Autonomous system (could be ISP, Hosting, EDU, etc.) |\n",
    "| `tg_op` | A string identifier to ASes that are known to be Broadband ISPs |\n",
    "| `caida_type` | A type identifier for ASes based on different source (CAIDA) |\n",
    "| `dc` | The number of second level domains that have been observed to map to the attacked IP addresses in DNS traffic |\n",
    "| `subs` | The number of subscribers for those ASes that are known to be Broadband ISPs |\n",
    "| `as_ipsize_seen` | The total number of IP addresses of the AS that have been observed to be routed to IPs of the AS in DNS traffic |\n",
    "| `as_domainsize_seen` | The total number of second level domains that have been observed to be routed to IPs of the AS in DNS traffic |\n",
    "| `year` | The year of the attack |\n",
    "| `udp_port_list` | The ports that attack packets have been sent to |\n"
   ]
  },
  {
   "cell_type": "markdown",
   "metadata": {},
   "source": [
    "# ROSI"
   ]
  },
  {
   "cell_type": "code",
   "execution_count": 7,
   "metadata": {},
   "outputs": [],
   "source": [
    "dfROSI = dfASesHosting.copy()"
   ]
  },
  {
   "cell_type": "code",
   "execution_count": 8,
   "metadata": {},
   "outputs": [],
   "source": [
    "dfROSI.loc[:, \"costs_org_domain_per_second\"] = dfROSI[\"as_domainsize_seen\"] * 29.15"
   ]
  },
  {
   "cell_type": "code",
   "execution_count": 9,
   "metadata": {},
   "outputs": [],
   "source": [
    "dfROSI.loc[:, \"total_costs_attack\"] = dfROSI.duration * dfROSI.costs_org_domain_per_second"
   ]
  },
  {
   "cell_type": "code",
   "execution_count": 10,
   "metadata": {},
   "outputs": [],
   "source": [
    "dfROSI.loc[:, \"risk_height\"] = 0.17 * dfROSI.total_costs_attack\n",
    "dfROSI.loc[:, \"maximum_investment\"] = 0.01 * dfROSI.total_costs_attack"
   ]
  },
  {
   "cell_type": "code",
   "execution_count": 11,
   "metadata": {},
   "outputs": [],
   "source": [
    "df_mean_attacks = dfROSI.groupby(\"org\").mean()"
   ]
  },
  {
   "cell_type": "code",
   "execution_count": 12,
   "metadata": {},
   "outputs": [
    {
     "data": {
      "text/html": [
       "<div>\n",
       "<style scoped>\n",
       "    .dataframe tbody tr th:only-of-type {\n",
       "        vertical-align: middle;\n",
       "    }\n",
       "\n",
       "    .dataframe tbody tr th {\n",
       "        vertical-align: top;\n",
       "    }\n",
       "\n",
       "    .dataframe thead th {\n",
       "        text-align: right;\n",
       "    }\n",
       "</style>\n",
       "<table border=\"1\" class=\"dataframe\">\n",
       "  <thead>\n",
       "    <tr style=\"text-align: right;\">\n",
       "      <th></th>\n",
       "      <th>duration</th>\n",
       "      <th>packets</th>\n",
       "      <th>pyasn_as</th>\n",
       "      <th>pyasn_as_bgp_size</th>\n",
       "      <th>is_oecd</th>\n",
       "      <th>as_type_confidence</th>\n",
       "      <th>org_rangesize</th>\n",
       "      <th>org_ipsize_seen</th>\n",
       "      <th>org_domainsize_seen</th>\n",
       "      <th>org_ipsize_seen_shared</th>\n",
       "      <th>org_is_hosting</th>\n",
       "      <th>dc</th>\n",
       "      <th>as_ipsize_seen</th>\n",
       "      <th>as_domainsize_seen</th>\n",
       "      <th>pps</th>\n",
       "      <th>year</th>\n",
       "      <th>costs_org_domain_per_second</th>\n",
       "      <th>total_costs_attack</th>\n",
       "      <th>risk_height</th>\n",
       "      <th>maximum_investment</th>\n",
       "    </tr>\n",
       "    <tr>\n",
       "      <th>org</th>\n",
       "      <th></th>\n",
       "      <th></th>\n",
       "      <th></th>\n",
       "      <th></th>\n",
       "      <th></th>\n",
       "      <th></th>\n",
       "      <th></th>\n",
       "      <th></th>\n",
       "      <th></th>\n",
       "      <th></th>\n",
       "      <th></th>\n",
       "      <th></th>\n",
       "      <th></th>\n",
       "      <th></th>\n",
       "      <th></th>\n",
       "      <th></th>\n",
       "      <th></th>\n",
       "      <th></th>\n",
       "      <th></th>\n",
       "      <th></th>\n",
       "    </tr>\n",
       "  </thead>\n",
       "  <tbody>\n",
       "    <tr>\n",
       "      <th>AMAZON</th>\n",
       "      <td>1173.511503</td>\n",
       "      <td>7995.733012</td>\n",
       "      <td>15036.873194</td>\n",
       "      <td>4.683955e+06</td>\n",
       "      <td>1.0</td>\n",
       "      <td>2.947566</td>\n",
       "      <td>2294716.0</td>\n",
       "      <td>158265.0</td>\n",
       "      <td>334952.0</td>\n",
       "      <td>2991.0</td>\n",
       "      <td>1.0</td>\n",
       "      <td>107.777956</td>\n",
       "      <td>783851.975923</td>\n",
       "      <td>4.072161e+06</td>\n",
       "      <td>inf</td>\n",
       "      <td>2015.0</td>\n",
       "      <td>1.187035e+08</td>\n",
       "      <td>1.403230e+11</td>\n",
       "      <td>2.385491e+10</td>\n",
       "      <td>1.403230e+09</td>\n",
       "    </tr>\n",
       "  </tbody>\n",
       "</table>\n",
       "</div>"
      ],
      "text/plain": [
       "           duration      packets      pyasn_as  pyasn_as_bgp_size  is_oecd  \\\n",
       "org                                                                          \n",
       "AMAZON  1173.511503  7995.733012  15036.873194       4.683955e+06      1.0   \n",
       "\n",
       "        as_type_confidence  org_rangesize  org_ipsize_seen  \\\n",
       "org                                                          \n",
       "AMAZON            2.947566      2294716.0         158265.0   \n",
       "\n",
       "        org_domainsize_seen  org_ipsize_seen_shared  org_is_hosting  \\\n",
       "org                                                                   \n",
       "AMAZON             334952.0                  2991.0             1.0   \n",
       "\n",
       "                dc  as_ipsize_seen  as_domainsize_seen  pps    year  \\\n",
       "org                                                                   \n",
       "AMAZON  107.777956   783851.975923        4.072161e+06  inf  2015.0   \n",
       "\n",
       "        costs_org_domain_per_second  total_costs_attack   risk_height  \\\n",
       "org                                                                     \n",
       "AMAZON                 1.187035e+08        1.403230e+11  2.385491e+10   \n",
       "\n",
       "        maximum_investment  \n",
       "org                         \n",
       "AMAZON        1.403230e+09  "
      ]
     },
     "execution_count": 12,
     "metadata": {},
     "output_type": "execute_result"
    }
   ],
   "source": [
    "df_mean_attacks[df_mean_attacks.index.isin([\"AMAZON\"])]"
   ]
  },
  {
   "cell_type": "code",
   "execution_count": 14,
   "metadata": {},
   "outputs": [
    {
     "data": {
      "text/html": [
       "<div>\n",
       "<style scoped>\n",
       "    .dataframe tbody tr th:only-of-type {\n",
       "        vertical-align: middle;\n",
       "    }\n",
       "\n",
       "    .dataframe tbody tr th {\n",
       "        vertical-align: top;\n",
       "    }\n",
       "\n",
       "    .dataframe thead th {\n",
       "        text-align: right;\n",
       "    }\n",
       "</style>\n",
       "<table border=\"1\" class=\"dataframe\">\n",
       "  <thead>\n",
       "    <tr style=\"text-align: right;\">\n",
       "      <th></th>\n",
       "      <th>duration</th>\n",
       "      <th>packets</th>\n",
       "      <th>pyasn_as</th>\n",
       "      <th>pyasn_as_bgp_size</th>\n",
       "      <th>is_oecd</th>\n",
       "      <th>as_type_confidence</th>\n",
       "      <th>org_rangesize</th>\n",
       "      <th>org_ipsize_seen</th>\n",
       "      <th>org_domainsize_seen</th>\n",
       "      <th>org_ipsize_seen_shared</th>\n",
       "      <th>org_is_hosting</th>\n",
       "      <th>dc</th>\n",
       "      <th>as_ipsize_seen</th>\n",
       "      <th>as_domainsize_seen</th>\n",
       "      <th>pps</th>\n",
       "      <th>year</th>\n",
       "      <th>costs_org_domain_per_second</th>\n",
       "      <th>total_costs_attack</th>\n",
       "      <th>risk_height</th>\n",
       "      <th>maximum_investment</th>\n",
       "    </tr>\n",
       "    <tr>\n",
       "      <th>org</th>\n",
       "      <th></th>\n",
       "      <th></th>\n",
       "      <th></th>\n",
       "      <th></th>\n",
       "      <th></th>\n",
       "      <th></th>\n",
       "      <th></th>\n",
       "      <th></th>\n",
       "      <th></th>\n",
       "      <th></th>\n",
       "      <th></th>\n",
       "      <th></th>\n",
       "      <th></th>\n",
       "      <th></th>\n",
       "      <th></th>\n",
       "      <th></th>\n",
       "      <th></th>\n",
       "      <th></th>\n",
       "      <th></th>\n",
       "      <th></th>\n",
       "    </tr>\n",
       "  </thead>\n",
       "  <tbody>\n",
       "    <tr>\n",
       "      <th>AMAZON</th>\n",
       "      <td>1173.511503</td>\n",
       "      <td>7995.733012</td>\n",
       "      <td>15036.873194</td>\n",
       "      <td>4.683955e+06</td>\n",
       "      <td>1.0</td>\n",
       "      <td>2.947566</td>\n",
       "      <td>2.294716e+06</td>\n",
       "      <td>158265.0</td>\n",
       "      <td>334952.0</td>\n",
       "      <td>2991.0</td>\n",
       "      <td>1.0</td>\n",
       "      <td>107.777956</td>\n",
       "      <td>783851.975923</td>\n",
       "      <td>4.072161e+06</td>\n",
       "      <td>inf</td>\n",
       "      <td>2015.000000</td>\n",
       "      <td>1.187035e+08</td>\n",
       "      <td>1.403230e+11</td>\n",
       "      <td>2.385491e+10</td>\n",
       "      <td>1.403230e+09</td>\n",
       "    </tr>\n",
       "    <tr>\n",
       "      <th>Amazon</th>\n",
       "      <td>649.899225</td>\n",
       "      <td>3591.000000</td>\n",
       "      <td>14691.294574</td>\n",
       "      <td>4.467533e+06</td>\n",
       "      <td>1.0</td>\n",
       "      <td>2.984496</td>\n",
       "      <td>2.294724e+06</td>\n",
       "      <td>NaN</td>\n",
       "      <td>NaN</td>\n",
       "      <td>NaN</td>\n",
       "      <td>0.0</td>\n",
       "      <td>4.279070</td>\n",
       "      <td>754614.124031</td>\n",
       "      <td>4.180510e+06</td>\n",
       "      <td>11.490816</td>\n",
       "      <td>2014.000000</td>\n",
       "      <td>1.218619e+08</td>\n",
       "      <td>7.849611e+10</td>\n",
       "      <td>1.334434e+10</td>\n",
       "      <td>7.849611e+08</td>\n",
       "    </tr>\n",
       "    <tr>\n",
       "      <th>Amazon Data Services Ireland Ltd</th>\n",
       "      <td>159.611111</td>\n",
       "      <td>352.388889</td>\n",
       "      <td>16509.000000</td>\n",
       "      <td>5.605888e+06</td>\n",
       "      <td>1.0</td>\n",
       "      <td>3.000000</td>\n",
       "      <td>3.766400e+04</td>\n",
       "      <td>947.0</td>\n",
       "      <td>1033.0</td>\n",
       "      <td>18.0</td>\n",
       "      <td>1.0</td>\n",
       "      <td>1.111111</td>\n",
       "      <td>908402.000000</td>\n",
       "      <td>3.610604e+06</td>\n",
       "      <td>11.515217</td>\n",
       "      <td>2015.000000</td>\n",
       "      <td>1.052491e+08</td>\n",
       "      <td>1.679893e+10</td>\n",
       "      <td>2.855818e+09</td>\n",
       "      <td>1.679893e+08</td>\n",
       "    </tr>\n",
       "    <tr>\n",
       "      <th>Amazon Technologies</th>\n",
       "      <td>861.360544</td>\n",
       "      <td>26389.364431</td>\n",
       "      <td>15132.557823</td>\n",
       "      <td>4.743879e+06</td>\n",
       "      <td>1.0</td>\n",
       "      <td>2.986395</td>\n",
       "      <td>2.681888e+06</td>\n",
       "      <td>79.0</td>\n",
       "      <td>28.0</td>\n",
       "      <td>NaN</td>\n",
       "      <td>1.0</td>\n",
       "      <td>186.807580</td>\n",
       "      <td>791947.421769</td>\n",
       "      <td>4.042160e+06</td>\n",
       "      <td>inf</td>\n",
       "      <td>2015.000000</td>\n",
       "      <td>1.178290e+08</td>\n",
       "      <td>1.009974e+11</td>\n",
       "      <td>1.716955e+10</td>\n",
       "      <td>1.009974e+09</td>\n",
       "    </tr>\n",
       "    <tr>\n",
       "      <th>Amazon Web Services, Elastic Compute Cloud, EC2, E</th>\n",
       "      <td>1244.750842</td>\n",
       "      <td>98375.164983</td>\n",
       "      <td>16509.000000</td>\n",
       "      <td>5.605888e+06</td>\n",
       "      <td>1.0</td>\n",
       "      <td>3.000000</td>\n",
       "      <td>1.023993e+05</td>\n",
       "      <td>16773.0</td>\n",
       "      <td>490119.0</td>\n",
       "      <td>1121.0</td>\n",
       "      <td>1.0</td>\n",
       "      <td>1538.680135</td>\n",
       "      <td>908402.000000</td>\n",
       "      <td>3.610604e+06</td>\n",
       "      <td>18.166269</td>\n",
       "      <td>2014.723906</td>\n",
       "      <td>1.052491e+08</td>\n",
       "      <td>1.310089e+11</td>\n",
       "      <td>2.227152e+10</td>\n",
       "      <td>1.310089e+09</td>\n",
       "    </tr>\n",
       "    <tr>\n",
       "      <th>Amazon.com</th>\n",
       "      <td>1288.522389</td>\n",
       "      <td>18324.597661</td>\n",
       "      <td>14963.841240</td>\n",
       "      <td>4.638218e+06</td>\n",
       "      <td>1.0</td>\n",
       "      <td>2.977130</td>\n",
       "      <td>9.015952e+06</td>\n",
       "      <td>844486.0</td>\n",
       "      <td>5390994.0</td>\n",
       "      <td>52585.0</td>\n",
       "      <td>1.0</td>\n",
       "      <td>1063.379024</td>\n",
       "      <td>777673.070979</td>\n",
       "      <td>4.095058e+06</td>\n",
       "      <td>inf</td>\n",
       "      <td>2014.766339</td>\n",
       "      <td>1.193709e+08</td>\n",
       "      <td>1.551136e+11</td>\n",
       "      <td>2.636931e+10</td>\n",
       "      <td>1.551136e+09</td>\n",
       "    </tr>\n",
       "  </tbody>\n",
       "</table>\n",
       "</div>"
      ],
      "text/plain": [
       "                                                       duration       packets  \\\n",
       "org                                                                             \n",
       "AMAZON                                              1173.511503   7995.733012   \n",
       "Amazon                                               649.899225   3591.000000   \n",
       "Amazon Data Services Ireland Ltd                     159.611111    352.388889   \n",
       "Amazon Technologies                                  861.360544  26389.364431   \n",
       "Amazon Web Services, Elastic Compute Cloud, EC2, E  1244.750842  98375.164983   \n",
       "Amazon.com                                          1288.522389  18324.597661   \n",
       "\n",
       "                                                        pyasn_as  \\\n",
       "org                                                                \n",
       "AMAZON                                              15036.873194   \n",
       "Amazon                                              14691.294574   \n",
       "Amazon Data Services Ireland Ltd                    16509.000000   \n",
       "Amazon Technologies                                 15132.557823   \n",
       "Amazon Web Services, Elastic Compute Cloud, EC2, E  16509.000000   \n",
       "Amazon.com                                          14963.841240   \n",
       "\n",
       "                                                    pyasn_as_bgp_size  \\\n",
       "org                                                                     \n",
       "AMAZON                                                   4.683955e+06   \n",
       "Amazon                                                   4.467533e+06   \n",
       "Amazon Data Services Ireland Ltd                         5.605888e+06   \n",
       "Amazon Technologies                                      4.743879e+06   \n",
       "Amazon Web Services, Elastic Compute Cloud, EC2, E       5.605888e+06   \n",
       "Amazon.com                                               4.638218e+06   \n",
       "\n",
       "                                                    is_oecd  \\\n",
       "org                                                           \n",
       "AMAZON                                                  1.0   \n",
       "Amazon                                                  1.0   \n",
       "Amazon Data Services Ireland Ltd                        1.0   \n",
       "Amazon Technologies                                     1.0   \n",
       "Amazon Web Services, Elastic Compute Cloud, EC2, E      1.0   \n",
       "Amazon.com                                              1.0   \n",
       "\n",
       "                                                    as_type_confidence  \\\n",
       "org                                                                      \n",
       "AMAZON                                                        2.947566   \n",
       "Amazon                                                        2.984496   \n",
       "Amazon Data Services Ireland Ltd                              3.000000   \n",
       "Amazon Technologies                                           2.986395   \n",
       "Amazon Web Services, Elastic Compute Cloud, EC2, E            3.000000   \n",
       "Amazon.com                                                    2.977130   \n",
       "\n",
       "                                                    org_rangesize  \\\n",
       "org                                                                 \n",
       "AMAZON                                               2.294716e+06   \n",
       "Amazon                                               2.294724e+06   \n",
       "Amazon Data Services Ireland Ltd                     3.766400e+04   \n",
       "Amazon Technologies                                  2.681888e+06   \n",
       "Amazon Web Services, Elastic Compute Cloud, EC2, E   1.023993e+05   \n",
       "Amazon.com                                           9.015952e+06   \n",
       "\n",
       "                                                    org_ipsize_seen  \\\n",
       "org                                                                   \n",
       "AMAZON                                                     158265.0   \n",
       "Amazon                                                          NaN   \n",
       "Amazon Data Services Ireland Ltd                              947.0   \n",
       "Amazon Technologies                                            79.0   \n",
       "Amazon Web Services, Elastic Compute Cloud, EC2, E          16773.0   \n",
       "Amazon.com                                                 844486.0   \n",
       "\n",
       "                                                    org_domainsize_seen  \\\n",
       "org                                                                       \n",
       "AMAZON                                                         334952.0   \n",
       "Amazon                                                              NaN   \n",
       "Amazon Data Services Ireland Ltd                                 1033.0   \n",
       "Amazon Technologies                                                28.0   \n",
       "Amazon Web Services, Elastic Compute Cloud, EC2, E             490119.0   \n",
       "Amazon.com                                                    5390994.0   \n",
       "\n",
       "                                                    org_ipsize_seen_shared  \\\n",
       "org                                                                          \n",
       "AMAZON                                                              2991.0   \n",
       "Amazon                                                                 NaN   \n",
       "Amazon Data Services Ireland Ltd                                      18.0   \n",
       "Amazon Technologies                                                    NaN   \n",
       "Amazon Web Services, Elastic Compute Cloud, EC2, E                  1121.0   \n",
       "Amazon.com                                                         52585.0   \n",
       "\n",
       "                                                    org_is_hosting  \\\n",
       "org                                                                  \n",
       "AMAZON                                                         1.0   \n",
       "Amazon                                                         0.0   \n",
       "Amazon Data Services Ireland Ltd                               1.0   \n",
       "Amazon Technologies                                            1.0   \n",
       "Amazon Web Services, Elastic Compute Cloud, EC2, E             1.0   \n",
       "Amazon.com                                                     1.0   \n",
       "\n",
       "                                                             dc  \\\n",
       "org                                                               \n",
       "AMAZON                                               107.777956   \n",
       "Amazon                                                 4.279070   \n",
       "Amazon Data Services Ireland Ltd                       1.111111   \n",
       "Amazon Technologies                                  186.807580   \n",
       "Amazon Web Services, Elastic Compute Cloud, EC2, E  1538.680135   \n",
       "Amazon.com                                          1063.379024   \n",
       "\n",
       "                                                    as_ipsize_seen  \\\n",
       "org                                                                  \n",
       "AMAZON                                               783851.975923   \n",
       "Amazon                                               754614.124031   \n",
       "Amazon Data Services Ireland Ltd                     908402.000000   \n",
       "Amazon Technologies                                  791947.421769   \n",
       "Amazon Web Services, Elastic Compute Cloud, EC2, E   908402.000000   \n",
       "Amazon.com                                           777673.070979   \n",
       "\n",
       "                                                    as_domainsize_seen  \\\n",
       "org                                                                      \n",
       "AMAZON                                                    4.072161e+06   \n",
       "Amazon                                                    4.180510e+06   \n",
       "Amazon Data Services Ireland Ltd                          3.610604e+06   \n",
       "Amazon Technologies                                       4.042160e+06   \n",
       "Amazon Web Services, Elastic Compute Cloud, EC2, E        3.610604e+06   \n",
       "Amazon.com                                                4.095058e+06   \n",
       "\n",
       "                                                          pps         year  \\\n",
       "org                                                                          \n",
       "AMAZON                                                    inf  2015.000000   \n",
       "Amazon                                              11.490816  2014.000000   \n",
       "Amazon Data Services Ireland Ltd                    11.515217  2015.000000   \n",
       "Amazon Technologies                                       inf  2015.000000   \n",
       "Amazon Web Services, Elastic Compute Cloud, EC2, E  18.166269  2014.723906   \n",
       "Amazon.com                                                inf  2014.766339   \n",
       "\n",
       "                                                    costs_org_domain_per_second  \\\n",
       "org                                                                               \n",
       "AMAZON                                                             1.187035e+08   \n",
       "Amazon                                                             1.218619e+08   \n",
       "Amazon Data Services Ireland Ltd                                   1.052491e+08   \n",
       "Amazon Technologies                                                1.178290e+08   \n",
       "Amazon Web Services, Elastic Compute Cloud, EC2, E                 1.052491e+08   \n",
       "Amazon.com                                                         1.193709e+08   \n",
       "\n",
       "                                                    total_costs_attack  \\\n",
       "org                                                                      \n",
       "AMAZON                                                    1.403230e+11   \n",
       "Amazon                                                    7.849611e+10   \n",
       "Amazon Data Services Ireland Ltd                          1.679893e+10   \n",
       "Amazon Technologies                                       1.009974e+11   \n",
       "Amazon Web Services, Elastic Compute Cloud, EC2, E        1.310089e+11   \n",
       "Amazon.com                                                1.551136e+11   \n",
       "\n",
       "                                                     risk_height  \\\n",
       "org                                                                \n",
       "AMAZON                                              2.385491e+10   \n",
       "Amazon                                              1.334434e+10   \n",
       "Amazon Data Services Ireland Ltd                    2.855818e+09   \n",
       "Amazon Technologies                                 1.716955e+10   \n",
       "Amazon Web Services, Elastic Compute Cloud, EC2, E  2.227152e+10   \n",
       "Amazon.com                                          2.636931e+10   \n",
       "\n",
       "                                                    maximum_investment  \n",
       "org                                                                     \n",
       "AMAZON                                                    1.403230e+09  \n",
       "Amazon                                                    7.849611e+08  \n",
       "Amazon Data Services Ireland Ltd                          1.679893e+08  \n",
       "Amazon Technologies                                       1.009974e+09  \n",
       "Amazon Web Services, Elastic Compute Cloud, EC2, E        1.310089e+09  \n",
       "Amazon.com                                                1.551136e+09  "
      ]
     },
     "execution_count": 14,
     "metadata": {},
     "output_type": "execute_result"
    }
   ],
   "source": [
    "df_mean_attacks[df_mean_attacks.index.str.contains(\"amazon\", case=False)]"
   ]
  },
  {
   "cell_type": "code",
   "execution_count": 17,
   "metadata": {},
   "outputs": [
    {
     "data": {
      "image/png": "[encoded data removed]",
      "text/plain": [
       "<Figure size 432x288 with 1 Axes>"
      ]
     },
     "metadata": {
      "needs_background": "light"
     },
     "output_type": "display_data"
    }
   ],
   "source": [
    "ax = sns.scatterplot(x=\"as_domainsize_seen\", y=\"risk_height\", size=\"duration\", data=dfROSI)\n",
    "ax.set_xlabel(\"Domain Size of an Autonomous System (number)\")\n",
    "ax.set_ylabel(\"ALE unsecured situation (euro)\")\n",
    "plt.show()"
   ]
  },
  {
   "cell_type": "code",
   "execution_count": null,
   "metadata": {},
   "outputs": [],
   "source": [
    "def secondLevelDomainName(raw_hostname):\n",
    "    '''get second-level domain name'''\n",
    "    if raw_hostname.count(\".\") >= 2:\n",
    "        d3, d2, d1 = raw_hostname.rsplit(\".\", 2)\n",
    "        if (d2 == \"com\") | (d2 == \"co\"): # e.g. \"co.uk\" or \"com.br\" \n",
    "            return raw_hostname\n",
    "        else:\n",
    "            return d2 + \".\" + d1\n",
    "    else:\n",
    "        return raw_hostname"
   ]
  },
  {
   "cell_type": "code",
   "execution_count": null,
   "metadata": {},
   "outputs": [],
   "source": [
    "hostingDomains = dfASesHosting[~dfASesHosting.raw_hostname.isna()]\n",
    "hostingDomains = hostingDomains[hostingDomains.raw_hostname != \"None\"]\n",
    "hostingDomains['hostname'] = hostingDomains.raw_hostname.apply(secondLevelDomainName)\n",
    "hostingDomains.head()"
   ]
  },
  {
   "cell_type": "code",
   "execution_count": null,
   "metadata": {},
   "outputs": [],
   "source": [
    "# top ten hosting providers under most attacks\n",
    "mostAttackedHostingProviders = hostingDomains.hostname.value_counts()[:10]\n",
    "mostAttackedHostingProviders"
   ]
  },
  {
   "cell_type": "code",
   "execution_count": null,
   "metadata": {},
   "outputs": [],
   "source": [
    "hostingDomainsMostAttacked = hostingDomains[hostingDomains.hostname.isin(mostAttackedHostingProviders.index.tolist())]\n",
    "hostingDomainsMostAttacked.sort_values(by=\"hostname\")"
   ]
  },
  {
   "cell_type": "code",
   "execution_count": null,
   "metadata": {},
   "outputs": [],
   "source": []
  },
  {
   "cell_type": "code",
   "execution_count": null,
   "metadata": {},
   "outputs": [],
   "source": [
    "hostingDomainsMostAttacked_mean = hostingDomainsMostAttacked.groupby(\"org\").mean()"
   ]
  },
  {
   "cell_type": "code",
   "execution_count": null,
   "metadata": {},
   "outputs": [],
   "source": [
    "hostingDomainsMostAttacked_mean.index.unique()"
   ]
  },
  {
   "cell_type": "code",
   "execution_count": null,
   "metadata": {},
   "outputs": [],
   "source": [
    "file2write=open(\"all_orgs\",'w')\n",
    "file2write.write(str(hostingDomainsMostAttacked_mean.index.unique()))\n",
    "file2write.close()"
   ]
  },
  {
   "cell_type": "code",
   "execution_count": null,
   "metadata": {},
   "outputs": [],
   "source": [
    "hostingDomainsMostAttacked_mean[hostingDomainsMostAttacked_mean.index.isin([\"AMAZON\", \"softlayer.com\", ])]"
   ]
  },
  {
   "cell_type": "markdown",
   "metadata": {},
   "source": [
    "## Hosting providers"
   ]
  },
  {
   "cell_type": "code",
   "execution_count": null,
   "metadata": {},
   "outputs": [],
   "source": [
    "def secondLevelDomainName(raw_hostname):\n",
    "    '''get second-level domain name'''\n",
    "    if raw_hostname.count(\".\") >= 2:\n",
    "        d3, d2, d1 = raw_hostname.rsplit(\".\", 2)\n",
    "        if (d2 == \"com\") | (d2 == \"co\"): # e.g. \"co.uk\" or \"com.br\" \n",
    "            return raw_hostname\n",
    "        else:\n",
    "            return d2 + \".\" + d1\n",
    "    else:\n",
    "        return raw_hostname"
   ]
  },
  {
   "cell_type": "code",
   "execution_count": null,
   "metadata": {},
   "outputs": [],
   "source": [
    "hostingDomains = dfASesHosting[~dfASesHosting.raw_hostname.isna()]\n",
    "hostingDomains = hostingDomains[hostingDomains.raw_hostname != \"None\"]\n",
    "hostingDomains['hostname'] = hostingDomains.raw_hostname.apply(secondLevelDomainName)\n",
    "hostingDomains.head()"
   ]
  },
  {
   "cell_type": "code",
   "execution_count": null,
   "metadata": {},
   "outputs": [],
   "source": [
    "# top ten hosting providers under most attacks\n",
    "mostAttackedHostingProviders = hostingDomains.hostname.value_counts()[:10]\n",
    "mostAttackedHostingProviders"
   ]
  },
  {
   "cell_type": "code",
   "execution_count": null,
   "metadata": {},
   "outputs": [],
   "source": [
    "# as_ipsize_seen\n",
    "\n",
    "hostingDomains_IpSizeSeen = {\n",
    "    host : hostingDomains.loc[hostingDomains.hostname == host]\n",
    "                         .as_ipsize_seen\n",
    "                         .value_counts()\n",
    "                         .reset_index()\n",
    "    for host in mostAttackedHostingProviders.index\n",
    "}\n",
    "\n",
    "# weighted domain size\n",
    "\n",
    "hostingDomains_IpSizeSeenWeighted = {\n",
    "    host: (d[\"index\"] * d[\"as_ipsize_seen\"]).sum() / d[\"as_ipsize_seen\"].sum()\n",
    "    for (host, d) in hostingDomains_IpSizeSeen.items()\n",
    "}\n",
    "\n",
    "hostingDomains_IpSizeSeenWeighted = pd.DataFrame.from_dict(hostingDomains_IpSizeSeenWeighted, \n",
    "                                                           orient=\"index\", columns=[\"ipsize_seen_weighted\"])\n",
    "hostingDomains_IpSizeSeenWeighted"
   ]
  },
  {
   "cell_type": "code",
   "execution_count": null,
   "metadata": {},
   "outputs": [],
   "source": [
    "# as_domainsize_seen\n",
    "\n",
    "hostingDomains_DomainSizeSeen = {\n",
    "    host : hostingDomains.loc[hostingDomains.hostname == host]\n",
    "                         .as_domainsize_seen\n",
    "                         .value_counts()\n",
    "                         .reset_index()\n",
    "    for host in mostAttackedHostingProviders.index\n",
    "}\n",
    "\n",
    "# weighted domain size\n",
    "\n",
    "hostingDomains_DomainSizeSeenWeighted = {\n",
    "    host: (d[\"index\"] * d[\"as_domainsize_seen\"]).sum() / d[\"as_domainsize_seen\"].sum()\n",
    "    for (host, d) in hostingDomains_DomainSizeSeen.items()\n",
    "}\n",
    "\n",
    "hostingDomains_DomainSizeSeenWeighted = pd.DataFrame.from_dict(hostingDomains_DomainSizeSeenWeighted, \n",
    "                                                               orient=\"index\", columns=[\"domainsize_seen_weighted\"])\n",
    "hostingDomains_DomainSizeSeenWeighted"
   ]
  },
  {
   "cell_type": "code",
   "execution_count": null,
   "metadata": {},
   "outputs": [],
   "source": [
    "hostingDomainsMostAttacked = hostingDomains[hostingDomains.hostname.isin(mostAttackedHostingProviders.index.tolist())]\n",
    "hostingDomainsMostAttacked.sort_values(by=\"hostname\")\n",
    "hostingDomainsMostAttacked[[\"hostname\", \"pps\"]].sample(5)"
   ]
  },
  {
   "cell_type": "code",
   "execution_count": null,
   "metadata": {},
   "outputs": [],
   "source": [
    "idSortByMostAttacks = pd.DataFrame(mostAttackedHostingProviders.index, \n",
    "                                   columns=[\"hostname\"]).reset_index()\n",
    "hostingDomainsMostAttacked = (hostingDomainsMostAttacked.merge(idSortByMostAttacks, how=\"left\", \n",
    "                                                               left_on=\"hostname\", right_on=\"hostname\")\n",
    "                                                        .sort_values(by=\"index\", ascending=False))\n",
    "hostingDomainsMostAttacked[[\"hostname\", \"pps\"]].head()"
   ]
  },
  {
   "cell_type": "code",
   "execution_count": null,
   "metadata": {},
   "outputs": [],
   "source": [
    "fig, ax = plt.subplots(1, 5, figsize=(9, 7), sharey=True)\n",
    "\n",
    "sns.boxplot(data=hostingDomainsMostAttacked, x=\"pps\", y=\"hostname\", orient=\"h\", \n",
    "            fliersize=2.5, ax=ax[1])\n",
    "ax[1].set_ylabel(\"\")\n",
    "ax[1].set_xlabel(\"(b)\")\n",
    "ax[1].set_title(\"Attack strength\\n[pps]\")\n",
    "\n",
    "sns.boxplot(data=hostingDomainsMostAttacked, x=\"duration\", y=\"hostname\", orient=\"h\", \n",
    "            fliersize=2.5, ax=ax[2])\n",
    "ax[2].set_ylabel(\"\")\n",
    "ax[2].set_xlabel(\"(c)\")\n",
    "ax[2].set_title(\"Attack duration\\n[ms]\")\n",
    "\n",
    "ax[0].barh(mostAttackedHostingProviders.index, mostAttackedHostingProviders.values, height=0.3)\n",
    "ax[0].set_title(\"Occurrence of\\nattacks\")\n",
    "ax[0].set_xlabel(\"(a)\")\n",
    "ax[0].set_xlim([0, 20000])\n",
    "ax[0].set_xticklabels([\"0\", \"1e4\", \"2e4\"])\n",
    "\n",
    "ax[3].barh(hostingDomains_IpSizeSeenWeighted.index,\n",
    "           hostingDomains_IpSizeSeenWeighted.ipsize_seen_weighted, height=0.3)\n",
    "ax[3].set_title(\"IP size\\n(weighted)\")\n",
    "ax[3].set_xlabel(\"(d)\")\n",
    "\n",
    "ax[4].barh(hostingDomains_DomainSizeSeenWeighted.index,\n",
    "           hostingDomains_DomainSizeSeenWeighted.domainsize_seen_weighted, height=0.3)\n",
    "ax[4].set_title(\"Domain size\\n(weighted)\")\n",
    "ax[4].set_xlabel(\"(e)\")\n",
    "\n",
    "ax[0].invert_yaxis()\n",
    "ax[0].grid(linestyle='--')\n",
    "ax[1].grid(linestyle='--')\n",
    "ax[2].grid(linestyle='--')\n",
    "ax[3].grid(linestyle='--')\n",
    "ax[4].grid(linestyle='--')\n",
    "\n",
    "plt.tight_layout()\n",
    "fig.savefig(\"images/top-ten-host-providers.png\")"
   ]
  },
  {
   "cell_type": "markdown",
   "metadata": {},
   "source": [
    "## Performance among hosting providers"
   ]
  },
  {
   "cell_type": "code",
   "execution_count": null,
   "metadata": {},
   "outputs": [],
   "source": [
    "hostingDomains.info()"
   ]
  },
  {
   "cell_type": "code",
   "execution_count": null,
   "metadata": {},
   "outputs": [],
   "source": [
    "hosting = [\"amazonaws.com\", \"ovh.net\", \"softlayer.com\"]\n",
    "\n",
    "sns.pairplot(hostingDomains[hostingDomains.hostname.isin(hosting)][[\"duration\", \"pps\", \"packets\", \"hostname\"]], \n",
    "             hue=\"hostname\", diag_kind=\"kde\")\n",
    "plt.ticklabel_format(style='sci', axis='x', scilimits=(0,0))"
   ]
  },
  {
   "cell_type": "code",
   "execution_count": null,
   "metadata": {},
   "outputs": [],
   "source": [
    "fig, ax = plt.subplots(figsize=(10, 2.5))\n",
    "\n",
    "ax.plot(hostingDomains[hostingDomains.hostname == \"amazonaws.com\"].groupby(\"date\").hostname.value_counts().unstack())\n",
    "ax.plot(hostingDomains[hostingDomains.hostname == \"softlayer.com\"].groupby(\"date\").hostname.value_counts().unstack())\n",
    "ax.plot(hostingDomains[hostingDomains.hostname == \"ovh.net\"].groupby(\"date\").hostname.value_counts().unstack())\n",
    "ax.legend([\"amazonaws.com\", \"softlayer.com\", \"ovh.net\"])\n",
    "ax.set_ylabel(\"Occurrence of attacks\")\n",
    "\n",
    "fig.savefig(\"images/attacks-per-day-three-hosting\")"
   ]
  },
  {
   "cell_type": "code",
   "execution_count": null,
   "metadata": {},
   "outputs": [],
   "source": [
    "hostingDomains[hostingDomains.hostname == \"amazonaws.com\"] # \"2015-08-30\""
   ]
  },
  {
   "cell_type": "code",
   "execution_count": null,
   "metadata": {},
   "outputs": [],
   "source": []
  },
  {
   "cell_type": "markdown",
   "metadata": {},
   "source": [
    "## Misc"
   ]
  },
  {
   "cell_type": "code",
   "execution_count": null,
   "metadata": {},
   "outputs": [],
   "source": [
    "# fix null values in `org`\n",
    "\n",
    "dfASesHosting[dfASesHosting.org.isna()][[\"raw_hostname\", \"raw_as\", \"org\"]].drop_duplicates()"
   ]
  },
  {
   "cell_type": "code",
   "execution_count": null,
   "metadata": {},
   "outputs": [],
   "source": [
    "dfASesHosting[dfASesHosting.raw_as.str.contains(\"SoftLayer\")].raw_as.unique()\n"
   ]
  },
  {
   "cell_type": "code",
   "execution_count": null,
   "metadata": {},
   "outputs": [],
   "source": [
    "dfASesHosting[dfASesHosting.raw_as.str.contains(\"Amazon\")][[\"raw_as\", \"org\", \"caida_type\"]].drop_duplicates()"
   ]
  },
  {
   "cell_type": "code",
   "execution_count": null,
   "metadata": {},
   "outputs": [],
   "source": [
    "dfASesHosting.loc[dfASesHosting.raw_as == \"AS21844 SoftLayer Technologies Inc.\"][[\"target_ip\", \"raw_hostname\", \"raw_as\", \"org\", \"caida_type\"]].drop_duplicates()"
   ]
  },
  {
   "cell_type": "code",
   "execution_count": null,
   "metadata": {},
   "outputs": [],
   "source": []
  },
  {
   "cell_type": "code",
   "execution_count": null,
   "metadata": {},
   "outputs": [],
   "source": []
  },
  {
   "cell_type": "code",
   "execution_count": null,
   "metadata": {},
   "outputs": [],
   "source": []
  },
  {
   "cell_type": "code",
   "execution_count": null,
   "metadata": {},
   "outputs": [],
   "source": [
    "fig, ax = plt.subplots(figsize=(10, 5))\n",
    "ax.plot(df.date.value_counts().sort_index())\n",
    "ax.set_title(\"Number of observed DDoS attacks per day\")"
   ]
  },
  {
   "cell_type": "code",
   "execution_count": null,
   "metadata": {},
   "outputs": [],
   "source": [
    "# number of attacks per day, per AS type\n",
    "\n",
    "nrAttacksPerASType = (df[[\"as_type\", \"date\"]].groupby(\"date\")\n",
    "                                             .as_type.value_counts()\n",
    "                                             .unstack().fillna(0))\n",
    "\n",
    "fig, ax = plt.subplots(figsize=(10, 5))\n",
    "ax.plot(nrAttacksPerASType)\n",
    "ax.set_title(\"Number of observed DDoS attacks per day, per AS type\")\n",
    "ax.legend(nrAttacksPerASType.columns.tolist(), title=\"AS type\")"
   ]
  },
  {
   "cell_type": "code",
   "execution_count": null,
   "metadata": {},
   "outputs": [],
   "source": [
    "# AS victims, ISP broadband & hosting\n",
    "\n",
    "asesHosting = df.loc[df[\"as_type\"] == \"hosting\"]\n",
    "asesIspBroadband = df.loc[df[\"as_type\"] == \"isp-broadband\"]"
   ]
  },
  {
   "cell_type": "code",
   "execution_count": null,
   "metadata": {},
   "outputs": [],
   "source": [
    "asesHostingNrAttacks = asesHosting.org.value_counts()"
   ]
  },
  {
   "cell_type": "code",
   "execution_count": null,
   "metadata": {},
   "outputs": [],
   "source": [
    "# top ten hosting providers under most attacks \n",
    "asesHostingNrAttacks[:10]"
   ]
  },
  {
   "cell_type": "code",
   "execution_count": null,
   "metadata": {},
   "outputs": [],
   "source": [
    "(asesHosting.loc[asesHosting.org == \"Amazon.com\"]\n",
    "            .loc[asesHosting.as_ipsize_seen == 748413.0]\n",
    "            [[\"org\", \"as_ipsize_seen\", \"raw_as\"]]\n",
    "            .drop_duplicates())\n"
   ]
  },
  {
   "cell_type": "code",
   "execution_count": null,
   "metadata": {},
   "outputs": [],
   "source": [
    "(asesHosting.loc[asesHosting.org.isin(asesHostingNrAttacks.index.tolist()[:10])]\n",
    "                [[\"org\", \"as_ipsize_seen\", \"as_domainsize_seen\", \"org_tag\"]].drop_duplicates())"
   ]
  },
  {
   "cell_type": "code",
   "execution_count": null,
   "metadata": {},
   "outputs": [],
   "source": [
    "(asesHosting.loc[asesHosting.org == \"Amazon.com\"]\n",
    "                [[\"org\", \"as_ipsize_seen\", \"as_domainsize_seen\", \"org_tag\", \"raw_as\", \"raw_hostname\"]].drop_duplicates())"
   ]
  },
  {
   "cell_type": "code",
   "execution_count": null,
   "metadata": {},
   "outputs": [],
   "source": [
    "# number of attacks against hosting providers per day, per org\n",
    "\n",
    "nrAttacksHostingPerOrg = (asesHosting.loc[asesHosting.org.isin(asesHostingNrAttacks.index.tolist()[:5])]\n",
    "                                         [[\"org\", \"date\"]]\n",
    "                                     .groupby(\"date\")\n",
    "                                     .org.value_counts()\n",
    "                                     .unstack()\n",
    "                                     .fillna(0))\n",
    "\n",
    "fig, ax = plt.subplots(figsize=(10, 5))\n",
    "ax.plot(nrAttacksHostingPerOrg)\n",
    "ax.set_title(\"Occurence of DDoS attacks against hosting providers per day, \\ntop five companies under most attacks\")\n",
    "# ax.set_yscale('log')\n",
    "ax.legend(nrAttacksHostingPerOrg.columns.tolist(), title=\"Company\")\n",
    "ax.figure.savefig(\"images/nrAttacksHostingTopFiveOrgs.png\")"
   ]
  },
  {
   "cell_type": "code",
   "execution_count": null,
   "metadata": {},
   "outputs": [],
   "source": [
    "asesRawAsAmazon = asesHosting.loc[asesHosting.raw_as.str.contains(\"Amazon\")]\n",
    "\n",
    "asesRawAsAmazon.loc[asesRawAsAmazon.org == \"Facebook\"].iloc[0]"
   ]
  },
  {
   "cell_type": "code",
   "execution_count": null,
   "metadata": {},
   "outputs": [],
   "source": []
  },
  {
   "cell_type": "code",
   "execution_count": null,
   "metadata": {},
   "outputs": [],
   "source": []
  },
  {
   "cell_type": "code",
   "execution_count": null,
   "metadata": {},
   "outputs": [],
   "source": []
  },
  {
   "cell_type": "code",
   "execution_count": null,
   "metadata": {},
   "outputs": [],
   "source": []
  }
 ],
 "metadata": {
  "kernelspec": {
   "display_name": "Python 3",
   "language": "python",
   "name": "python3"
  },
  "language_info": {
   "codemirror_mode": {
    "name": "ipython",
    "version": 3
   },
   "file_extension": ".py",
   "mimetype": "text/x-python",
   "name": "python",
   "nbconvert_exporter": "python",
   "pygments_lexer": "ipython3",
   "version": "3.7.3"
  }
 },
 "nbformat": 4,
 "nbformat_minor": 4
}
